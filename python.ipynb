{
 "cells": [
  {
   "cell_type": "markdown",
   "metadata": {
    "id": "k901S0J55TMo"
   },
   "source": [
    "# Session 1: Python\n"
   ]
  },
  {
   "cell_type": "markdown",
   "metadata": {
    "id": "b1iVOUGJ53Ur"
   },
   "source": [
    "---\n",
    "## 1. Preliminaries"
   ]
  },
  {
   "cell_type": "markdown",
   "metadata": {
    "id": "SfhOiZIJb0ha"
   },
   "source": [
    "### 1.1 Getting started"
   ]
  },
  {
   "cell_type": "markdown",
   "metadata": {
    "id": "pgPEXnan6oxk"
   },
   "source": [
    "We will be working in Google Colab throughout the course. You can find more details about Colab [here](https://https://colab.research.google.com/notebooks/basic_features_overview.ipynb).\n",
    "\n",
    "There are different styles to writing code, but try to stick consistently to a (sensible) style guide: it is essential that the code not only works but is also understandable by everyone. The \"official\" guide for `python` can be founde here:\n",
    "\n",
    "* Style guide: https://www.python.org/dev/peps/pep-0008/\n",
    "\n",
    "Rules to code properly are fairly common sense, just like those of natural language. You can make them your own (within reason), the important part is to be **consistent**."
   ]
  },
  {
   "cell_type": "markdown",
   "metadata": {
    "id": "cX0AzCRYb9Aq"
   },
   "source": [
    "### 1.2 Printing"
   ]
  },
  {
   "cell_type": "markdown",
   "metadata": {
    "id": "2PnO6gPab_gH"
   },
   "source": [
    "It can be useful to *print* what we are running on the console, this can be done with the built-in `print` command. You might have noticed that Colab notebooks automatically display the value of the last expression in a cell when you execute it, so you don't need to print that."
   ]
  },
  {
   "cell_type": "code",
   "execution_count": 1,
   "metadata": {
    "id": "d_9s6Bf8cpc3"
   },
   "outputs": [
    {
     "name": "stdout",
     "output_type": "stream",
     "text": [
      "7.5\n"
     ]
    },
    {
     "data": {
      "text/plain": [
       "True"
      ]
     },
     "execution_count": 1,
     "metadata": {},
     "output_type": "execute_result"
    }
   ],
   "source": [
    "# Colab automatically prints \"y\" to \"out\", \n",
    "# but we need to manually print \"x\" if we want to see it\n",
    "x = 15 / 2\n",
    "print(x)\n",
    "y = x > 2\n",
    "y"
   ]
  },
  {
   "cell_type": "markdown",
   "metadata": {
    "id": "4rSy59I3cucE"
   },
   "source": [
    "We may want to use placeholders to print strings. There are a number of ways to do that."
   ]
  },
  {
   "cell_type": "code",
   "execution_count": 2,
   "metadata": {
    "id": "8tyzuNHxc0nC"
   },
   "outputs": [
    {
     "data": {
      "text/plain": [
       "'15 divided by 2 is 7.5, and it is True that this is greater than 2'"
      ]
     },
     "execution_count": 2,
     "metadata": {},
     "output_type": "execute_result"
    }
   ],
   "source": [
    "a = 15\n",
    "b = 2\n",
    "c = 2\n",
    "f'{a} divided by {b} is {a/b}, and it is {(a/b) > c} that this is greater than {c}'"
   ]
  },
  {
   "cell_type": "markdown",
   "metadata": {
    "id": "mfEpL8JBdIAn"
   },
   "source": [
    "We will go into what these objects are shortly."
   ]
  },
  {
   "cell_type": "markdown",
   "metadata": {
    "id": "0lSx3E5L55l5"
   },
   "source": [
    "---\n",
    "## 2. Basic data types"
   ]
  },
  {
   "cell_type": "markdown",
   "metadata": {
    "id": "L3LxvHCo8Y_y"
   },
   "source": [
    "Here we highlight the most important native operations you can apply to basic objects in `python`. We will go to a lower level of detail of the structure of these processes in the `R` session later in the afternoon."
   ]
  },
  {
   "cell_type": "markdown",
   "metadata": {
    "id": "ALmxGUmT7zfK"
   },
   "source": [
    "### 2.1 Numerical values"
   ]
  },
  {
   "cell_type": "code",
   "execution_count": 3,
   "metadata": {
    "id": "QGPKp_wz73SK"
   },
   "outputs": [],
   "source": [
    "# Assignment\n",
    "a = 10  # 10\n",
    "\n",
    "# Increment/Decrement\n",
    "a += 1  # 11 (a = a + 1)\n",
    "a -= 1  # 10 (a = a - 1)\n",
    "\n",
    "# Operations\n",
    "b = a + 1  # 11\n",
    "c = a - 1  # 9\n",
    "\n",
    "d = a * 2  # 20 \n",
    "e = a / 2  # 5 \n",
    "f = a % 3  # 1 (remainder)\n",
    "g = a ** 2  # 100 (exponentiation)\n",
    "\n",
    "# Operations with other variables\n",
    "d = a + b  # 21"
   ]
  },
  {
   "cell_type": "markdown",
   "metadata": {
    "id": "PIAmentK-wVe"
   },
   "source": [
    "### 2.2 String values"
   ]
  },
  {
   "cell_type": "markdown",
   "metadata": {
    "id": "OS9btwsK3iz8"
   },
   "source": [
    "You can concatenate strings together with the `+` operator:"
   ]
  },
  {
   "cell_type": "code",
   "execution_count": 4,
   "metadata": {
    "id": "-Mre_VMc3lDA"
   },
   "outputs": [
    {
     "data": {
      "text/plain": [
       "'Adding strings is pasting'"
      ]
     },
     "execution_count": 4,
     "metadata": {},
     "output_type": "execute_result"
    }
   ],
   "source": [
    "\"Adding\" + \" \" + \"strings\" + \" \" + \"is\" + \" \" + \"pasting\""
   ]
  },
  {
   "cell_type": "markdown",
   "metadata": {
    "id": "cb2NEoPi_bF5"
   },
   "source": [
    "The built-in function `len` can be used to find the length of a string:"
   ]
  },
  {
   "cell_type": "code",
   "execution_count": 5,
   "metadata": {
    "id": "fw50LqOB_n7i"
   },
   "outputs": [
    {
     "data": {
      "text/plain": [
       "4"
      ]
     },
     "execution_count": 5,
     "metadata": {},
     "output_type": "execute_result"
    }
   ],
   "source": [
    "len(\"four\")"
   ]
  },
  {
   "cell_type": "code",
   "execution_count": 6,
   "metadata": {},
   "outputs": [
    {
     "data": {
      "text/plain": [
       "4"
      ]
     },
     "execution_count": 6,
     "metadata": {},
     "output_type": "execute_result"
    }
   ],
   "source": [
    "len(\"Doha\")"
   ]
  },
  {
   "cell_type": "markdown",
   "metadata": {
    "id": "ttKbVcsS__75"
   },
   "source": [
    "### 2.3 Logical values"
   ]
  },
  {
   "cell_type": "markdown",
   "metadata": {
    "id": "Ack7Ie9hADu1"
   },
   "source": [
    "We can evaluate the relationships between different types of data in `python`. The output of such comparisons/operations are boolean variables. Some examples:"
   ]
  },
  {
   "cell_type": "code",
   "execution_count": 7,
   "metadata": {
    "id": "R7yoaWRxAR75"
   },
   "outputs": [
    {
     "name": "stdout",
     "output_type": "stream",
     "text": [
      "False\n",
      "False\n",
      "True\n"
     ]
    }
   ],
   "source": [
    "# Comparing numbers\n",
    "x = (1 >= 2)  # greater or equal\n",
    "y = (1 == 2)  # equal\n",
    "w = (1 != 2)  # different\n",
    "\n",
    "print(x)\n",
    "print(y)\n",
    "print(w)"
   ]
  },
  {
   "cell_type": "code",
   "execution_count": 8,
   "metadata": {},
   "outputs": [
    {
     "name": "stdout",
     "output_type": "stream",
     "text": [
      "True\n",
      "True\n"
     ]
    }
   ],
   "source": [
    "# Parentheses are not required, but they help readability\n",
    "x = (1 <= 2) and (1 > 0)  # both statements are true\n",
    "y = (1 >  2) or  (1 < 3)  # at least one statement is true\n",
    "\n",
    "print(x)\n",
    "print(y)"
   ]
  },
  {
   "cell_type": "code",
   "execution_count": 9,
   "metadata": {},
   "outputs": [
    {
     "name": "stdout",
     "output_type": "stream",
     "text": [
      "None\n",
      "True\n",
      "False\n"
     ]
    }
   ],
   "source": [
    "# It is good practice to use \"is\" instead of == for checking for NoneType:\n",
    "x = None\n",
    "y = x is None\n",
    "z = x is not None\n",
    "print(x)\n",
    "print(y)\n",
    "print(z)"
   ]
  },
  {
   "cell_type": "markdown",
   "metadata": {
    "id": "efHt1_g-BJ4i"
   },
   "source": [
    "### 2.4 Lists"
   ]
  },
  {
   "cell_type": "markdown",
   "metadata": {
    "id": "R6jA6M0NBMYH"
   },
   "source": [
    "Lists are one of the simplest multi-value objects. They are created with square brackets:"
   ]
  },
  {
   "cell_type": "code",
   "execution_count": 10,
   "metadata": {
    "id": "4pt3sqnIBXgC"
   },
   "outputs": [
    {
     "data": {
      "text/plain": [
       "['This', 'is', 'a', 'list', 'of', 'strings']"
      ]
     },
     "execution_count": 10,
     "metadata": {},
     "output_type": "execute_result"
    }
   ],
   "source": [
    "a_list = [\"This\", \"is\", \"a\", \"list\", \"of\", \"strings\"]\n",
    "a_list"
   ]
  },
  {
   "cell_type": "markdown",
   "metadata": {
    "id": "uNq8FYyJBZ0Y"
   },
   "source": [
    "Here you can see we created a list of strings. We can also create a list of integers:"
   ]
  },
  {
   "cell_type": "code",
   "execution_count": 11,
   "metadata": {
    "id": "64GEKJqlBcGu"
   },
   "outputs": [
    {
     "data": {
      "text/plain": [
       "[1, 5, 10]"
      ]
     },
     "execution_count": 11,
     "metadata": {},
     "output_type": "execute_result"
    }
   ],
   "source": [
    "num_list = [1, 5, 10]\n",
    "num_list"
   ]
  },
  {
   "cell_type": "markdown",
   "metadata": {
    "id": "CLB9pIonBdy4"
   },
   "source": [
    "Lists in `python` need not be homogenous, you can mix object types:"
   ]
  },
  {
   "cell_type": "code",
   "execution_count": 12,
   "metadata": {
    "id": "urM7nYg7BrLa"
   },
   "outputs": [
    {
     "data": {
      "text/plain": [
       "['a', 'b', 1, 2, 3, True, None]"
      ]
     },
     "execution_count": 12,
     "metadata": {},
     "output_type": "execute_result"
    }
   ],
   "source": [
    "mix_list = ['a', 'b', 1, 2, 3, True, None]\n",
    "mix_list"
   ]
  },
  {
   "cell_type": "markdown",
   "metadata": {
    "id": "XwN-26sZDUyR"
   },
   "source": [
    "Sometimes you want to access individual elements from a list. You can do this using square brackets together with the index of the element:"
   ]
  },
  {
   "cell_type": "code",
   "execution_count": 13,
   "metadata": {
    "id": "WHBHYzX0DfWz"
   },
   "outputs": [
    {
     "data": {
      "text/plain": [
       "'a'"
      ]
     },
     "execution_count": 13,
     "metadata": {},
     "output_type": "execute_result"
    }
   ],
   "source": [
    "mix_list[0]  # first element"
   ]
  },
  {
   "cell_type": "code",
   "execution_count": 14,
   "metadata": {},
   "outputs": [],
   "source": [
    "mix_list[-1]"
   ]
  },
  {
   "cell_type": "code",
   "execution_count": 15,
   "metadata": {},
   "outputs": [
    {
     "data": {
      "text/plain": [
       "True"
      ]
     },
     "execution_count": 15,
     "metadata": {},
     "output_type": "execute_result"
    }
   ],
   "source": [
    "mix_list[-2]"
   ]
  },
  {
   "cell_type": "markdown",
   "metadata": {
    "id": "QpGdZZykDiGH"
   },
   "source": [
    "Notice that the first element is indexed at `0`, the second element at `1`, and so on. You can also access a contiguous range of elements:"
   ]
  },
  {
   "cell_type": "code",
   "execution_count": 16,
   "metadata": {
    "id": "Tyr2SuVDD8Kz"
   },
   "outputs": [
    {
     "data": {
      "text/plain": [
       "['b', 1]"
      ]
     },
     "execution_count": 16,
     "metadata": {},
     "output_type": "execute_result"
    }
   ],
   "source": [
    "mix_list[1:3]  # second item (index 1) and third item (index 2) only!"
   ]
  },
  {
   "cell_type": "markdown",
   "metadata": {
    "id": "K2p5_rBdD8d_"
   },
   "source": [
    "You can also use negative indices to access items from the end. For example, the last item:"
   ]
  },
  {
   "cell_type": "code",
   "execution_count": 17,
   "metadata": {},
   "outputs": [
    {
     "data": {
      "text/plain": [
       "[1, 5, 10]"
      ]
     },
     "execution_count": 17,
     "metadata": {},
     "output_type": "execute_result"
    }
   ],
   "source": [
    "num_list"
   ]
  },
  {
   "cell_type": "code",
   "execution_count": 18,
   "metadata": {
    "id": "TWy7MJxgElK6"
   },
   "outputs": [
    {
     "data": {
      "text/plain": [
       "10"
      ]
     },
     "execution_count": 18,
     "metadata": {},
     "output_type": "execute_result"
    }
   ],
   "source": [
    "num_list[-1]"
   ]
  },
  {
   "cell_type": "markdown",
   "metadata": {
    "id": "jHjQuz1tEmqY"
   },
   "source": [
    "You can concatenate multiple lists together with the operator `+`:"
   ]
  },
  {
   "cell_type": "code",
   "execution_count": 19,
   "metadata": {
    "id": "He1EJxmEEqQB"
   },
   "outputs": [
    {
     "data": {
      "text/plain": [
       "[1, 5, 10, 40, 50, 60]"
      ]
     },
     "execution_count": 19,
     "metadata": {},
     "output_type": "execute_result"
    }
   ],
   "source": [
    "num_list + [40, 50, 60]"
   ]
  },
  {
   "cell_type": "markdown",
   "metadata": {
    "id": "PxcdjNw8EvUK"
   },
   "source": [
    "And you can check for membership with the operator `in`:"
   ]
  },
  {
   "cell_type": "code",
   "execution_count": 20,
   "metadata": {
    "id": "ovRmqqUJEwek"
   },
   "outputs": [
    {
     "data": {
      "text/plain": [
       "True"
      ]
     },
     "execution_count": 20,
     "metadata": {},
     "output_type": "execute_result"
    }
   ],
   "source": [
    "\"abc\" in [\"abc\", \"def\", \"ghi\"]"
   ]
  },
  {
   "cell_type": "markdown",
   "metadata": {
    "id": "Z2E16wDvFeIZ"
   },
   "source": [
    "### 2.5 Tuples"
   ]
  },
  {
   "cell_type": "markdown",
   "metadata": {
    "id": "osObGrVNFfyg"
   },
   "source": [
    "Tuples are created with parenthesis:"
   ]
  },
  {
   "cell_type": "code",
   "execution_count": 21,
   "metadata": {
    "id": "fZ4nb17kJHJ5"
   },
   "outputs": [],
   "source": [
    "x = (\"foo\", 1)"
   ]
  },
  {
   "cell_type": "markdown",
   "metadata": {
    "id": "7BlKBu2HJJi1"
   },
   "source": [
    "But can also be created without any perenthesis, implied by the comma:"
   ]
  },
  {
   "cell_type": "code",
   "execution_count": 22,
   "metadata": {
    "id": "7n0qmH5tJNrg"
   },
   "outputs": [],
   "source": [
    "x = \"foo\", 1"
   ]
  },
  {
   "cell_type": "markdown",
   "metadata": {
    "id": "dPP0Mc8NJVD2"
   },
   "source": [
    "Elements in the tuple are also accessed via the index (like lists).\n",
    "\n",
    "Lists can be used most places that a tuple is used, so it can be confusing what the difference is between the two. Besides technicalities, the following rules can help you decide when to use a tuple and when to use a list:\n",
    "\n",
    "* `list`: many elements (potentially), unknown number, relatively homogenous, mutable.\n",
    "* `tuple`: few elements, fixed number, completely heterogeneous, immutable (fixed).\n",
    "\n",
    "The name comes from here: double, triple, quadruple... This hints that they should be of fixed length.\n",
    "Since their length is fixed, we often use them with destructuring:"
   ]
  },
  {
   "cell_type": "code",
   "execution_count": 23,
   "metadata": {
    "id": "3GSf2ClZKZIA"
   },
   "outputs": [],
   "source": [
    "name,num = x"
   ]
  },
  {
   "cell_type": "code",
   "execution_count": 24,
   "metadata": {},
   "outputs": [
    {
     "data": {
      "text/plain": [
       "'foo'"
      ]
     },
     "execution_count": 24,
     "metadata": {},
     "output_type": "execute_result"
    }
   ],
   "source": [
    "name"
   ]
  },
  {
   "cell_type": "code",
   "execution_count": 25,
   "metadata": {},
   "outputs": [
    {
     "data": {
      "text/plain": [
       "1"
      ]
     },
     "execution_count": 25,
     "metadata": {},
     "output_type": "execute_result"
    }
   ],
   "source": [
    "num"
   ]
  },
  {
   "cell_type": "markdown",
   "metadata": {
    "id": "b0IAsgKFKmmS"
   },
   "source": [
    "Now the variable `name` contains the value `\"foo\"` and the variable `num` contains the value `1`."
   ]
  },
  {
   "cell_type": "markdown",
   "metadata": {
    "id": "sZtLa308Kwvr"
   },
   "source": [
    "### 2.6 Dictionaries"
   ]
  },
  {
   "cell_type": "markdown",
   "metadata": {
    "id": "e1q1Dtd8KzNj"
   },
   "source": [
    "Dictionaries are another basic type in `python`. They are *associative* data structures. Like a standard dictionary, python dictionaries associate a `KEY` with a `VALUE` and are created with the `{`, `}` operators:\n"
   ]
  },
  {
   "cell_type": "code",
   "execution_count": 26,
   "metadata": {
    "id": "r54_5dJqKy1J"
   },
   "outputs": [],
   "source": [
    "player = {\"name\": \"Jane\", \"score\": 10000}"
   ]
  },
  {
   "cell_type": "code",
   "execution_count": 27,
   "metadata": {},
   "outputs": [
    {
     "data": {
      "text/plain": [
       "{'name': 'Jane', 'score': 10000}"
      ]
     },
     "execution_count": 27,
     "metadata": {},
     "output_type": "execute_result"
    }
   ],
   "source": [
    "player"
   ]
  },
  {
   "cell_type": "markdown",
   "metadata": {
    "id": "7j2xSMqZLI49"
   },
   "source": [
    "You can access the value via the *key*, and set it in a similar way:\n"
   ]
  },
  {
   "cell_type": "code",
   "execution_count": 28,
   "metadata": {
    "id": "QmrWJRGpLP-g"
   },
   "outputs": [
    {
     "name": "stdout",
     "output_type": "stream",
     "text": [
      "Jane\n"
     ]
    }
   ],
   "source": [
    "print(player[\"name\"])\n",
    "player[\"name\"] = \"Jane Smith\""
   ]
  },
  {
   "cell_type": "code",
   "execution_count": 29,
   "metadata": {},
   "outputs": [
    {
     "name": "stdout",
     "output_type": "stream",
     "text": [
      "Jane Smith\n"
     ]
    }
   ],
   "source": [
    "print(player['name'])"
   ]
  },
  {
   "cell_type": "markdown",
   "metadata": {
    "id": "QCJ4nduwLSib"
   },
   "source": [
    "Each key can only have one value. In the above example, we have overwritten the original `\"name\"`-key with a new value."
   ]
  },
  {
   "cell_type": "code",
   "execution_count": 30,
   "metadata": {
    "id": "ofd6U6PlLRzw"
   },
   "outputs": [
    {
     "name": "stdout",
     "output_type": "stream",
     "text": [
      "{'name': 'John', 'score': 100, 'likes': ['R']}\n",
      "John\n",
      "John\n"
     ]
    }
   ],
   "source": [
    "# Create a list whose elements are of type dictionary\n",
    "# Each element on the list is a player, and each player has three attributes.\n",
    "players = [{\"name\": \"John\", \"score\": 100, \"likes\": [\"R\"]},\n",
    "           {\"name\": \"Jane\", \"score\": 10000, \"likes\": [\"python\"]},\n",
    "           {\"name\": \"Stephen\", \"score\": 55, \"likes\": [\"julia\"]}]\n",
    "print(players[0])\n",
    "\n",
    "# We can fetch elements of the dictionary\n",
    "print(players[0]['name'])\n",
    "print(players[0].get('name'))"
   ]
  },
  {
   "cell_type": "code",
   "execution_count": 31,
   "metadata": {},
   "outputs": [
    {
     "data": {
      "text/plain": [
       "'John'"
      ]
     },
     "execution_count": 31,
     "metadata": {},
     "output_type": "execute_result"
    }
   ],
   "source": [
    "players[0].get('name')"
   ]
  },
  {
   "cell_type": "markdown",
   "metadata": {
    "id": "ITdXvXL9MoL4"
   },
   "source": [
    "### 2.7 Properties of an object: instances, attributes and methods"
   ]
  },
  {
   "cell_type": "markdown",
   "metadata": {
    "id": "sRingHOhMtrn"
   },
   "source": [
    "Objects in `python` have *classes*. For example:"
   ]
  },
  {
   "cell_type": "code",
   "execution_count": 32,
   "metadata": {
    "id": "Q2kP5A3ZNpJv"
   },
   "outputs": [
    {
     "data": {
      "text/plain": [
       "list"
      ]
     },
     "execution_count": 32,
     "metadata": {},
     "output_type": "execute_result"
    }
   ],
   "source": [
    "new_list = [1, 2, 3]  # Create a list\n",
    "type(new_list)  # This function tells you the type of object"
   ]
  },
  {
   "cell_type": "code",
   "execution_count": 33,
   "metadata": {},
   "outputs": [
    {
     "data": {
      "text/plain": [
       "int"
      ]
     },
     "execution_count": 33,
     "metadata": {},
     "output_type": "execute_result"
    }
   ],
   "source": [
    "type(new_list[0])"
   ]
  },
  {
   "cell_type": "markdown",
   "metadata": {
    "id": "qf0UUgfDOfih"
   },
   "source": [
    "`new_list` is an ***instance*** of the class `list`. Instances can have ***attributes***. These attributes are just properties that are attached to the instance. They are accessed with dot notation:"
   ]
  },
  {
   "cell_type": "code",
   "execution_count": 34,
   "metadata": {
    "id": "CMcA_TJeOpz5"
   },
   "outputs": [
    {
     "name": "stdout",
     "output_type": "stream",
     "text": [
      "<class '__main__.invented_class'>\n",
      "100\n"
     ]
    }
   ],
   "source": [
    "# I define my own class: custom types\n",
    "class invented_class: \n",
    "    name = \"John\"\n",
    "    score = 100\n",
    "    def show(self): \n",
    "        print (self.name) \n",
    "        print (self.score) \n",
    " \n",
    "# Create an object of this new class\n",
    "new_obj = invented_class()\n",
    "print(type(new_obj))\n",
    "print(new_obj.score)"
   ]
  },
  {
   "cell_type": "markdown",
   "metadata": {
    "id": "iXGSKWVVVWnz"
   },
   "source": [
    "Here `new_obj` is an instance of the class `invented_class`, and it has attributes `name` and `score`.\n",
    "\n",
    "If the attribute happens to be a function, we call it a ***method***. Methods are functions that have a special purpose: they interact with the instance itself in some way."
   ]
  },
  {
   "cell_type": "markdown",
   "metadata": {
    "id": "qJoRcRp5VYvo"
   },
   "source": [
    "---\n",
    "## 3. Iterables and control flow"
   ]
  },
  {
   "cell_type": "markdown",
   "metadata": {
    "id": "zFU8SWjVV6H6"
   },
   "source": [
    "### 3.1 Iterate over elements of an object (`for`-loops)"
   ]
  },
  {
   "cell_type": "markdown",
   "metadata": {
    "id": "9JpM-fpZWY6t"
   },
   "source": [
    "You may want to perform an operation for each element in an *iterable* object, and (possibly) store the result of such operation. We do that by *looping* over this object operating on every of its elements sequentially."
   ]
  },
  {
   "cell_type": "code",
   "execution_count": 35,
   "metadata": {
    "id": "H9WZEeFbW4ib"
   },
   "outputs": [
    {
     "data": {
      "text/plain": [
       "[1, 4, 9, 16, 25, 36, 49, 64, 81, 100]"
      ]
     },
     "execution_count": 35,
     "metadata": {},
     "output_type": "execute_result"
    }
   ],
   "source": [
    "vector = [1, 2, 3, 4, 5, 6, 7, 8, 9, 10]\n",
    "squared = []\n",
    "for num in vector:\n",
    "    squared_num = num ** 2\n",
    "    squared = squared + [squared_num]\n",
    "\n",
    "squared"
   ]
  },
  {
   "cell_type": "code",
   "execution_count": 36,
   "metadata": {},
   "outputs": [
    {
     "data": {
      "text/plain": [
       "[1.0, 2.0, 3.0]"
      ]
     },
     "execution_count": 36,
     "metadata": {},
     "output_type": "execute_result"
    }
   ],
   "source": [
    "vec = [1, 4, 9]\n",
    "square = []\n",
    "for a in vec:\n",
    "  square_a = a ** 0.5\n",
    "  square = square + [square_a]\n",
    "\n",
    "square"
   ]
  },
  {
   "cell_type": "markdown",
   "metadata": {
    "id": "_b9SngyoTH99"
   },
   "source": [
    "The structure of the loop is critical and always the same: \n",
    "\n",
    "```\n",
    "## NOT RUN\n",
    "for ELEMENT in EXISTING_OBJECT:  # Use \"for\", \"in\" and \":\"\n",
    "    operation_on(ELEMENT)  # Indent 4 spaces (MANDATORY)\n",
    "\n",
    "# Loop ENDS when indentation is over\n",
    "## END NOT RUN\n",
    "```\n",
    "\n",
    "`for`-loops are applicable to every instance of an iterable object class: `list`, `tuple`, `dictionary`."
   ]
  },
  {
   "cell_type": "markdown",
   "metadata": {
    "id": "bY1ElGnIUUkc"
   },
   "source": [
    "### 3.2 Operations on lists"
   ]
  },
  {
   "cell_type": "markdown",
   "metadata": {
    "id": "k47nhIzZUbM0"
   },
   "source": [
    "There are three main operations we perform on a list:\n",
    "1. Aggregate (*reduce* operation)\n",
    "2. Apply a function to each element (*map* operation)\n",
    "3. Select elements (*filter* operation)\n",
    "\n",
    "We illustrate these with some examples."
   ]
  },
  {
   "cell_type": "code",
   "execution_count": 37,
   "metadata": {
    "id": "Bp6suLZTUw6h"
   },
   "outputs": [
    {
     "name": "stdout",
     "output_type": "stream",
     "text": [
      "148.5\n"
     ]
    }
   ],
   "source": [
    "# 1. AGGREGATION\n",
    "# Summing the numbers in a list: \n",
    "nums = [30, 1, 4, 3, 10.5, 100]\n",
    "total = 0 \n",
    "for num in nums:\n",
    "    total += num\n",
    "    \n",
    "print(total)"
   ]
  },
  {
   "cell_type": "code",
   "execution_count": 38,
   "metadata": {},
   "outputs": [
    {
     "data": {
      "text/plain": [
       "148.5"
      ]
     },
     "execution_count": 38,
     "metadata": {},
     "output_type": "execute_result"
    }
   ],
   "source": [
    "sum(nums)"
   ]
  },
  {
   "cell_type": "code",
   "execution_count": 39,
   "metadata": {},
   "outputs": [
    {
     "name": "stdout",
     "output_type": "stream",
     "text": [
      "15\n"
     ]
    }
   ],
   "source": [
    "numbers = [1, 2, 3, 4, 5]\n",
    "summ = 0\n",
    "for num in numbers:\n",
    "  summ += num\n",
    "\n",
    "print(summ)"
   ]
  },
  {
   "cell_type": "code",
   "execution_count": 40,
   "metadata": {},
   "outputs": [
    {
     "data": {
      "text/plain": [
       "15"
      ]
     },
     "execution_count": 40,
     "metadata": {},
     "output_type": "execute_result"
    }
   ],
   "source": [
    "sum(numbers)"
   ]
  },
  {
   "cell_type": "code",
   "execution_count": 41,
   "metadata": {
    "id": "Gkii4ZxdTYM5"
   },
   "outputs": [
    {
     "data": {
      "text/plain": [
       "[900, 1, 16, 9, 110.25, 10000]"
      ]
     },
     "execution_count": 41,
     "metadata": {},
     "output_type": "execute_result"
    }
   ],
   "source": [
    "# 2. APPLY A FUNCTION \n",
    "# Squaring each number in a list\n",
    "nums = [30, 1, 4, 3, 10.5, 100]\n",
    "\n",
    "# This is called a \"list comprehension\"\n",
    "# and is the python way to apply a function to \n",
    "# every element in a list\n",
    "squared_nums = [num ** 2 for num in nums]\n",
    "squared_nums"
   ]
  },
  {
   "cell_type": "code",
   "execution_count": 42,
   "metadata": {
    "id": "OVhIbOMATZg_"
   },
   "outputs": [
    {
     "data": {
      "text/plain": [
       "[21, 45, 97]"
      ]
     },
     "execution_count": 42,
     "metadata": {},
     "output_type": "execute_result"
    }
   ],
   "source": [
    "# 3. FILTER\n",
    "# Remove all values less than 18:\n",
    "ages = [0, 3, 21, 45, 10, 97]\n",
    "adults = [a for a in ages if a > 17]\n",
    "adults"
   ]
  },
  {
   "cell_type": "code",
   "execution_count": 43,
   "metadata": {},
   "outputs": [
    {
     "data": {
      "text/plain": [
       "[0, 3, 10]"
      ]
     },
     "execution_count": 43,
     "metadata": {},
     "output_type": "execute_result"
    }
   ],
   "source": [
    "ages = [0, 3, 21, 45, 10, 97]\n",
    "teen = [a for a in ages if a <= 17]\n",
    "teen"
   ]
  },
  {
   "cell_type": "code",
   "execution_count": 44,
   "metadata": {},
   "outputs": [
    {
     "data": {
      "text/plain": [
       "[1, 4, 9, 16]"
      ]
     },
     "execution_count": 44,
     "metadata": {},
     "output_type": "execute_result"
    }
   ],
   "source": [
    "numb = [1, 2, 3, 4]\n",
    "sq_numb = [a ** 2 for a in numb]\n",
    "sq_numb"
   ]
  },
  {
   "cell_type": "markdown",
   "metadata": {
    "id": "f_i9jP5UA-et"
   },
   "source": [
    "### 3.3 Control flow\n",
    "\n",
    "Sometimes you may want to operate only if the object satisfies some relevant criteria, for example make a decision based on some condition holds. In these cases we use `if`-statement operations."
   ]
  },
  {
   "cell_type": "code",
   "execution_count": 45,
   "metadata": {
    "id": "KxWCcopQZdbc"
   },
   "outputs": [
    {
     "name": "stdout",
     "output_type": "stream",
     "text": [
      "boy\n"
     ]
    }
   ],
   "source": [
    "gender = \"male\"\n",
    "age = 2 \n",
    "\n",
    "# Start of if-statement\n",
    "if gender == \"female\":\n",
    "    if age > 18:\n",
    "        print(\"woman\")\n",
    "    else: \n",
    "        print(\"girl\")\n",
    "elif gender == \"male\":\n",
    "    if age > 18:\n",
    "        print(\"man\")\n",
    "    else: \n",
    "        print(\"boy\")\n",
    "else:\n",
    "    print(\"other\")\n"
   ]
  },
  {
   "cell_type": "code",
   "execution_count": 46,
   "metadata": {},
   "outputs": [
    {
     "name": "stdout",
     "output_type": "stream",
     "text": [
      "Middle class\n"
     ]
    }
   ],
   "source": [
    "salary = 700\n",
    "country = 'America'\n",
    "\n",
    "if country == 'America':\n",
    "  if salary > 500:\n",
    "    print('Middle class')\n",
    "  else:\n",
    "    print('Poor')\n",
    "elif country == 'China':\n",
    "  if salary > 300:\n",
    "    print('Middle class')\n",
    "  else:\n",
    "    print('Poor') "
   ]
  },
  {
   "cell_type": "markdown",
   "metadata": {
    "id": "RxtUgU61aUb0"
   },
   "source": [
    "Again, the structure of an `if`-statement is always the same, so it is essential that we use it correctly\n",
    "\n",
    "```\n",
    "## NOT RUN\n",
    "if BOOLEAN:  # Use: \"if\", \":\" and supply a boolean condition\n",
    "    ACTION1a  # Indent with 4 spaces\n",
    "    ACTION1b\n",
    "elif BOOLEAN:  # Second layer to \"if\" (else-if)\n",
    "    ACTION2\n",
    "else:  # Rest of scenarios (make sure all contingencies are covered)\n",
    "    ACTION3\n",
    "\n",
    "## END NOT RUN\n",
    "```\n",
    "\n",
    "Like in `for`-loops, statements are closed by indentation."
   ]
  },
  {
   "cell_type": "markdown",
   "metadata": {
    "id": "Weux1hPQYqfB"
   },
   "source": [
    "---\n",
    "## 4. Input/output\n",
    "\n",
    "`python` treats external files as any other regular data type, and so they have attributes, etc. There are two actions to perform on these files, read and write."
   ]
  },
  {
   "cell_type": "markdown",
   "metadata": {
    "id": "0dvCPbeMIG52"
   },
   "source": [
    "In short, the built-in function `open` creates a `python` file object, which serves as a link to a file residing on your machine. After calling `open`, you can transfer strings of data to and from the associated external file by calling the returned file object’s methods.\n",
    "\n",
    "Then, `with` is a file context manager which allows us to wrap file-processing code in a logic layer that ensures that the file will be closed automatically on exit."
   ]
  },
  {
   "cell_type": "code",
   "execution_count": 47,
   "metadata": {},
   "outputs": [],
   "source": [
    "with open('simple_example.txt', 'w') as file:\n",
    "    for i in range(10):\n",
    "        file.write(f'I have written {i+1} lines \\n')"
   ]
  },
  {
   "cell_type": "code",
   "execution_count": 48,
   "metadata": {
    "id": "5PMUxKjeCx9F"
   },
   "outputs": [
    {
     "name": "stdout",
     "output_type": "stream",
     "text": [
      "I have written 1 lines \n",
      "I have written 2 lines \n",
      "I have written 3 lines \n",
      "I have written 4 lines \n",
      "I have written 5 lines \n",
      "I have written 6 lines \n",
      "I have written 7 lines \n",
      "I have written 8 lines \n",
      "I have written 9 lines \n",
      "I have written 10 lines \n",
      "\n"
     ]
    }
   ],
   "source": [
    "# Let's read the file into a variable:\n",
    "with open('simple_example.txt') as file:\n",
    "    content = file.read()\n",
    "\n",
    "print(content)"
   ]
  },
  {
   "cell_type": "code",
   "execution_count": 49,
   "metadata": {
    "id": "FNKuMqEIEfqa"
   },
   "outputs": [
    {
     "name": "stdout",
     "output_type": "stream",
     "text": [
      "I have written 1 lines \n",
      "\n",
      "I have written 2 lines \n",
      "\n",
      "I have written 3 lines \n",
      "\n",
      "I have written 4 lines \n",
      "\n",
      "I have written 5 lines \n",
      "\n",
      "I have written 6 lines \n",
      "\n",
      "I have written 7 lines \n",
      "\n",
      "I have written 8 lines \n",
      "\n",
      "I have written 9 lines \n",
      "\n",
      "I have written 10 lines \n",
      "\n"
     ]
    }
   ],
   "source": [
    "# The file object is actually an iterator, so we can do our usual tricks:\n",
    "with open('simple_example.txt') as file:\n",
    "    for line in file: \n",
    "        print(line)"
   ]
  },
  {
   "cell_type": "code",
   "execution_count": 50,
   "metadata": {
    "id": "VbY8GoQPFFA3"
   },
   "outputs": [
    {
     "data": {
      "text/plain": [
       "'I have written 1 lines \\n'"
      ]
     },
     "execution_count": 50,
     "metadata": {},
     "output_type": "execute_result"
    }
   ],
   "source": [
    "# We can also read it into a list by converiting \n",
    "# the iterator into a list directly:\n",
    "with open('simple_example.txt') as f:\n",
    "    content = list(f)\n",
    "\n",
    "content[0]"
   ]
  },
  {
   "cell_type": "markdown",
   "metadata": {
    "id": "pa-L2bX0Emas"
   },
   "source": [
    "Similarly, you can write things on this outside file by using `file.write()`."
   ]
  },
  {
   "cell_type": "code",
   "execution_count": 51,
   "metadata": {
    "id": "i1xPv_jsE7go"
   },
   "outputs": [],
   "source": [
    "# 'r' is to read, 'w' to write:\n",
    "with open('simple_example.txt', 'r') as file_in, open('simple_example2.txt', 'w') as file_out:\n",
    "    for line in file_in:\n",
    "        file_out.write(line)\n"
   ]
  },
  {
   "cell_type": "markdown",
   "metadata": {
    "id": "Rl3j698Qjy1j"
   },
   "source": [
    "If your file is located on a website, instead of a local path, then we need to proceed differently. We use the `urllib` package. The first task is to access the data contained on a website with an URL command. The main difference with respect to local files is how to read the file, and the structure of the imported object, which is no longer an iterable. If we want to split the loaded content into lines we need to proceed manually."
   ]
  },
  {
   "cell_type": "code",
   "execution_count": 52,
   "metadata": {
    "id": "5LE4tpWEkLOt"
   },
   "outputs": [
    {
     "data": {
      "text/plain": [
       "'Why Do People Use Python?\\n\\nBecause there are many programming languages available today, this is the usual first question of newcomers. Given that there are roughly 1 million Python users out there at the moment, there really is no way to answer this question with complete accuracy; the choice of development tools is sometimes based on unique constraints or personal preference.\\n\\nBut after teaching Python to roughly 225 groups and over 3,000 students during the last 12 years, some common themes have emerged. The primary factors cited by Python users seem to be these:\\n\\nSoftware quality\\nFor many, Python’s focus on readability, coherence, and software quality in general sets it apart from other tools in the scripting world. Python code is designed to be readable, and hence reusable and maintainable—much more so than traditional scripting languages. The uniformity of Python code makes it easy to understand, even if you did not write it. In addition, Python has deep support for more advanced software reuse mechanisms, such as object-oriented programming (OOP).\\n\\nDeveloper productivity\\nPython boosts developer productivity many times beyond compiled or statically\\ntyped languages such as C, C++, and Java. Python code is typically one-third to\\none-fifth the size of equivalent C++ or Java code. That means there is less to type, less to debug, and less to maintain after the fact. Python programs also run immediately, without the lengthy compile and link steps required by some other tools, further boosting programmer speed.\\n\\nProgram portability\\nMost Python programs run unchanged on all major computer platforms. Porting\\nPython code between Linux and Windows, for example, is usually just a matter of\\ncopying a script’s code between machines. Moreover, Python offers multiple options for coding portable graphical user interfaces, database access programs, web-based systems, and more. Even operating system interfaces, including program\\nlaunches and directory processing, are as portable in Python as they can possibly be.\\n\\nSupport libraries\\nPython comes with a large collection of prebuilt and portable functionality, known as the standard library. This library supports an array of application-level programming tasks, from text pattern matching to network scripting. In addition, Python can be extended with both homegrown libraries and a vast collection of third-party application support software. Python’s third-party domain offers tools for website construction, numeric programming, serial port access, game development, and much more. The NumPy extension, for instance, has been described as a free and more powerful equivalent to the Matlab numeric programming system.\\n\\nComponent integration\\nPython scripts can easily communicate with other parts of an application, using a variety of integration mechanisms. Such integrations allow Python to be used as a product customization and extension tool. Today, Python code can invoke C and C++ libraries, can be called from C and C++ programs, can integrate with Java and .NET components, can communicate over frameworks such as COM, can\\ninterface with devices over serial ports, and can interact over networks with interfaces like SOAP, XML-RPC, and CORBA. It is not a standalone tool.\\n\\nEnjoyment\\nBecause of Python’s ease of use and built-in toolset, it can make the act of programming more pleasure than chore. Although this may be an intangible benefit, its effect on productivity is an important asset.\\n\\nOf these factors, the first two (quality and productivity) are probably the most compelling benefits to most Python users.\\n'"
      ]
     },
     "execution_count": 52,
     "metadata": {},
     "output_type": "execute_result"
    }
   ],
   "source": [
    "# We load the data\n",
    "import urllib.request\n",
    "\n",
    "url_path = \"https://raw.githubusercontent.com/barcelonagse-datascience/academic_files/master/data/textfile.txt\"\n",
    "file_conn = urllib.request.urlopen(url_path)  # This opens the connection to the URL\n",
    "\n",
    "raw_txt = file_conn.read().decode() # decode is used to convert to string format\n",
    "raw_txt"
   ]
  },
  {
   "cell_type": "code",
   "execution_count": 53,
   "metadata": {
    "id": "cxOdiyZdkOS6"
   },
   "outputs": [
    {
     "data": {
      "text/plain": [
       "['Why Do People Use Python?',\n",
       " '',\n",
       " 'Because there are many programming languages available today, this is the usual first question of newcomers. Given that there are roughly 1 million Python users out there at the moment, there really is no way to answer this question with complete accuracy; the choice of development tools is sometimes based on unique constraints or personal preference.',\n",
       " '',\n",
       " 'But after teaching Python to roughly 225 groups and over 3,000 students during the last 12 years, some common themes have emerged. The primary factors cited by Python users seem to be these:',\n",
       " '',\n",
       " 'Software quality',\n",
       " 'For many, Python’s focus on readability, coherence, and software quality in general sets it apart from other tools in the scripting world. Python code is designed to be readable, and hence reusable and maintainable—much more so than traditional scripting languages. The uniformity of Python code makes it easy to understand, even if you did not write it. In addition, Python has deep support for more advanced software reuse mechanisms, such as object-oriented programming (OOP).',\n",
       " '',\n",
       " 'Developer productivity']"
      ]
     },
     "execution_count": 53,
     "metadata": {},
     "output_type": "execute_result"
    }
   ],
   "source": [
    "# Let's recover lines using split and the target line break\n",
    "#split_txt = raw_txt.split('\\n\\n')\n",
    "split_txt = raw_txt.split('\\n')\n",
    "split_txt[0:10]"
   ]
  },
  {
   "cell_type": "markdown",
   "metadata": {
    "id": "VQm6-wUpSMkV"
   },
   "source": [
    "---\n",
    "## 5. Functions"
   ]
  },
  {
   "cell_type": "markdown",
   "metadata": {
    "id": "arP58Ywhd6Xd"
   },
   "source": [
    "### 5.1 Coding functions"
   ]
  },
  {
   "cell_type": "markdown",
   "metadata": {
    "id": "PHodgEzbCe6t"
   },
   "source": [
    "Functions (may) use an input to produce an output through a set of operations.\n",
    "\n",
    "```\n",
    "## NOT RUN\n",
    "def function_name(input):  # Use \"def\", parenthesis and \":\"\n",
    "    operations\n",
    "    return output  # End with \"return\"\n",
    "\n",
    "## END NOT RUN\n",
    "```\n",
    "\n",
    "For example, here is a function that takes a number, and returns its square:"
   ]
  },
  {
   "cell_type": "code",
   "execution_count": 54,
   "metadata": {
    "id": "vWrqZwsdDBbZ"
   },
   "outputs": [
    {
     "data": {
      "text/plain": [
       "49"
      ]
     },
     "execution_count": 54,
     "metadata": {},
     "output_type": "execute_result"
    }
   ],
   "source": [
    "def squared(x):\n",
    "    return x**2\n",
    "\n",
    "squared(7)"
   ]
  },
  {
   "cell_type": "code",
   "execution_count": 55,
   "metadata": {},
   "outputs": [
    {
     "data": {
      "text/plain": [
       "3.0"
      ]
     },
     "execution_count": 55,
     "metadata": {},
     "output_type": "execute_result"
    }
   ],
   "source": [
    "def square_root(x):\n",
    "  return x**0.5\n",
    "\n",
    "square_root(9)"
   ]
  },
  {
   "cell_type": "markdown",
   "metadata": {
    "id": "ZiiOAmW4DCA2"
   },
   "source": [
    "Here is a more general function that takes a number and a power and returns the number to that power:"
   ]
  },
  {
   "cell_type": "code",
   "execution_count": 56,
   "metadata": {
    "id": "Zg2__HbEDCdn"
   },
   "outputs": [
    {
     "data": {
      "text/plain": [
       "64"
      ]
     },
     "execution_count": 56,
     "metadata": {},
     "output_type": "execute_result"
    }
   ],
   "source": [
    "def power(x, n):\n",
    "    return x ** n\n",
    "\n",
    "power(4, 3)"
   ]
  },
  {
   "cell_type": "markdown",
   "metadata": {
    "id": "c9HIE2xBDOH1"
   },
   "source": [
    "Here is a function that returns the minimum and the sum of a list of numbers:"
   ]
  },
  {
   "cell_type": "code",
   "execution_count": 57,
   "metadata": {
    "id": "gW6Yjr7YDVrL"
   },
   "outputs": [],
   "source": [
    "def min_sum_fun(x):\n",
    "    minx = x[0] if len(x) > 0 else None\n",
    "    sumx = 0.0  \n",
    "    for val in x: \n",
    "        if val < minx:\n",
    "            minx = val\n",
    "        sumx += val \n",
    "    return minx, sumx  # Notice multiple outputs (technically a tuple)\n"
   ]
  },
  {
   "cell_type": "markdown",
   "metadata": {
    "id": "oYuc2pxlDZK4"
   },
   "source": [
    "Now we can call that function:"
   ]
  },
  {
   "cell_type": "code",
   "execution_count": 58,
   "metadata": {
    "id": "dPQ8vc88DalX"
   },
   "outputs": [
    {
     "name": "stdout",
     "output_type": "stream",
     "text": [
      "-1\n",
      "5.3\n",
      "(-1, 5.3)\n",
      "<class 'tuple'>\n"
     ]
    }
   ],
   "source": [
    "m, s = min_sum_fun([1, 5, 0.3, -1])  # Destructuring\n",
    "w = (m, s) = min_sum_fun([1, 5, 0.3, -1])  # You can assign directly to a tuple\n",
    "\n",
    "print(m)\n",
    "print(s)\n",
    "print(w)\n",
    "print(type(w))"
   ]
  },
  {
   "cell_type": "code",
   "execution_count": 59,
   "metadata": {},
   "outputs": [],
   "source": [
    "def min_sum_f(x):\n",
    "  mini = min(x)\n",
    "  sums = sum(x)\n",
    "  return mini, sums"
   ]
  },
  {
   "cell_type": "code",
   "execution_count": 60,
   "metadata": {},
   "outputs": [
    {
     "name": "stdout",
     "output_type": "stream",
     "text": [
      "-1\n",
      "5.3\n",
      "(-1, 5.3)\n"
     ]
    },
    {
     "data": {
      "text/plain": [
       "tuple"
      ]
     },
     "execution_count": 60,
     "metadata": {},
     "output_type": "execute_result"
    }
   ],
   "source": [
    "mi, su = min_sum_f([1, 5, 0.3, -1])\n",
    "w = mi, su\n",
    "print(mi)\n",
    "print(su)\n",
    "print(w)\n",
    "type(w)"
   ]
  },
  {
   "cell_type": "markdown",
   "metadata": {
    "id": "8SSwdtS8dvbD"
   },
   "source": [
    "### 5.2 Map, reduce and filter\n",
    "\n",
    "`map` is a function used to apply a certain (set of) operation(s) sequentiallt to every element in a list. This is similar to a `for`-loop but through a simpler syntax."
   ]
  },
  {
   "cell_type": "code",
   "execution_count": 61,
   "metadata": {
    "id": "kryzp4f22_OP"
   },
   "outputs": [
    {
     "name": "stdout",
     "output_type": "stream",
     "text": [
      "[1.0, 2.0, 3.0, 4.0, 5.0]\n"
     ]
    }
   ],
   "source": [
    "items = [1, 4, 9, 16, 25]\n",
    "sqroot = map(lambda x: x**(1/2), items)  # map(function, iterable_object)\n",
    "sqroot = list(sqroot)  # Put into a list\n",
    "print(sqroot)"
   ]
  },
  {
   "cell_type": "code",
   "execution_count": 62,
   "metadata": {},
   "outputs": [
    {
     "name": "stdout",
     "output_type": "stream",
     "text": [
      "[1, 4, 9, 16]\n"
     ]
    }
   ],
   "source": [
    "vect = [1, 2, 3, 4]\n",
    "square = map(lambda x: x ** 2, vect)\n",
    "square = list(square)\n",
    "print(square)"
   ]
  },
  {
   "cell_type": "markdown",
   "metadata": {
    "id": "iDuMw44e3Y18"
   },
   "source": [
    "Note that here `map` is using a so-called `lambda` function: this is an anonymous function (it has not been defined) which takes argument `x`, where `x` is every individual element in the `list`, and applies the function after the semi-colon to each of these elements. Note, however, that the function applied by `map` need not be a `lambda` function.\n",
    "\n",
    "Also, the iterable element need not even be a list of objects, it can be a list of functions:"
   ]
  },
  {
   "cell_type": "code",
   "execution_count": 63,
   "metadata": {
    "id": "G6FiF9XE4mB6"
   },
   "outputs": [
    {
     "name": "stdout",
     "output_type": "stream",
     "text": [
      "[1.0, 1]\n",
      "[2.0, 16]\n",
      "[3.0, 81]\n",
      "[4.0, 256]\n",
      "[5.0, 625]\n"
     ]
    }
   ],
   "source": [
    "def sqroot(x):\n",
    "    return x**(1/2)\n",
    "\n",
    "def squared(x):\n",
    "    return x**2\n",
    "\n",
    "functions = [sqroot, squared]  # List of functions\n",
    "for i in [1, 4, 9, 16, 25]:\n",
    "    results = list(map(lambda x: x(i), functions))\n",
    "    print(results)\n"
   ]
  },
  {
   "cell_type": "markdown",
   "metadata": {
    "id": "R4A6QetI6a2c"
   },
   "source": [
    "`reduce` is a similar function, in this case employed to perform rolling computations to sequential pairs of values in a list. In other words, the computation of an operation on an element of the list is connected to the computation of the previous element, and this accumulates (*reducing* the list to a single result).\n",
    "\n",
    "Say you want to compute the factorial of a number:"
   ]
  },
  {
   "cell_type": "code",
   "execution_count": 64,
   "metadata": {
    "id": "OFAQ7PRc6nI_"
   },
   "outputs": [
    {
     "data": {
      "text/plain": [
       "120"
      ]
     },
     "execution_count": 64,
     "metadata": {},
     "output_type": "execute_result"
    }
   ],
   "source": [
    "from functools import reduce\n",
    "\n",
    "# This gives a list with the integers needed to compute the factorial\n",
    "def factorial_elements(x):\n",
    "    return [i + 1 for i in range(x)]\n",
    "\n",
    "# Factorial of 5 (5!)\n",
    "factorial5 = reduce(lambda x, y: x * y, factorial_elements(5))  # Needs two arguments\n",
    "factorial5"
   ]
  },
  {
   "cell_type": "code",
   "execution_count": 65,
   "metadata": {},
   "outputs": [
    {
     "data": {
      "text/plain": [
       "15"
      ]
     },
     "execution_count": 65,
     "metadata": {},
     "output_type": "execute_result"
    }
   ],
   "source": [
    "from functools import reduce \n",
    "def cum_sum1(x):\n",
    "  return[i + 1 for i in range(x)]\n",
    "\n",
    "cum_sum = reduce(lambda x, y: x + y, cum_sum1(5))\n",
    "cum_sum"
   ]
  },
  {
   "cell_type": "markdown",
   "metadata": {
    "id": "WoMTcTmY9NKx"
   },
   "source": [
    "One final useful function is `filter`. It returns the list of elements of an original list that satisfy a logical condition (i.e. applies a function that returns a logical value). A simple example:"
   ]
  },
  {
   "cell_type": "code",
   "execution_count": 66,
   "metadata": {
    "id": "ukXYfke996QR"
   },
   "outputs": [
    {
     "name": "stdout",
     "output_type": "stream",
     "text": [
      "[2, 4, 6]\n"
     ]
    }
   ],
   "source": [
    "num_list = [-1, 2, -3, 4, -5, 6]\n",
    "pos_vals = filter(lambda x: x > 0, num_list)  # Same syntax as map/reducte\n",
    "pos_vals = list(pos_vals)  # Needs to be coerced to a list too\n",
    "print(pos_vals)"
   ]
  },
  {
   "cell_type": "code",
   "execution_count": 67,
   "metadata": {},
   "outputs": [
    {
     "name": "stdout",
     "output_type": "stream",
     "text": [
      "[5, 6, 7, 8]\n",
      "4.5\n"
     ]
    }
   ],
   "source": [
    "from statistics import mean\n",
    "\n",
    "\n",
    "num = [1, 2, 3, 4, 5, 6, 7, 8]\n",
    "high = filter(lambda x: x>mean(num), num)\n",
    "high = list(high)\n",
    "print(high)\n",
    "print(mean(num))"
   ]
  },
  {
   "cell_type": "markdown",
   "metadata": {
    "id": "ipnrDmFFEG8i"
   },
   "source": [
    "---\n",
    "## 6. Modules and imports"
   ]
  },
  {
   "cell_type": "markdown",
   "metadata": {
    "id": "Dyt0cU2PFGPD"
   },
   "source": [
    "*Modules* are `python` files, recognised in the computer as `<filename>.py`. Data and methods defined in the module can become part of the namespace by using `import`."
   ]
  },
  {
   "cell_type": "code",
   "execution_count": 68,
   "metadata": {
    "id": "PdPTr3fuY8FE"
   },
   "outputs": [
    {
     "ename": "NameError",
     "evalue": "name 'sin' is not defined",
     "output_type": "error",
     "traceback": [
      "\u001b[1;31m---------------------------------------------------------------------------\u001b[0m",
      "\u001b[1;31mNameError\u001b[0m                                 Traceback (most recent call last)",
      "\u001b[1;32md:\\学习\\BSE summer School\\Bootcamp_python_r\\python.ipynb Cell 130\u001b[0m in \u001b[0;36m<cell line: 1>\u001b[1;34m()\u001b[0m\n\u001b[1;32m----> <a href='vscode-notebook-cell:/d%3A/%E5%AD%A6%E4%B9%A0/BSE%20summer%20School/Bootcamp_python_r/python.ipynb#Y243sZmlsZQ%3D%3D?line=0'>1</a>\u001b[0m x \u001b[39m=\u001b[39m sin(\u001b[39m5\u001b[39m)\n",
      "\u001b[1;31mNameError\u001b[0m: name 'sin' is not defined"
     ]
    }
   ],
   "source": [
    "x = sin(5)  # The \"sin\" function does not exist"
   ]
  },
  {
   "cell_type": "code",
   "execution_count": null,
   "metadata": {
    "id": "H4HFgP1aYkt6"
   },
   "outputs": [
    {
     "name": "stdout",
     "output_type": "stream",
     "text": [
      "-0.9589242746631385\n"
     ]
    }
   ],
   "source": [
    "from math import sin  # You need to \"import\" it\n",
    "x = sin(5)\n",
    "print(x)"
   ]
  },
  {
   "cell_type": "markdown",
   "metadata": {
    "id": "aFc2XminZRGl"
   },
   "source": [
    "There are some other useful tricks to import data and methods:"
   ]
  },
  {
   "cell_type": "code",
   "execution_count": null,
   "metadata": {
    "id": "0rdS_Z1YZXK4"
   },
   "outputs": [
    {
     "name": "stdout",
     "output_type": "stream",
     "text": [
      "0.1411200080598672\n",
      "0.1411200080598672\n"
     ]
    }
   ],
   "source": [
    "from math import sin  # Imports a single function\n",
    "from math import sin as sinus  # Nickname, useful when you import something with a long name\n",
    "print(sinus(3))\n",
    "\n",
    "import math  # Imports the module in the namespace, methods can then be accessed e.g.\n",
    "print(math.sin(3))"
   ]
  },
  {
   "cell_type": "markdown",
   "metadata": {
    "id": "BIJs6rFWZ1PM"
   },
   "source": [
    "Let us discuss here a couple of fundamental imports in `python`:"
   ]
  },
  {
   "cell_type": "markdown",
   "metadata": {
    "id": "neOHzwXCFDhr"
   },
   "source": [
    "### 6.1 `numpy` (Numerical Python)\n",
    "\n",
    "*   User's manual: https://numpy.org/doc/stable/\n",
    "\n",
    "This is Python's stack for scientific computing. The fundamental new data type is that of a **`numpy` `array`**, Python's matrix-type object, which is used in the majority of its data analysis, statistics and machine learning modules.\n",
    "\n",
    "These arrays contain data all of the same type (dtype), numerical of many types or boolean:"
   ]
  },
  {
   "cell_type": "code",
   "execution_count": null,
   "metadata": {
    "id": "oIjyNud0dGIB"
   },
   "outputs": [],
   "source": [
    "# Import module \n",
    "import numpy as np  # usually imported with name \"np\"\n",
    "\n",
    "# Creating an array\n",
    "A = np.array([[1, 2, 3, 4, 5, 6], \n",
    "              [42, 53, 43 ,62, 7, 4], \n",
    "              [-3, -1, -4 ,-8, -52, -4], \n",
    "              [10, 0, 4 , 1, 0, 1]])"
   ]
  },
  {
   "cell_type": "markdown",
   "metadata": {
    "id": "acCVtlQpdha9"
   },
   "source": [
    "We can access the elements in an array using multi-index notation (counting starts from 0, slicing `a:b` is inclusive:exclusive, negative indices, etc.)"
   ]
  },
  {
   "cell_type": "code",
   "execution_count": null,
   "metadata": {
    "id": "tu5JZ_xKdtn1"
   },
   "outputs": [
    {
     "name": "stdout",
     "output_type": "stream",
     "text": [
      "[[  1   2   3   4   5   6]\n",
      " [ 42  53  43  62   7   4]\n",
      " [ -3  -1  -4  -8 -52  -4]\n",
      " [ 10   0   4   1   0   1]]\n",
      "[[ -4 -52]\n",
      " [  4   0]]\n"
     ]
    }
   ],
   "source": [
    "print(A)\n",
    "# Print from row 3 onwards, columns 3 and 5\n",
    "print(A[2:, [2, 4]])"
   ]
  },
  {
   "cell_type": "code",
   "execution_count": null,
   "metadata": {},
   "outputs": [
    {
     "data": {
      "text/plain": [
       "(4, 6)"
      ]
     },
     "execution_count": 127,
     "metadata": {},
     "output_type": "execute_result"
    }
   ],
   "source": [
    "A.shape"
   ]
  },
  {
   "cell_type": "code",
   "execution_count": null,
   "metadata": {},
   "outputs": [
    {
     "data": {
      "text/plain": [
       "array([ 1, 53, -4,  1])"
      ]
     },
     "execution_count": 130,
     "metadata": {},
     "output_type": "execute_result"
    }
   ],
   "source": [
    "A.diagonal()"
   ]
  },
  {
   "cell_type": "code",
   "execution_count": null,
   "metadata": {},
   "outputs": [
    {
     "data": {
      "text/plain": [
       "array([[  1,  42,  -3,  10],\n",
       "       [  2,  53,  -1,   0],\n",
       "       [  3,  43,  -4,   4],\n",
       "       [  4,  62,  -8,   1],\n",
       "       [  5,   7, -52,   0],\n",
       "       [  6,   4,  -4,   1]])"
      ]
     },
     "execution_count": 131,
     "metadata": {},
     "output_type": "execute_result"
    }
   ],
   "source": [
    "A.transpose()"
   ]
  },
  {
   "cell_type": "code",
   "execution_count": null,
   "metadata": {},
   "outputs": [
    {
     "data": {
      "text/plain": [
       "array([[  1,   2,   3,   4],\n",
       "       [  5,   6,  42,  53],\n",
       "       [ 43,  62,   7,   4],\n",
       "       [ -3,  -1,  -4,  -8],\n",
       "       [-52,  -4,  10,   0],\n",
       "       [  4,   1,   0,   1]])"
      ]
     },
     "execution_count": 132,
     "metadata": {},
     "output_type": "execute_result"
    }
   ],
   "source": [
    "A.reshape(6,4)"
   ]
  },
  {
   "cell_type": "code",
   "execution_count": null,
   "metadata": {
    "id": "KGkO4J8aebVg"
   },
   "outputs": [
    {
     "name": "stdout",
     "output_type": "stream",
     "text": [
      "(4, 6)\n",
      "(6, 4)\n",
      "(6, 4)\n"
     ]
    },
    {
     "data": {
      "text/plain": [
       "array([[   91,   584,  -333,    32],\n",
       "       [  584, 10331, -1227,   658],\n",
       "       [ -333, -1227,  2810,   -58],\n",
       "       [   32,   658,   -58,   118]])"
      ]
     },
     "execution_count": 129,
     "metadata": {},
     "output_type": "execute_result"
    }
   ],
   "source": [
    "# Attributes\n",
    "A.shape  # dimension\n",
    "A.min()  # minimum (you can similarly use max, sum, etc.)\n",
    "A.diagonal()  # diagonal\n",
    "B = A.transpose()  # transposing\n",
    "C = A.reshape(6, 4)  # rearrange values to change dimension (CAREFUL!)\n",
    "print(A.shape)\n",
    "print(B.shape)\n",
    "print(C.shape)\n",
    "A.dot(B)  # dot-product (with array B)\n"
   ]
  },
  {
   "cell_type": "markdown",
   "metadata": {
    "id": "JnQHBnQ6FT-R"
   },
   "source": [
    "### 6.1.1. `array` operations"
   ]
  },
  {
   "cell_type": "markdown",
   "metadata": {
    "id": "OulgR7t4g4pX"
   },
   "source": [
    "Mathematical symbols take on mathematical meanings in `numpy`, and so the `+` operator between two `np.array` just tries to add them together elementwise (it works differently to `list`-type objects). To concatenate you need a specific function.\n"
   ]
  },
  {
   "cell_type": "code",
   "execution_count": null,
   "metadata": {
    "id": "xx1yoFLYhiVo"
   },
   "outputs": [
    {
     "name": "stdout",
     "output_type": "stream",
     "text": [
      "[5 7 9]\n",
      "[1 2 3 4 5 6]\n"
     ]
    }
   ],
   "source": [
    "# Numpy array addition: \n",
    "a, b = np.array([1, 2, 3]), np.array([4, 5, 6])\n",
    "print(a + b)  # Addition\n",
    "print(np.concatenate([a,b]))  # Concatenation"
   ]
  },
  {
   "cell_type": "markdown",
   "metadata": {
    "id": "rjsp0uQiFLwy"
   },
   "source": [
    "### 6.2 `pandas` (Panel Data Structures)"
   ]
  },
  {
   "cell_type": "markdown",
   "metadata": {
    "id": "3K-y3YrOjpYj"
   },
   "source": [
    "This is the module in Python for doing rectangular-data management, analysis and plotting. It provides tools to read and write external data.\n"
   ]
  },
  {
   "cell_type": "code",
   "execution_count": null,
   "metadata": {
    "id": "i-wfPqHzi20o"
   },
   "outputs": [
    {
     "name": "stdout",
     "output_type": "stream",
     "text": [
      "   total_bill   tip     sex smoker  day    time  size\n",
      "0       16.99  1.01  Female     No  Sun  Dinner     2\n",
      "1       10.34  1.66    Male     No  Sun  Dinner     3\n",
      "2       21.01  3.50    Male     No  Sun  Dinner     3\n",
      "3       23.68  3.31    Male     No  Sun  Dinner     2\n",
      "4       24.59  3.61  Female     No  Sun  Dinner     4\n",
      "<class 'pandas.core.frame.DataFrame'>\n",
      "<class 'pandas.core.series.Series'>\n"
     ]
    }
   ],
   "source": [
    "import pandas as pd  # Usually imported with name \"pd\"\n",
    "\n",
    "file_path = \"https://raw.githubusercontent.com/barcelonagse-datascience/academic_files/master/data/tips.csv\"\n",
    "tips = pd.read_csv(file_path)  # read_csv allows importing .CSV files\n",
    "print(tips.head(5))  # head gives first rows (arg = number of rows)\n",
    "\n",
    "# Data formats in pandas\n",
    "print(type(tips))\n",
    "print(type(tips['tip']))"
   ]
  },
  {
   "cell_type": "markdown",
   "metadata": {
    "id": "LkF0FABWdezQ"
   },
   "source": [
    "There are the two basic data formats in `pandas`: `Series` and `DataFrame`. A `Series` is the equivalent to a vector in linear algebra. A `DataFrame` is the equivalent to a rectangular data structure. These types are equipped with several attributes useful for data management and analysis. In the tips example, the variable object `tips` is a `DataFrame`, while any individual column would be a `Series`."
   ]
  },
  {
   "cell_type": "markdown",
   "metadata": {
    "id": "RCESXNfRGQhm"
   },
   "source": [
    "---\n",
    "## 7. Structured data operations (`pandas`)"
   ]
  },
  {
   "cell_type": "markdown",
   "metadata": {
    "id": "RwSlaPsxfh_a"
   },
   "source": [
    "### 7.1 `Series`"
   ]
  },
  {
   "cell_type": "markdown",
   "metadata": {
    "id": "CW7nQyAlflWx"
   },
   "source": [
    "They are accessed via their index, which can be either a number or a string. They are typically obtained by reading a dataset from an external file or when operating on a `DataFrame`, but they can be defined manually:"
   ]
  },
  {
   "cell_type": "code",
   "execution_count": null,
   "metadata": {
    "id": "AV1XFsdVfhrM"
   },
   "outputs": [
    {
     "data": {
      "text/plain": [
       "0       1.0\n",
       "1      15.0\n",
       "2      -5.0\n",
       "3       NaN\n",
       "4       4.0\n",
       "5     123.0\n",
       "6       0.0\n",
       "7      78.0\n",
       "8       0.0\n",
       "9       1.0\n",
       "10     -4.0\n",
       "dtype: float64"
      ]
     },
     "execution_count": 135,
     "metadata": {},
     "output_type": "execute_result"
    }
   ],
   "source": [
    "# Here no indices are specified (there are defaults)\n",
    "a_series = pd.Series([1, 15, -5, None, 4, 123, 0, 78, 0, 1, -4])\n",
    "a_series"
   ]
  },
  {
   "cell_type": "code",
   "execution_count": null,
   "metadata": {
    "id": "Rh0dMfKagF-d"
   },
   "outputs": [
    {
     "data": {
      "text/plain": [
       "1.0"
      ]
     },
     "execution_count": 136,
     "metadata": {},
     "output_type": "execute_result"
    }
   ],
   "source": [
    "# Accessing a certain value via the index\n",
    "a_series[0]"
   ]
  },
  {
   "cell_type": "code",
   "execution_count": null,
   "metadata": {
    "id": "Kbn8gNHggJsV"
   },
   "outputs": [
    {
     "data": {
      "text/plain": [
       "(RangeIndex(start=0, stop=11, step=1),\n",
       " array([ 0,  1,  2,  3,  4,  5,  6,  7,  8,  9, 10], dtype=int64))"
      ]
     },
     "execution_count": 137,
     "metadata": {},
     "output_type": "execute_result"
    }
   ],
   "source": [
    "# .values returns a numpy.ndarray of the values\n",
    "a_series.values\n",
    "a_series.index, a_series.index.values"
   ]
  },
  {
   "cell_type": "code",
   "execution_count": null,
   "metadata": {
    "id": "VvmXzQThhSKW"
   },
   "outputs": [
    {
     "data": {
      "text/plain": [
       "a      1.0\n",
       "b     15.0\n",
       "c     -5.0\n",
       "d      NaN\n",
       "e      4.0\n",
       "f    123.0\n",
       "g      0.0\n",
       "h     78.0\n",
       "i      0.0\n",
       "j      1.0\n",
       "k     -4.0\n",
       "dtype: float64"
      ]
     },
     "execution_count": 139,
     "metadata": {},
     "output_type": "execute_result"
    }
   ],
   "source": [
    "# You can overwrite the index directly: \n",
    "a_series.index = [\"a\", \"b\", \"c\", \"d\", \"e\", \"f\", \"g\", \"h\", \"i\", \"j\", \"k\"]\n",
    "a_series"
   ]
  },
  {
   "cell_type": "markdown",
   "metadata": {
    "id": "6vS1oWK1ho5d"
   },
   "source": [
    "Accessing values via the index can be very useful, but sometimes you want to access the values as though they were a Python list. In other words \"I want the first value!\", without having to know the name of the label. This can be achieved with `.iloc`:\n"
   ]
  },
  {
   "cell_type": "code",
   "execution_count": null,
   "metadata": {
    "id": "jX0gOqszlHza"
   },
   "outputs": [
    {
     "data": {
      "text/plain": [
       "(1.0, 1.0, -4.0)"
      ]
     },
     "execution_count": 140,
     "metadata": {},
     "output_type": "execute_result"
    }
   ],
   "source": [
    "a_series.iloc[0], a_series[\"a\"], a_series.iloc[-1]\n"
   ]
  },
  {
   "cell_type": "code",
   "execution_count": null,
   "metadata": {
    "id": "lz9XaTt1mFrN"
   },
   "outputs": [
    {
     "data": {
      "text/plain": [
       "(1.0, -5.0)"
      ]
     },
     "execution_count": 141,
     "metadata": {},
     "output_type": "execute_result"
    }
   ],
   "source": [
    "# This just resets the index to be as we found it originally\n",
    "a_series = a_series.reset_index(drop = True)\n",
    "x = a_series.sort_values()\n",
    "\n",
    "x[0], x.iloc[0] \n",
    "# the indices remain, so x indexed by 0 is 1\n",
    "# the ordering changes, so the first element of x is -5.0, the minimum"
   ]
  },
  {
   "cell_type": "code",
   "execution_count": null,
   "metadata": {},
   "outputs": [
    {
     "data": {
      "text/plain": [
       "2      -5.0\n",
       "10     -4.0\n",
       "6       0.0\n",
       "8       0.0\n",
       "0       1.0\n",
       "9       1.0\n",
       "4       4.0\n",
       "1      15.0\n",
       "7      78.0\n",
       "5     123.0\n",
       "3       NaN\n",
       "dtype: float64"
      ]
     },
     "execution_count": 142,
     "metadata": {},
     "output_type": "execute_result"
    }
   ],
   "source": [
    "x"
   ]
  },
  {
   "cell_type": "markdown",
   "metadata": {
    "id": "nBv2VEZ6z5MF"
   },
   "source": [
    "As usual one should explore the attributes of any python object one ends up working with. We have already accessed the `.index` and `.value`. Some other that are worth highlighting:\n",
    "\n",
    "*   `.map`\n",
    "*   `.corr`\n",
    "*   `.describe`\n",
    "*   `.hist`\n",
    "*   `.plot`\n",
    "*   `.size`\n",
    "*   `.value_counts`\n",
    "*   `.sort_values`"
   ]
  },
  {
   "cell_type": "markdown",
   "metadata": {
    "id": "4jCJ7CDS1B9c"
   },
   "source": [
    "For example:"
   ]
  },
  {
   "cell_type": "code",
   "execution_count": null,
   "metadata": {
    "id": "DE0jn-Tuz6Q5"
   },
   "outputs": [
    {
     "data": {
      "text/html": [
       "<div>\n",
       "<style scoped>\n",
       "    .dataframe tbody tr th:only-of-type {\n",
       "        vertical-align: middle;\n",
       "    }\n",
       "\n",
       "    .dataframe tbody tr th {\n",
       "        vertical-align: top;\n",
       "    }\n",
       "\n",
       "    .dataframe thead th {\n",
       "        text-align: right;\n",
       "    }\n",
       "</style>\n",
       "<table border=\"1\" class=\"dataframe\">\n",
       "  <thead>\n",
       "    <tr style=\"text-align: right;\">\n",
       "      <th></th>\n",
       "      <th>total_bill</th>\n",
       "      <th>tip</th>\n",
       "      <th>size</th>\n",
       "    </tr>\n",
       "  </thead>\n",
       "  <tbody>\n",
       "    <tr>\n",
       "      <th>count</th>\n",
       "      <td>244.000000</td>\n",
       "      <td>244.000000</td>\n",
       "      <td>244.000000</td>\n",
       "    </tr>\n",
       "    <tr>\n",
       "      <th>mean</th>\n",
       "      <td>19.785943</td>\n",
       "      <td>2.998279</td>\n",
       "      <td>2.569672</td>\n",
       "    </tr>\n",
       "    <tr>\n",
       "      <th>std</th>\n",
       "      <td>8.902412</td>\n",
       "      <td>1.383638</td>\n",
       "      <td>0.951100</td>\n",
       "    </tr>\n",
       "    <tr>\n",
       "      <th>min</th>\n",
       "      <td>3.070000</td>\n",
       "      <td>1.000000</td>\n",
       "      <td>1.000000</td>\n",
       "    </tr>\n",
       "    <tr>\n",
       "      <th>25%</th>\n",
       "      <td>13.347500</td>\n",
       "      <td>2.000000</td>\n",
       "      <td>2.000000</td>\n",
       "    </tr>\n",
       "    <tr>\n",
       "      <th>50%</th>\n",
       "      <td>17.795000</td>\n",
       "      <td>2.900000</td>\n",
       "      <td>2.000000</td>\n",
       "    </tr>\n",
       "    <tr>\n",
       "      <th>75%</th>\n",
       "      <td>24.127500</td>\n",
       "      <td>3.562500</td>\n",
       "      <td>3.000000</td>\n",
       "    </tr>\n",
       "    <tr>\n",
       "      <th>max</th>\n",
       "      <td>50.810000</td>\n",
       "      <td>10.000000</td>\n",
       "      <td>6.000000</td>\n",
       "    </tr>\n",
       "  </tbody>\n",
       "</table>\n",
       "</div>"
      ],
      "text/plain": [
       "       total_bill         tip        size\n",
       "count  244.000000  244.000000  244.000000\n",
       "mean    19.785943    2.998279    2.569672\n",
       "std      8.902412    1.383638    0.951100\n",
       "min      3.070000    1.000000    1.000000\n",
       "25%     13.347500    2.000000    2.000000\n",
       "50%     17.795000    2.900000    2.000000\n",
       "75%     24.127500    3.562500    3.000000\n",
       "max     50.810000   10.000000    6.000000"
      ]
     },
     "execution_count": 143,
     "metadata": {},
     "output_type": "execute_result"
    }
   ],
   "source": [
    "tips.describe()"
   ]
  },
  {
   "cell_type": "markdown",
   "metadata": {
    "id": "RmxMKWj41gIu"
   },
   "source": [
    "### 7.1.1 Operations with `Series`"
   ]
  },
  {
   "cell_type": "markdown",
   "metadata": {
    "id": "vkOthCCwnJ5l"
   },
   "source": [
    "`Series` are `numpy` arrays behind the scenes, so we can compute element-wise functions on one series or several series at the same time. The result is another series with data type depending on the type of operations performed.\n"
   ]
  },
  {
   "cell_type": "code",
   "execution_count": null,
   "metadata": {
    "id": "IFwLE9_anTxm"
   },
   "outputs": [
    {
     "name": "stdout",
     "output_type": "stream",
     "text": [
      "0     2\n",
      "1    16\n",
      "2    11\n",
      "3    20\n",
      "dtype: int64\n",
      "0     True\n",
      "1    False\n",
      "2     True\n",
      "3     True\n",
      "dtype: bool\n"
     ]
    }
   ],
   "source": [
    "series1 = pd.Series([1, 3, 5, 7])\n",
    "series2 = pd.Series([0, 10, -1, 6])\n",
    "\n",
    "series3 = 2 * series1 + abs(series2)\n",
    "series4 = series1 > series2 \n",
    "\n",
    "print(series3)\n",
    "print(series4)\n",
    "# Take a look at the different Series objects!"
   ]
  },
  {
   "cell_type": "markdown",
   "metadata": {
    "id": "fJxzTTJMpLRX"
   },
   "source": [
    "What goes on in the previous examples is more subtle than it looks. How does Python know which elements from each series to join in the required operation together? What happens is that the indices happened to be the same. So when we ask something like\n",
    "\n",
    "`series3 = series1 + series2`,\n",
    "\n",
    "Python looks for entries in each series with the same index and then does an elementwise summation that it stores in a like-wise index in Series 3.\n",
    "\n",
    "Consider instead the following example:\n"
   ]
  },
  {
   "cell_type": "code",
   "execution_count": null,
   "metadata": {
    "id": "IX9hf81tpY5a"
   },
   "outputs": [
    {
     "name": "stdout",
     "output_type": "stream",
     "text": [
      "A   NaN\n",
      "B   NaN\n",
      "C   NaN\n",
      "D   NaN\n",
      "dtype: float64\n"
     ]
    }
   ],
   "source": [
    "series1 = pd.Series([1, 10], index=[\"A\", \"B\"])\n",
    "series2 = pd.Series([4, -1], index=[\"C\", \"D\"])\n",
    "series3 = series1 + series2\n",
    "print(series3)"
   ]
  },
  {
   "cell_type": "code",
   "execution_count": null,
   "metadata": {},
   "outputs": [
    {
     "data": {
      "text/plain": [
       "A     1\n",
       "B    10\n",
       "dtype: int64"
      ]
     },
     "execution_count": 148,
     "metadata": {},
     "output_type": "execute_result"
    }
   ],
   "source": [
    "series1"
   ]
  },
  {
   "cell_type": "markdown",
   "metadata": {
    "id": "d5NV02lcpiVB"
   },
   "source": [
    "This aspect makes it very easy to work with series that we have sorted or manipulated otherwise; there is always the address to access a value. This helps prevent accidentally combining values we didn't mean to combine!"
   ]
  },
  {
   "cell_type": "code",
   "execution_count": null,
   "metadata": {},
   "outputs": [
    {
     "data": {
      "text/plain": [
       "0       1.0\n",
       "1      15.0\n",
       "2      -5.0\n",
       "3       NaN\n",
       "4       4.0\n",
       "5     123.0\n",
       "6       0.0\n",
       "7      78.0\n",
       "8       0.0\n",
       "9       1.0\n",
       "10     -4.0\n",
       "dtype: float64"
      ]
     },
     "execution_count": 149,
     "metadata": {},
     "output_type": "execute_result"
    }
   ],
   "source": [
    "a_series  "
   ]
  },
  {
   "cell_type": "code",
   "execution_count": null,
   "metadata": {
    "id": "U_V0iQXnvh-e"
   },
   "outputs": [],
   "source": [
    "# accesing by list of index labels\n",
    "a_series.index = [\"A\", \"B\", \"C\", \"D\", \"E\", \"F\", \"G\", \"H\", \"I\", \"J\", \"K\"]\n",
    "x = a_series[[\"A\", \"K\"]]"
   ]
  },
  {
   "cell_type": "code",
   "execution_count": null,
   "metadata": {
    "id": "hy8rOvDXwC9y"
   },
   "outputs": [
    {
     "data": {
      "text/plain": [
       "A      1.0\n",
       "B     15.0\n",
       "C     -5.0\n",
       "D      NaN\n",
       "E      4.0\n",
       "F    123.0\n",
       "G      0.0\n",
       "H     78.0\n",
       "I      0.0\n",
       "J      1.0\n",
       "K     -4.0\n",
       "dtype: float64"
      ]
     },
     "execution_count": 41,
     "metadata": {},
     "output_type": "execute_result"
    }
   ],
   "source": [
    "a_series"
   ]
  },
  {
   "cell_type": "code",
   "execution_count": null,
   "metadata": {
    "id": "Brsq8K9TwDWN"
   },
   "outputs": [
    {
     "data": {
      "text/plain": [
       "A    1.0\n",
       "K   -4.0\n",
       "dtype: float64"
      ]
     },
     "execution_count": 152,
     "metadata": {},
     "output_type": "execute_result"
    }
   ],
   "source": [
    "x"
   ]
  },
  {
   "cell_type": "code",
   "execution_count": null,
   "metadata": {
    "id": "oq04uA8Zvqro"
   },
   "outputs": [
    {
     "data": {
      "text/plain": [
       "A    False\n",
       "B    False\n",
       "C    False\n",
       "D    False\n",
       "E    False\n",
       "F    False\n",
       "G     True\n",
       "H    False\n",
       "I     True\n",
       "J    False\n",
       "K    False\n",
       "dtype: bool"
      ]
     },
     "execution_count": 153,
     "metadata": {},
     "output_type": "execute_result"
    }
   ],
   "source": [
    "# Getting a boolean-valued series by checking a condition\n",
    "choose = (a_series == 0.0)\n",
    "choose"
   ]
  },
  {
   "cell_type": "code",
   "execution_count": null,
   "metadata": {
    "id": "scBM8fbSvw2l"
   },
   "outputs": [
    {
     "name": "stdout",
     "output_type": "stream",
     "text": [
      "G    0.0\n",
      "I    0.0\n",
      "dtype: float64\n"
     ]
    },
    {
     "data": {
      "text/plain": [
       "A      1.0\n",
       "B     15.0\n",
       "C     -5.0\n",
       "D      NaN\n",
       "E      4.0\n",
       "F    123.0\n",
       "H     78.0\n",
       "J      1.0\n",
       "K     -4.0\n",
       "dtype: float64"
      ]
     },
     "execution_count": 154,
     "metadata": {},
     "output_type": "execute_result"
    }
   ],
   "source": [
    "# Notice the index of x is a SUBSET of the index of \"a_series\"\n",
    "# This can be useful when needing to relate values back to the original \"a_series\"!\n",
    "x = a_series[choose]\n",
    "print(x)\n",
    "# or the complement\n",
    "a_series[~choose]"
   ]
  },
  {
   "cell_type": "markdown",
   "metadata": {
    "id": "hFrX8z9ZwxEc"
   },
   "source": [
    "We often use boolean masks to filter data in Pandas. We also get special boolean algebra operators to use in `numpy`/`pandas`, distinct from the and/or/not you will use in regular Python: `&` (AND), `|` (OR), `~` (NOT).\n"
   ]
  },
  {
   "cell_type": "markdown",
   "metadata": {
    "id": "_tpBwMYBxe79"
   },
   "source": [
    "### 7.1.2 Missing values\n",
    "\n",
    "A series object in `pandas` can help us deal with missing data. We already see very naturally how data management can quickly lead to missing data."
   ]
  },
  {
   "cell_type": "code",
   "execution_count": null,
   "metadata": {
    "id": "EOouM1SZx4oo"
   },
   "outputs": [
    {
     "name": "stdout",
     "output_type": "stream",
     "text": [
      "A   NaN\n",
      "B   NaN\n",
      "C   NaN\n",
      "D   NaN\n",
      "dtype: float64\n"
     ]
    }
   ],
   "source": [
    "series3 = series1 + series2\n",
    "print(series3)"
   ]
  },
  {
   "cell_type": "markdown",
   "metadata": {
    "id": "-J3r1-gjx5Vz"
   },
   "source": [
    "What happened there is that in the operation labels could not be matched, so `pandas` tried to sum a numeric value with missing value, the result of which is a missing value.\n",
    "The way to manually specify in `pandas` that a value is missing is to use `None`, as below:"
   ]
  },
  {
   "cell_type": "code",
   "execution_count": null,
   "metadata": {
    "id": "x2sKM0fdyHDi"
   },
   "outputs": [
    {
     "name": "stdout",
     "output_type": "stream",
     "text": [
      "0    1.0\n",
      "1    NaN\n",
      "2    2.0\n",
      "dtype: float64\n"
     ]
    }
   ],
   "source": [
    "temp = pd.Series([1, None, 2])\n",
    "print(temp)"
   ]
  },
  {
   "cell_type": "markdown",
   "metadata": {
    "id": "iyFuiqSfyNKa"
   },
   "source": [
    "`pandas` coerces `None` values to `NaN` (\"Not a Number\") values. We can create boolean masks on the basis of such values. The way to identify NaN or None values in a Series is to use either of the equivalent two attributes: `.isna()` and `.isnull()` (existing the opposite `.notna()` and `.notnull()`)."
   ]
  },
  {
   "cell_type": "code",
   "execution_count": null,
   "metadata": {
    "id": "YKL0BWZ4ys07"
   },
   "outputs": [
    {
     "data": {
      "text/plain": [
       "0    False\n",
       "1     True\n",
       "2    False\n",
       "dtype: bool"
      ]
     },
     "execution_count": 47,
     "metadata": {},
     "output_type": "execute_result"
    }
   ],
   "source": [
    "temp.isna()\n",
    "temp.isnull()"
   ]
  },
  {
   "cell_type": "code",
   "execution_count": null,
   "metadata": {
    "id": "hXKCl1Vczg1z"
   },
   "outputs": [
    {
     "data": {
      "text/plain": [
       "0     True\n",
       "1    False\n",
       "2     True\n",
       "dtype: bool"
      ]
     },
     "execution_count": 48,
     "metadata": {},
     "output_type": "execute_result"
    }
   ],
   "source": [
    "temp.notna()\n",
    "temp.notnull()"
   ]
  },
  {
   "cell_type": "markdown",
   "metadata": {
    "id": "7wgzBXTO0jiU"
   },
   "source": [
    "### 7.2 `DataFrame`"
   ]
  },
  {
   "cell_type": "markdown",
   "metadata": {
    "id": "Miqvm-D61ulF"
   },
   "source": [
    "This is `pandas` model for rectangular data. Operationally similar to a dictionary of `Series`; each column of the `DataFrame` is a `Series` object, and comes with all the attributes/methods of a `Series`. An implication is that within each column the data type is common; across columns this can change."
   ]
  },
  {
   "cell_type": "code",
   "execution_count": null,
   "metadata": {
    "id": "sUiqHzru2EuJ"
   },
   "outputs": [
    {
     "data": {
      "text/html": [
       "<div>\n",
       "<style scoped>\n",
       "    .dataframe tbody tr th:only-of-type {\n",
       "        vertical-align: middle;\n",
       "    }\n",
       "\n",
       "    .dataframe tbody tr th {\n",
       "        vertical-align: top;\n",
       "    }\n",
       "\n",
       "    .dataframe thead th {\n",
       "        text-align: right;\n",
       "    }\n",
       "</style>\n",
       "<table border=\"1\" class=\"dataframe\">\n",
       "  <thead>\n",
       "    <tr style=\"text-align: right;\">\n",
       "      <th></th>\n",
       "      <th>total_bill</th>\n",
       "      <th>tip</th>\n",
       "      <th>sex</th>\n",
       "      <th>smoker</th>\n",
       "      <th>day</th>\n",
       "      <th>time</th>\n",
       "      <th>size</th>\n",
       "    </tr>\n",
       "  </thead>\n",
       "  <tbody>\n",
       "    <tr>\n",
       "      <th>0</th>\n",
       "      <td>16.99</td>\n",
       "      <td>1.01</td>\n",
       "      <td>Female</td>\n",
       "      <td>No</td>\n",
       "      <td>Sun</td>\n",
       "      <td>Dinner</td>\n",
       "      <td>2</td>\n",
       "    </tr>\n",
       "    <tr>\n",
       "      <th>1</th>\n",
       "      <td>10.34</td>\n",
       "      <td>1.66</td>\n",
       "      <td>Male</td>\n",
       "      <td>No</td>\n",
       "      <td>Sun</td>\n",
       "      <td>Dinner</td>\n",
       "      <td>3</td>\n",
       "    </tr>\n",
       "    <tr>\n",
       "      <th>2</th>\n",
       "      <td>21.01</td>\n",
       "      <td>3.50</td>\n",
       "      <td>Male</td>\n",
       "      <td>No</td>\n",
       "      <td>Sun</td>\n",
       "      <td>Dinner</td>\n",
       "      <td>3</td>\n",
       "    </tr>\n",
       "    <tr>\n",
       "      <th>3</th>\n",
       "      <td>23.68</td>\n",
       "      <td>3.31</td>\n",
       "      <td>Male</td>\n",
       "      <td>No</td>\n",
       "      <td>Sun</td>\n",
       "      <td>Dinner</td>\n",
       "      <td>2</td>\n",
       "    </tr>\n",
       "    <tr>\n",
       "      <th>4</th>\n",
       "      <td>24.59</td>\n",
       "      <td>3.61</td>\n",
       "      <td>Female</td>\n",
       "      <td>No</td>\n",
       "      <td>Sun</td>\n",
       "      <td>Dinner</td>\n",
       "      <td>4</td>\n",
       "    </tr>\n",
       "  </tbody>\n",
       "</table>\n",
       "</div>"
      ],
      "text/plain": [
       "   total_bill   tip     sex smoker  day    time  size\n",
       "0       16.99  1.01  Female     No  Sun  Dinner     2\n",
       "1       10.34  1.66    Male     No  Sun  Dinner     3\n",
       "2       21.01  3.50    Male     No  Sun  Dinner     3\n",
       "3       23.68  3.31    Male     No  Sun  Dinner     2\n",
       "4       24.59  3.61  Female     No  Sun  Dinner     4"
      ]
     },
     "execution_count": 49,
     "metadata": {},
     "output_type": "execute_result"
    }
   ],
   "source": [
    "# Recall our \"tips\" dataset\n",
    "tips.head(5)  # The first method of our DataFrame object"
   ]
  },
  {
   "cell_type": "code",
   "execution_count": null,
   "metadata": {
    "id": "2soiasvW2GmP"
   },
   "outputs": [
    {
     "name": "stdout",
     "output_type": "stream",
     "text": [
      "(244, 7)\n",
      "RangeIndex(start=0, stop=244, step=1)\n",
      "Index(['total_bill', 'tip', 'sex', 'smoker', 'day', 'time', 'size'], dtype='object')\n"
     ]
    }
   ],
   "source": [
    "# the other important attribute: name of rows and columns\n",
    "print(tips.shape)\n",
    "print(tips.index)\n",
    "print(tips.columns)"
   ]
  },
  {
   "cell_type": "markdown",
   "metadata": {
    "id": "auK1XdC729qL"
   },
   "source": [
    "To access the columns of a `DataFrame` there are two standard ways."
   ]
  },
  {
   "cell_type": "code",
   "execution_count": null,
   "metadata": {
    "id": "5QRthrPs3C6z"
   },
   "outputs": [
    {
     "data": {
      "text/plain": [
       "0      2\n",
       "1      3\n",
       "2      3\n",
       "3      2\n",
       "4      4\n",
       "      ..\n",
       "239    3\n",
       "240    2\n",
       "241    2\n",
       "242    2\n",
       "243    2\n",
       "Name: size, Length: 244, dtype: int64"
      ]
     },
     "execution_count": 51,
     "metadata": {},
     "output_type": "execute_result"
    }
   ],
   "source": [
    "tips.tip  # As if it were a method (NOT recommended)\n",
    "tips[\"size\"]  # As if it were a named index (RECOMMENDED)"
   ]
  },
  {
   "cell_type": "markdown",
   "metadata": {
    "id": "bcQnpynH3QQO"
   },
   "source": [
    "The latter is recommended because, for example, the column `size` cannot be accessed via the first option (it would be confused with the method `.size`). The result of this operation is an object of type `Series`.\n",
    "\n",
    "We can access various columns at a time, supplying a list of columns, obtaining a dataframe with the same index as the original and columns the chosen subset."
   ]
  },
  {
   "cell_type": "code",
   "execution_count": null,
   "metadata": {
    "id": "wITxlEzs35oY"
   },
   "outputs": [
    {
     "data": {
      "text/html": [
       "<div>\n",
       "<style scoped>\n",
       "    .dataframe tbody tr th:only-of-type {\n",
       "        vertical-align: middle;\n",
       "    }\n",
       "\n",
       "    .dataframe tbody tr th {\n",
       "        vertical-align: top;\n",
       "    }\n",
       "\n",
       "    .dataframe thead th {\n",
       "        text-align: right;\n",
       "    }\n",
       "</style>\n",
       "<table border=\"1\" class=\"dataframe\">\n",
       "  <thead>\n",
       "    <tr style=\"text-align: right;\">\n",
       "      <th></th>\n",
       "      <th>tip</th>\n",
       "      <th>size</th>\n",
       "      <th>sex</th>\n",
       "    </tr>\n",
       "  </thead>\n",
       "  <tbody>\n",
       "    <tr>\n",
       "      <th>0</th>\n",
       "      <td>1.01</td>\n",
       "      <td>2</td>\n",
       "      <td>Female</td>\n",
       "    </tr>\n",
       "    <tr>\n",
       "      <th>1</th>\n",
       "      <td>1.66</td>\n",
       "      <td>3</td>\n",
       "      <td>Male</td>\n",
       "    </tr>\n",
       "    <tr>\n",
       "      <th>2</th>\n",
       "      <td>3.50</td>\n",
       "      <td>3</td>\n",
       "      <td>Male</td>\n",
       "    </tr>\n",
       "    <tr>\n",
       "      <th>3</th>\n",
       "      <td>3.31</td>\n",
       "      <td>2</td>\n",
       "      <td>Male</td>\n",
       "    </tr>\n",
       "    <tr>\n",
       "      <th>4</th>\n",
       "      <td>3.61</td>\n",
       "      <td>4</td>\n",
       "      <td>Female</td>\n",
       "    </tr>\n",
       "  </tbody>\n",
       "</table>\n",
       "</div>"
      ],
      "text/plain": [
       "    tip  size     sex\n",
       "0  1.01     2  Female\n",
       "1  1.66     3    Male\n",
       "2  3.50     3    Male\n",
       "3  3.31     2    Male\n",
       "4  3.61     4  Female"
      ]
     },
     "execution_count": 52,
     "metadata": {},
     "output_type": "execute_result"
    }
   ],
   "source": [
    "tips[[\"tip\", \"size\", \"sex\"]].head(5)"
   ]
  },
  {
   "cell_type": "markdown",
   "metadata": {
    "id": "Tfec7agC4V7k"
   },
   "source": [
    "Similarly, you can access rows instead of columns with the same philosophy.\n",
    "\n",
    "*   Using a list of index labels: `tips.loc[ [index1, index2, ...] ]`\n",
    "*   Using a list of integer index location (i-loc): `tips.iloc[ [integer1, integer2, ...] ]`\n",
    "\n"
   ]
  },
  {
   "cell_type": "code",
   "execution_count": null,
   "metadata": {
    "id": "5CtOXR2Q43h4"
   },
   "outputs": [
    {
     "data": {
      "text/html": [
       "<div>\n",
       "<style scoped>\n",
       "    .dataframe tbody tr th:only-of-type {\n",
       "        vertical-align: middle;\n",
       "    }\n",
       "\n",
       "    .dataframe tbody tr th {\n",
       "        vertical-align: top;\n",
       "    }\n",
       "\n",
       "    .dataframe thead th {\n",
       "        text-align: right;\n",
       "    }\n",
       "</style>\n",
       "<table border=\"1\" class=\"dataframe\">\n",
       "  <thead>\n",
       "    <tr style=\"text-align: right;\">\n",
       "      <th></th>\n",
       "      <th>sex</th>\n",
       "      <th>smoker</th>\n",
       "    </tr>\n",
       "  </thead>\n",
       "  <tbody>\n",
       "    <tr>\n",
       "      <th>1</th>\n",
       "      <td>Male</td>\n",
       "      <td>No</td>\n",
       "    </tr>\n",
       "    <tr>\n",
       "      <th>3</th>\n",
       "      <td>Male</td>\n",
       "      <td>No</td>\n",
       "    </tr>\n",
       "  </tbody>\n",
       "</table>\n",
       "</div>"
      ],
      "text/plain": [
       "    sex smoker\n",
       "1  Male     No\n",
       "3  Male     No"
      ]
     },
     "execution_count": 53,
     "metadata": {},
     "output_type": "execute_result"
    }
   ],
   "source": [
    "# Accessing rows AND columns!\n",
    "# Example of 2-dimension loc\n",
    "tips.loc[[1, 3], ['sex', 'smoker']]"
   ]
  },
  {
   "cell_type": "code",
   "execution_count": null,
   "metadata": {
    "id": "06lpQTrN458V"
   },
   "outputs": [
    {
     "data": {
      "text/html": [
       "<div>\n",
       "<style scoped>\n",
       "    .dataframe tbody tr th:only-of-type {\n",
       "        vertical-align: middle;\n",
       "    }\n",
       "\n",
       "    .dataframe tbody tr th {\n",
       "        vertical-align: top;\n",
       "    }\n",
       "\n",
       "    .dataframe thead th {\n",
       "        text-align: right;\n",
       "    }\n",
       "</style>\n",
       "<table border=\"1\" class=\"dataframe\">\n",
       "  <thead>\n",
       "    <tr style=\"text-align: right;\">\n",
       "      <th></th>\n",
       "      <th>sex</th>\n",
       "      <th>smoker</th>\n",
       "      <th>day</th>\n",
       "    </tr>\n",
       "  </thead>\n",
       "  <tbody>\n",
       "    <tr>\n",
       "      <th>1</th>\n",
       "      <td>Male</td>\n",
       "      <td>No</td>\n",
       "      <td>Sun</td>\n",
       "    </tr>\n",
       "    <tr>\n",
       "      <th>3</th>\n",
       "      <td>Male</td>\n",
       "      <td>No</td>\n",
       "      <td>Sun</td>\n",
       "    </tr>\n",
       "  </tbody>\n",
       "</table>\n",
       "</div>"
      ],
      "text/plain": [
       "    sex smoker  day\n",
       "1  Male     No  Sun\n",
       "3  Male     No  Sun"
      ]
     },
     "execution_count": 54,
     "metadata": {},
     "output_type": "execute_result"
    }
   ],
   "source": [
    "# Accessing rows AND columns!\n",
    "# Example of 2-dimensional iloc\n",
    "tips.iloc[[1, 3], 2:5]"
   ]
  },
  {
   "cell_type": "markdown",
   "metadata": {
    "id": "723-ayPy5C6F"
   },
   "source": [
    "Note that certain operations are exchangeable: the 3rd element of column \"sex\" can be obtained with either of the following ways:"
   ]
  },
  {
   "cell_type": "code",
   "execution_count": null,
   "metadata": {
    "id": "e4EsLKeg5D09"
   },
   "outputs": [
    {
     "data": {
      "text/plain": [
       "'Male'"
      ]
     },
     "execution_count": 55,
     "metadata": {},
     "output_type": "execute_result"
    }
   ],
   "source": [
    "tips.sex[2]  # Access col as series, then the 3rd element of that\n",
    "tips.loc[2, \"sex\"]  # Access the entry in DF by giving the index labels of row and col\n",
    "tips.loc[2][\"sex\"]  # Accessing the whole row as a series, then using the column name as index label"
   ]
  },
  {
   "cell_type": "markdown",
   "metadata": {
    "id": "rEXyZ4x55nHU"
   },
   "source": [
    "As with `Series`, we can use a boolean-valued series to index a `DataFrame` provided the share the same index labels. The simplest instance of this is to use series produced as boolean masks of columns of the dataframe. The output of this *filtering* operation is a dataframe with subset of rows corresponding to the `True` values in the boolean mask."
   ]
  },
  {
   "cell_type": "code",
   "execution_count": null,
   "metadata": {
    "id": "cfxb75CS5x_0"
   },
   "outputs": [
    {
     "data": {
      "text/html": [
       "<div>\n",
       "<style scoped>\n",
       "    .dataframe tbody tr th:only-of-type {\n",
       "        vertical-align: middle;\n",
       "    }\n",
       "\n",
       "    .dataframe tbody tr th {\n",
       "        vertical-align: top;\n",
       "    }\n",
       "\n",
       "    .dataframe thead th {\n",
       "        text-align: right;\n",
       "    }\n",
       "</style>\n",
       "<table border=\"1\" class=\"dataframe\">\n",
       "  <thead>\n",
       "    <tr style=\"text-align: right;\">\n",
       "      <th></th>\n",
       "      <th>total_bill</th>\n",
       "      <th>tip</th>\n",
       "      <th>sex</th>\n",
       "      <th>smoker</th>\n",
       "      <th>day</th>\n",
       "      <th>time</th>\n",
       "      <th>size</th>\n",
       "    </tr>\n",
       "  </thead>\n",
       "  <tbody>\n",
       "    <tr>\n",
       "      <th>1</th>\n",
       "      <td>10.34</td>\n",
       "      <td>1.66</td>\n",
       "      <td>Male</td>\n",
       "      <td>No</td>\n",
       "      <td>Sun</td>\n",
       "      <td>Dinner</td>\n",
       "      <td>3</td>\n",
       "    </tr>\n",
       "    <tr>\n",
       "      <th>2</th>\n",
       "      <td>21.01</td>\n",
       "      <td>3.50</td>\n",
       "      <td>Male</td>\n",
       "      <td>No</td>\n",
       "      <td>Sun</td>\n",
       "      <td>Dinner</td>\n",
       "      <td>3</td>\n",
       "    </tr>\n",
       "    <tr>\n",
       "      <th>3</th>\n",
       "      <td>23.68</td>\n",
       "      <td>3.31</td>\n",
       "      <td>Male</td>\n",
       "      <td>No</td>\n",
       "      <td>Sun</td>\n",
       "      <td>Dinner</td>\n",
       "      <td>2</td>\n",
       "    </tr>\n",
       "    <tr>\n",
       "      <th>5</th>\n",
       "      <td>25.29</td>\n",
       "      <td>4.71</td>\n",
       "      <td>Male</td>\n",
       "      <td>No</td>\n",
       "      <td>Sun</td>\n",
       "      <td>Dinner</td>\n",
       "      <td>4</td>\n",
       "    </tr>\n",
       "    <tr>\n",
       "      <th>6</th>\n",
       "      <td>8.77</td>\n",
       "      <td>2.00</td>\n",
       "      <td>Male</td>\n",
       "      <td>No</td>\n",
       "      <td>Sun</td>\n",
       "      <td>Dinner</td>\n",
       "      <td>2</td>\n",
       "    </tr>\n",
       "  </tbody>\n",
       "</table>\n",
       "</div>"
      ],
      "text/plain": [
       "   total_bill   tip   sex smoker  day    time  size\n",
       "1       10.34  1.66  Male     No  Sun  Dinner     3\n",
       "2       21.01  3.50  Male     No  Sun  Dinner     3\n",
       "3       23.68  3.31  Male     No  Sun  Dinner     2\n",
       "5       25.29  4.71  Male     No  Sun  Dinner     4\n",
       "6        8.77  2.00  Male     No  Sun  Dinner     2"
      ]
     },
     "execution_count": 56,
     "metadata": {},
     "output_type": "execute_result"
    }
   ],
   "source": [
    "tips[tips['sex'] == \"Male\"].head(5)"
   ]
  },
  {
   "cell_type": "code",
   "execution_count": null,
   "metadata": {
    "id": "UCm8O1-h7cgI"
   },
   "outputs": [
    {
     "data": {
      "text/html": [
       "<div>\n",
       "<style scoped>\n",
       "    .dataframe tbody tr th:only-of-type {\n",
       "        vertical-align: middle;\n",
       "    }\n",
       "\n",
       "    .dataframe tbody tr th {\n",
       "        vertical-align: top;\n",
       "    }\n",
       "\n",
       "    .dataframe thead th {\n",
       "        text-align: right;\n",
       "    }\n",
       "</style>\n",
       "<table border=\"1\" class=\"dataframe\">\n",
       "  <thead>\n",
       "    <tr style=\"text-align: right;\">\n",
       "      <th></th>\n",
       "      <th>total_bill</th>\n",
       "      <th>tip</th>\n",
       "      <th>sex</th>\n",
       "      <th>smoker</th>\n",
       "      <th>day</th>\n",
       "      <th>time</th>\n",
       "      <th>size</th>\n",
       "    </tr>\n",
       "  </thead>\n",
       "  <tbody>\n",
       "    <tr>\n",
       "      <th>1</th>\n",
       "      <td>10.34</td>\n",
       "      <td>1.66</td>\n",
       "      <td>Male</td>\n",
       "      <td>No</td>\n",
       "      <td>Sun</td>\n",
       "      <td>Dinner</td>\n",
       "      <td>3</td>\n",
       "    </tr>\n",
       "    <tr>\n",
       "      <th>2</th>\n",
       "      <td>21.01</td>\n",
       "      <td>3.50</td>\n",
       "      <td>Male</td>\n",
       "      <td>No</td>\n",
       "      <td>Sun</td>\n",
       "      <td>Dinner</td>\n",
       "      <td>3</td>\n",
       "    </tr>\n",
       "    <tr>\n",
       "      <th>3</th>\n",
       "      <td>23.68</td>\n",
       "      <td>3.31</td>\n",
       "      <td>Male</td>\n",
       "      <td>No</td>\n",
       "      <td>Sun</td>\n",
       "      <td>Dinner</td>\n",
       "      <td>2</td>\n",
       "    </tr>\n",
       "    <tr>\n",
       "      <th>5</th>\n",
       "      <td>25.29</td>\n",
       "      <td>4.71</td>\n",
       "      <td>Male</td>\n",
       "      <td>No</td>\n",
       "      <td>Sun</td>\n",
       "      <td>Dinner</td>\n",
       "      <td>4</td>\n",
       "    </tr>\n",
       "    <tr>\n",
       "      <th>6</th>\n",
       "      <td>8.77</td>\n",
       "      <td>2.00</td>\n",
       "      <td>Male</td>\n",
       "      <td>No</td>\n",
       "      <td>Sun</td>\n",
       "      <td>Dinner</td>\n",
       "      <td>2</td>\n",
       "    </tr>\n",
       "  </tbody>\n",
       "</table>\n",
       "</div>"
      ],
      "text/plain": [
       "   total_bill   tip   sex smoker  day    time  size\n",
       "1       10.34  1.66  Male     No  Sun  Dinner     3\n",
       "2       21.01  3.50  Male     No  Sun  Dinner     3\n",
       "3       23.68  3.31  Male     No  Sun  Dinner     2\n",
       "5       25.29  4.71  Male     No  Sun  Dinner     4\n",
       "6        8.77  2.00  Male     No  Sun  Dinner     2"
      ]
     },
     "execution_count": 57,
     "metadata": {},
     "output_type": "execute_result"
    }
   ],
   "source": [
    "tips[(tips['sex'] == \"Male\") & (tips['day'] == \"Sun\")].head(5)  # Multiple booleans (\"&\", \"|\", \"~\")"
   ]
  },
  {
   "cell_type": "markdown",
   "metadata": {
    "id": "mRDUV-tZ6E6F"
   },
   "source": [
    "A `DataFrame` comes with several attributes for computing column-wise statistics and summaries. We highlight some of them:\n",
    "\n",
    "*   `.boxplot` (check out the `by = ` option)\n",
    "*   `.corrwith` and `.corr` (within and across `DataFrame`'s)\n",
    "*   `.dot`\n",
    "*   `.mean/median/max/quantile/sum`, etc.\n",
    "*   `.sample`\n",
    "*   `.sort_values`\n",
    "*   `.unique`\n"
   ]
  },
  {
   "cell_type": "markdown",
   "metadata": {
    "id": "-S2pP_wZ9E1b"
   },
   "source": [
    "### 7.2.1 `GroupBy`"
   ]
  },
  {
   "cell_type": "markdown",
   "metadata": {
    "id": "tVa4KXKAATQn"
   },
   "source": [
    "This `DataFrame` method groups the `DataFrame` according to the values of a column, treating them as categorical values. It returns a groupby object."
   ]
  },
  {
   "cell_type": "code",
   "execution_count": null,
   "metadata": {
    "id": "VORb1QlvAjuu"
   },
   "outputs": [
    {
     "name": "stdout",
     "output_type": "stream",
     "text": [
      "<pandas.core.groupby.generic.DataFrameGroupBy object at 0x00000213FDE3FFD0>\n"
     ]
    },
    {
     "data": {
      "text/plain": [
       "[(1,\n",
       "       total_bill   tip     sex smoker   day    time  size\n",
       "  67         3.07  1.00  Female    Yes   Sat  Dinner     1\n",
       "  82        10.07  1.83  Female     No  Thur   Lunch     1\n",
       "  111        7.25  1.00  Female     No   Sat  Dinner     1\n",
       "  222        8.58  1.92    Male    Yes   Fri   Lunch     1),\n",
       " (2,\n",
       "       total_bill   tip     sex smoker   day    time  size\n",
       "  0         16.99  1.01  Female     No   Sun  Dinner     2\n",
       "  3         23.68  3.31    Male     No   Sun  Dinner     2\n",
       "  6          8.77  2.00    Male     No   Sun  Dinner     2\n",
       "  8         15.04  1.96    Male     No   Sun  Dinner     2\n",
       "  9         14.78  3.23    Male     No   Sun  Dinner     2\n",
       "  ..          ...   ...     ...    ...   ...     ...   ...\n",
       "  237       32.83  1.17    Male    Yes   Sat  Dinner     2\n",
       "  240       27.18  2.00  Female    Yes   Sat  Dinner     2\n",
       "  241       22.67  2.00    Male    Yes   Sat  Dinner     2\n",
       "  242       17.82  1.75    Male     No   Sat  Dinner     2\n",
       "  243       18.78  3.00  Female     No  Thur  Dinner     2\n",
       "  \n",
       "  [156 rows x 7 columns]),\n",
       " (3,\n",
       "       total_bill    tip     sex smoker   day    time  size\n",
       "  1         10.34   1.66    Male     No   Sun  Dinner     3\n",
       "  2         21.01   3.50    Male     No   Sun  Dinner     3\n",
       "  16        10.33   1.67  Female     No   Sun  Dinner     3\n",
       "  17        16.29   3.71    Male     No   Sun  Dinner     3\n",
       "  18        16.97   3.50  Female     No   Sun  Dinner     3\n",
       "  19        20.65   3.35    Male     No   Sat  Dinner     3\n",
       "  35        24.06   3.60    Male     No   Sat  Dinner     3\n",
       "  36        16.31   2.00    Male     No   Sat  Dinner     3\n",
       "  37        16.93   3.07  Female     No   Sat  Dinner     3\n",
       "  38        18.69   2.31    Male     No   Sat  Dinner     3\n",
       "  39        31.27   5.00    Male     No   Sat  Dinner     3\n",
       "  40        16.04   2.24    Male     No   Sat  Dinner     3\n",
       "  48        28.55   2.05    Male     No   Sun  Dinner     3\n",
       "  64        17.59   2.64    Male     No   Sat  Dinner     3\n",
       "  65        20.08   3.15    Male     No   Sat  Dinner     3\n",
       "  71        17.07   3.00  Female     No   Sat  Dinner     3\n",
       "  102       44.30   2.50  Female    Yes   Sat  Dinner     3\n",
       "  112       38.07   4.00    Male     No   Sun  Dinner     3\n",
       "  114       25.71   4.00  Female     No   Sun  Dinner     3\n",
       "  129       22.82   2.18    Male     No  Thur   Lunch     3\n",
       "  146       18.64   1.36  Female     No  Thur   Lunch     3\n",
       "  152       17.26   2.74    Male     No   Sun  Dinner     3\n",
       "  162       16.21   2.00  Female     No   Sun  Dinner     3\n",
       "  165       24.52   3.48    Male     No   Sun  Dinner     3\n",
       "  170       50.81  10.00    Male    Yes   Sat  Dinner     3\n",
       "  182       45.35   3.50    Male    Yes   Sun  Dinner     3\n",
       "  186       20.90   3.50  Female    Yes   Sun  Dinner     3\n",
       "  188       18.15   3.50  Female    Yes   Sun  Dinner     3\n",
       "  189       23.10   4.00    Male    Yes   Sun  Dinner     3\n",
       "  200       18.71   4.00    Male    Yes  Thur   Lunch     3\n",
       "  205       16.47   3.23  Female    Yes  Thur   Lunch     3\n",
       "  206       26.59   3.41    Male    Yes   Sat  Dinner     3\n",
       "  210       30.06   2.00    Male    Yes   Sat  Dinner     3\n",
       "  214       28.17   6.50  Female    Yes   Sat  Dinner     3\n",
       "  223       15.98   3.00  Female     No   Fri   Lunch     3\n",
       "  231       15.69   3.00    Male    Yes   Sat  Dinner     3\n",
       "  238       35.83   4.67  Female     No   Sat  Dinner     3\n",
       "  239       29.03   5.92    Male     No   Sat  Dinner     3),\n",
       " (4,\n",
       "       total_bill   tip     sex smoker   day    time  size\n",
       "  4         24.59  3.61  Female     No   Sun  Dinner     4\n",
       "  5         25.29  4.71    Male     No   Sun  Dinner     4\n",
       "  7         26.88  3.12    Male     No   Sun  Dinner     4\n",
       "  11        35.26  5.00  Female     No   Sun  Dinner     4\n",
       "  13        18.43  3.00    Male     No   Sun  Dinner     4\n",
       "  23        39.42  7.58    Male     No   Sat  Dinner     4\n",
       "  25        17.81  2.34    Male     No   Sat  Dinner     4\n",
       "  31        18.35  2.50    Male     No   Sat  Dinner     4\n",
       "  33        20.69  2.45  Female     No   Sat  Dinner     4\n",
       "  44        30.40  5.60    Male     No   Sun  Dinner     4\n",
       "  47        32.40  6.00    Male     No   Sun  Dinner     4\n",
       "  52        34.81  5.20  Female     No   Sun  Dinner     4\n",
       "  54        25.56  4.34    Male     No   Sun  Dinner     4\n",
       "  56        38.01  3.00    Male    Yes   Sat  Dinner     4\n",
       "  59        48.27  6.73    Male     No   Sat  Dinner     4\n",
       "  63        18.29  3.76    Male    Yes   Sat  Dinner     4\n",
       "  77        27.20  4.00    Male     No  Thur   Lunch     4\n",
       "  85        34.83  5.17  Female     No  Thur   Lunch     4\n",
       "  95        40.17  4.73    Male    Yes   Fri  Dinner     4\n",
       "  116       29.93  5.07    Male     No   Sun  Dinner     4\n",
       "  119       24.08  2.92  Female     No  Thur   Lunch     4\n",
       "  153       24.55  2.00    Male     No   Sun  Dinner     4\n",
       "  154       19.77  2.00    Male     No   Sun  Dinner     4\n",
       "  157       25.00  3.75  Female     No   Sun  Dinner     4\n",
       "  159       16.49  2.00    Male     No   Sun  Dinner     4\n",
       "  160       21.50  3.50    Male     No   Sun  Dinner     4\n",
       "  167       31.71  4.50    Male     No   Sun  Dinner     4\n",
       "  180       34.65  3.68    Male    Yes   Sun  Dinner     4\n",
       "  183       23.17  6.50    Male    Yes   Sun  Dinner     4\n",
       "  197       43.11  5.00  Female    Yes  Thur   Lunch     4\n",
       "  204       20.53  4.00    Male    Yes  Thur   Lunch     4\n",
       "  207       38.73  3.00    Male    Yes   Sat  Dinner     4\n",
       "  211       25.89  5.16    Male    Yes   Sat  Dinner     4\n",
       "  212       48.33  9.00    Male     No   Sat  Dinner     4\n",
       "  219       30.14  3.09  Female    Yes   Sat  Dinner     4\n",
       "  227       20.45  3.00    Male     No   Sat  Dinner     4\n",
       "  230       24.01  2.00    Male    Yes   Sat  Dinner     4),\n",
       " (5,\n",
       "       total_bill   tip     sex smoker   day    time  size\n",
       "  142       41.19  5.00    Male     No  Thur   Lunch     5\n",
       "  155       29.85  5.14  Female     No   Sun  Dinner     5\n",
       "  185       20.69  5.00    Male     No   Sun  Dinner     5\n",
       "  187       30.46  2.00    Male    Yes   Sun  Dinner     5\n",
       "  216       28.15  3.00    Male    Yes   Sat  Dinner     5),\n",
       " (6,\n",
       "       total_bill  tip     sex smoker   day    time  size\n",
       "  125       29.80  4.2  Female     No  Thur   Lunch     6\n",
       "  141       34.30  6.7    Male     No  Thur   Lunch     6\n",
       "  143       27.05  5.0  Female     No  Thur   Lunch     6\n",
       "  156       48.17  5.0    Male     No   Sun  Dinner     6)]"
      ]
     },
     "execution_count": 58,
     "metadata": {},
     "output_type": "execute_result"
    }
   ],
   "source": [
    "# Group tips DataFrame by size of table\n",
    "by_size = tips.groupby(\"size\")\n",
    "print(by_size)\n",
    "\n",
    "# If we coerce it to a list, we see something interesting: \n",
    "# it's basically a list of tuples\n",
    "# The first element is the \"category\" variable, the second\n",
    "# is a datafame. \n",
    "list(by_size)"
   ]
  },
  {
   "cell_type": "code",
   "execution_count": null,
   "metadata": {
    "id": "duXyLLnzBJsa"
   },
   "outputs": [
    {
     "data": {
      "text/plain": [
       "[('Female',\n",
       "       total_bill   tip     sex smoker   day    time  size\n",
       "  0         16.99  1.01  Female     No   Sun  Dinner     2\n",
       "  4         24.59  3.61  Female     No   Sun  Dinner     4\n",
       "  11        35.26  5.00  Female     No   Sun  Dinner     4\n",
       "  14        14.83  3.02  Female     No   Sun  Dinner     2\n",
       "  16        10.33  1.67  Female     No   Sun  Dinner     3\n",
       "  ..          ...   ...     ...    ...   ...     ...   ...\n",
       "  226       10.09  2.00  Female    Yes   Fri   Lunch     2\n",
       "  229       22.12  2.88  Female    Yes   Sat  Dinner     2\n",
       "  238       35.83  4.67  Female     No   Sat  Dinner     3\n",
       "  240       27.18  2.00  Female    Yes   Sat  Dinner     2\n",
       "  243       18.78  3.00  Female     No  Thur  Dinner     2\n",
       "  \n",
       "  [87 rows x 7 columns]),\n",
       " ('Male',\n",
       "       total_bill   tip   sex smoker  day    time  size\n",
       "  1         10.34  1.66  Male     No  Sun  Dinner     3\n",
       "  2         21.01  3.50  Male     No  Sun  Dinner     3\n",
       "  3         23.68  3.31  Male     No  Sun  Dinner     2\n",
       "  5         25.29  4.71  Male     No  Sun  Dinner     4\n",
       "  6          8.77  2.00  Male     No  Sun  Dinner     2\n",
       "  ..          ...   ...   ...    ...  ...     ...   ...\n",
       "  236       12.60  1.00  Male    Yes  Sat  Dinner     2\n",
       "  237       32.83  1.17  Male    Yes  Sat  Dinner     2\n",
       "  239       29.03  5.92  Male     No  Sat  Dinner     3\n",
       "  241       22.67  2.00  Male    Yes  Sat  Dinner     2\n",
       "  242       17.82  1.75  Male     No  Sat  Dinner     2\n",
       "  \n",
       "  [157 rows x 7 columns])]"
      ]
     },
     "execution_count": 59,
     "metadata": {},
     "output_type": "execute_result"
    }
   ],
   "source": [
    "list(tips.groupby(\"sex\"))"
   ]
  },
  {
   "cell_type": "code",
   "execution_count": null,
   "metadata": {
    "id": "-R7wbSOKBSDV"
   },
   "outputs": [
    {
     "name": "stdout",
     "output_type": "stream",
     "text": [
      "Female\n",
      "total_bill    18.056897\n",
      "tip            2.833448\n",
      "size           2.459770\n",
      "dtype: float64\n",
      "Male\n",
      "total_bill    20.744076\n",
      "tip            3.089618\n",
      "size           2.630573\n",
      "dtype: float64\n"
     ]
    },
    {
     "name": "stderr",
     "output_type": "stream",
     "text": [
      "C:\\Users\\wangc\\AppData\\Local\\Temp\\ipykernel_17768\\969912475.py:4: FutureWarning: Dropping of nuisance columns in DataFrame reductions (with 'numeric_only=None') is deprecated; in a future version this will raise TypeError.  Select only valid columns before calling the reduction.\n",
      "  print(data.mean())\n"
     ]
    }
   ],
   "source": [
    "# We can iterate through the groupby just like we would a list of tuples!\n",
    "for sex, data in tips.groupby(\"sex\"):\n",
    "    print(sex)\n",
    "    print(data.mean())\n"
   ]
  },
  {
   "cell_type": "markdown",
   "metadata": {
    "id": "2XNww55FCCxr"
   },
   "source": [
    "We `groupby` to perform *some* operation on each group, to *map* over the groups, applying a function to each element Very often this function is itself an aggregation (*reduction*). We want to somehow aggregate each group into a value or set of values that *describe* it.\n",
    "\n",
    "To apply functions to each element of a `groupby`, we use `.apply`:\n"
   ]
  },
  {
   "cell_type": "code",
   "execution_count": null,
   "metadata": {
    "id": "LIH-cDcYCwuC"
   },
   "outputs": [
    {
     "data": {
      "text/plain": [
       "sex\n",
       "Female    44.30\n",
       "Male      50.81\n",
       "dtype: float64"
      ]
     },
     "execution_count": 61,
     "metadata": {},
     "output_type": "execute_result"
    }
   ],
   "source": [
    "# Get the maximum bill by gender: \n",
    "def max_bill(df):\n",
    "    return df['total_bill'].max()\n",
    "\n",
    "tips.groupby(\"sex\").apply(max_bill)"
   ]
  },
  {
   "cell_type": "markdown",
   "metadata": {
    "id": "15Yt4Yf_C835"
   },
   "source": [
    "Many aggregation functions that exist on Series and `DataFrames` (`mean`, `max`, `min`, etc.) can be called directly via the groupby object:"
   ]
  },
  {
   "cell_type": "code",
   "execution_count": null,
   "metadata": {
    "id": "vtxi5Y5_DEBW"
   },
   "outputs": [
    {
     "name": "stdout",
     "output_type": "stream",
     "text": [
      "        total_bill   tip smoker   day   time  size\n",
      "sex                                               \n",
      "Female       44.30   6.5    Yes  Thur  Lunch     6\n",
      "Male         50.81  10.0    Yes  Thur  Lunch     6\n",
      "        total_bill       tip      size\n",
      "sex                                   \n",
      "Female   18.056897  2.833448  2.459770\n",
      "Male     20.744076  3.089618  2.630573\n"
     ]
    }
   ],
   "source": [
    "print(tips.groupby(\"sex\").max())\n",
    "print(tips.groupby(\"sex\").mean())"
   ]
  },
  {
   "cell_type": "markdown",
   "metadata": {
    "id": "eehSz5mJDbrV"
   },
   "source": [
    "We can actually `groupby` more than one column:"
   ]
  },
  {
   "cell_type": "code",
   "execution_count": null,
   "metadata": {
    "id": "tOfKlZvkDavP"
   },
   "outputs": [
    {
     "data": {
      "text/plain": [
       "sex     day \n",
       "Female  Fri     2.781111\n",
       "        Sat     2.801786\n",
       "        Sun     3.367222\n",
       "        Thur    2.575625\n",
       "Male    Fri     2.693000\n",
       "        Sat     3.083898\n",
       "        Sun     3.220345\n",
       "        Thur    2.980333\n",
       "Name: tip, dtype: float64"
      ]
     },
     "execution_count": 63,
     "metadata": {},
     "output_type": "execute_result"
    }
   ],
   "source": [
    "tips.groupby([\"sex\", \"day\"])['tip'].mean()"
   ]
  },
  {
   "cell_type": "markdown",
   "metadata": {
    "id": "gkOY2q1Q9IFr"
   },
   "source": [
    "### 7.2.2 Combining `DataFrame`'s"
   ]
  },
  {
   "cell_type": "markdown",
   "metadata": {
    "id": "nBvPJzomEJ-u"
   },
   "source": [
    "There are many ways to combine various `DataFrame`s into a new one, extending in many ways what we already saw for operations on `Series`. The main ways of doing this are:\n",
    "\n",
    "*   **Concatenate**: paste row-column-wise and taking action on `NaN`s (this works more on the rectangular structure of the data)\n",
    "*   **Merge**: combine `DataFrame`s using a common piece of information, e.g. an identifier column (this works more as a database operation)\n",
    "\n"
   ]
  },
  {
   "cell_type": "code",
   "execution_count": null,
   "metadata": {
    "id": "j4kHvoGOHxNL"
   },
   "outputs": [
    {
     "data": {
      "text/html": [
       "<div>\n",
       "<style scoped>\n",
       "    .dataframe tbody tr th:only-of-type {\n",
       "        vertical-align: middle;\n",
       "    }\n",
       "\n",
       "    .dataframe tbody tr th {\n",
       "        vertical-align: top;\n",
       "    }\n",
       "\n",
       "    .dataframe thead th {\n",
       "        text-align: right;\n",
       "    }\n",
       "</style>\n",
       "<table border=\"1\" class=\"dataframe\">\n",
       "  <thead>\n",
       "    <tr style=\"text-align: right;\">\n",
       "      <th></th>\n",
       "      <th>A</th>\n",
       "      <th>B</th>\n",
       "      <th>C</th>\n",
       "    </tr>\n",
       "  </thead>\n",
       "  <tbody>\n",
       "    <tr>\n",
       "      <th>0</th>\n",
       "      <td>1</td>\n",
       "      <td>4.0</td>\n",
       "      <td>NaN</td>\n",
       "    </tr>\n",
       "    <tr>\n",
       "      <th>1</th>\n",
       "      <td>2</td>\n",
       "      <td>5.0</td>\n",
       "      <td>NaN</td>\n",
       "    </tr>\n",
       "    <tr>\n",
       "      <th>2</th>\n",
       "      <td>3</td>\n",
       "      <td>6.0</td>\n",
       "      <td>NaN</td>\n",
       "    </tr>\n",
       "    <tr>\n",
       "      <th>0</th>\n",
       "      <td>4</td>\n",
       "      <td>NaN</td>\n",
       "      <td>7.0</td>\n",
       "    </tr>\n",
       "  </tbody>\n",
       "</table>\n",
       "</div>"
      ],
      "text/plain": [
       "   A    B    C\n",
       "0  1  4.0  NaN\n",
       "1  2  5.0  NaN\n",
       "2  3  6.0  NaN\n",
       "0  4  NaN  7.0"
      ]
     },
     "execution_count": 64,
     "metadata": {},
     "output_type": "execute_result"
    }
   ],
   "source": [
    "# Concatenate\n",
    "df1 = pd.DataFrame({\"A\": pd.Series([1, 2, 3]), \"B\": pd.Series([4, 5, 6])})\n",
    "df2 = pd.DataFrame({\"A\": pd.Series([4]), \"C\": pd.Series([7])})\n",
    "pd.concat([df1, df2], axis = 0)\n",
    "# axis: 0 for pasting below, 1 for pasting on the side"
   ]
  },
  {
   "cell_type": "code",
   "execution_count": null,
   "metadata": {
    "id": "82iO002oIZUH"
   },
   "outputs": [
    {
     "data": {
      "text/html": [
       "<div>\n",
       "<style scoped>\n",
       "    .dataframe tbody tr th:only-of-type {\n",
       "        vertical-align: middle;\n",
       "    }\n",
       "\n",
       "    .dataframe tbody tr th {\n",
       "        vertical-align: top;\n",
       "    }\n",
       "\n",
       "    .dataframe thead th {\n",
       "        text-align: right;\n",
       "    }\n",
       "</style>\n",
       "<table border=\"1\" class=\"dataframe\">\n",
       "  <thead>\n",
       "    <tr style=\"text-align: right;\">\n",
       "      <th></th>\n",
       "      <th>A</th>\n",
       "      <th>B</th>\n",
       "      <th>A</th>\n",
       "      <th>C</th>\n",
       "    </tr>\n",
       "  </thead>\n",
       "  <tbody>\n",
       "    <tr>\n",
       "      <th>0</th>\n",
       "      <td>1</td>\n",
       "      <td>4</td>\n",
       "      <td>4</td>\n",
       "      <td>7</td>\n",
       "    </tr>\n",
       "  </tbody>\n",
       "</table>\n",
       "</div>"
      ],
      "text/plain": [
       "   A  B  A  C\n",
       "0  1  4  4  7"
      ]
     },
     "execution_count": 65,
     "metadata": {},
     "output_type": "execute_result"
    }
   ],
   "source": [
    "df1 = pd.DataFrame({\"A\": pd.Series([1, 2, 3]), \"B\": pd.Series([4, 5, 6])})\n",
    "df2 = pd.DataFrame({\"A\": pd.Series([4]), \"C\": pd.Series([7])})\n",
    "pd.concat([df1, df2], axis = 1, join = \"inner\")  # \"inner\" join"
   ]
  },
  {
   "cell_type": "code",
   "execution_count": null,
   "metadata": {
    "id": "bKtAAPjHIsSE"
   },
   "outputs": [
    {
     "data": {
      "text/html": [
       "<div>\n",
       "<style scoped>\n",
       "    .dataframe tbody tr th:only-of-type {\n",
       "        vertical-align: middle;\n",
       "    }\n",
       "\n",
       "    .dataframe tbody tr th {\n",
       "        vertical-align: top;\n",
       "    }\n",
       "\n",
       "    .dataframe thead th {\n",
       "        text-align: right;\n",
       "    }\n",
       "</style>\n",
       "<table border=\"1\" class=\"dataframe\">\n",
       "  <thead>\n",
       "    <tr style=\"text-align: right;\">\n",
       "      <th></th>\n",
       "      <th>A</th>\n",
       "      <th>B</th>\n",
       "    </tr>\n",
       "  </thead>\n",
       "  <tbody>\n",
       "    <tr>\n",
       "      <th>0</th>\n",
       "      <td>1</td>\n",
       "      <td>4</td>\n",
       "    </tr>\n",
       "    <tr>\n",
       "      <th>1</th>\n",
       "      <td>2</td>\n",
       "      <td>5</td>\n",
       "    </tr>\n",
       "    <tr>\n",
       "      <th>2</th>\n",
       "      <td>3</td>\n",
       "      <td>6</td>\n",
       "    </tr>\n",
       "    <tr>\n",
       "      <th>0</th>\n",
       "      <td>4</td>\n",
       "      <td>7</td>\n",
       "    </tr>\n",
       "  </tbody>\n",
       "</table>\n",
       "</div>"
      ],
      "text/plain": [
       "   A  B\n",
       "0  1  4\n",
       "1  2  5\n",
       "2  3  6\n",
       "0  4  7"
      ]
     },
     "execution_count": 66,
     "metadata": {},
     "output_type": "execute_result"
    }
   ],
   "source": [
    "# Concatenation is mostly used when the rows or columns are shared. \n",
    "# For example, you might have data with the same columns and want to concatenate them on axis 0:\n",
    "# But note: what happened to the index? \n",
    "# We might want to reset it. \n",
    "df1 = pd.DataFrame({\"A\": pd.Series([1, 2, 3]), \"B\": pd.Series([4, 5, 6])})\n",
    "df2 = pd.DataFrame({\"A\": pd.Series([4]), \"B\": pd.Series([7])})\n",
    "df3 = pd.concat([df1, df2], axis = 0)\n",
    "df3"
   ]
  },
  {
   "cell_type": "code",
   "execution_count": null,
   "metadata": {
    "id": "R6mehnrOIuKC"
   },
   "outputs": [
    {
     "data": {
      "text/html": [
       "<div>\n",
       "<style scoped>\n",
       "    .dataframe tbody tr th:only-of-type {\n",
       "        vertical-align: middle;\n",
       "    }\n",
       "\n",
       "    .dataframe tbody tr th {\n",
       "        vertical-align: top;\n",
       "    }\n",
       "\n",
       "    .dataframe thead th {\n",
       "        text-align: right;\n",
       "    }\n",
       "</style>\n",
       "<table border=\"1\" class=\"dataframe\">\n",
       "  <thead>\n",
       "    <tr style=\"text-align: right;\">\n",
       "      <th></th>\n",
       "      <th>A</th>\n",
       "      <th>B</th>\n",
       "      <th>C</th>\n",
       "      <th>D</th>\n",
       "    </tr>\n",
       "  </thead>\n",
       "  <tbody>\n",
       "    <tr>\n",
       "      <th>0</th>\n",
       "      <td>1</td>\n",
       "      <td>4</td>\n",
       "      <td>4.0</td>\n",
       "      <td>7.0</td>\n",
       "    </tr>\n",
       "    <tr>\n",
       "      <th>1</th>\n",
       "      <td>2</td>\n",
       "      <td>5</td>\n",
       "      <td>NaN</td>\n",
       "      <td>NaN</td>\n",
       "    </tr>\n",
       "    <tr>\n",
       "      <th>2</th>\n",
       "      <td>3</td>\n",
       "      <td>6</td>\n",
       "      <td>NaN</td>\n",
       "      <td>NaN</td>\n",
       "    </tr>\n",
       "  </tbody>\n",
       "</table>\n",
       "</div>"
      ],
      "text/plain": [
       "   A  B    C    D\n",
       "0  1  4  4.0  7.0\n",
       "1  2  5  NaN  NaN\n",
       "2  3  6  NaN  NaN"
      ]
     },
     "execution_count": 67,
     "metadata": {},
     "output_type": "execute_result"
    }
   ],
   "source": [
    "# Similarly, you might have data with the same rows and different columns:\n",
    "df1 = pd.DataFrame({\"A\": pd.Series([1, 2, 3]), \"B\": pd.Series([4, 5, 6])})\n",
    "df2 = pd.DataFrame({\"C\": pd.Series([4]), \"D\": pd.Series([7])})\n",
    "pd.concat([df1, df2], axis = 1)"
   ]
  },
  {
   "cell_type": "code",
   "execution_count": null,
   "metadata": {
    "id": "Unn6_1LiIwb_"
   },
   "outputs": [
    {
     "data": {
      "text/html": [
       "<div>\n",
       "<style scoped>\n",
       "    .dataframe tbody tr th:only-of-type {\n",
       "        vertical-align: middle;\n",
       "    }\n",
       "\n",
       "    .dataframe tbody tr th {\n",
       "        vertical-align: top;\n",
       "    }\n",
       "\n",
       "    .dataframe thead th {\n",
       "        text-align: right;\n",
       "    }\n",
       "</style>\n",
       "<table border=\"1\" class=\"dataframe\">\n",
       "  <thead>\n",
       "    <tr style=\"text-align: right;\">\n",
       "      <th></th>\n",
       "      <th>A</th>\n",
       "      <th>B</th>\n",
       "      <th>C</th>\n",
       "      <th>D</th>\n",
       "    </tr>\n",
       "  </thead>\n",
       "  <tbody>\n",
       "    <tr>\n",
       "      <th>0</th>\n",
       "      <td>1</td>\n",
       "      <td>4</td>\n",
       "      <td>7.0</td>\n",
       "      <td>10.0</td>\n",
       "    </tr>\n",
       "    <tr>\n",
       "      <th>1</th>\n",
       "      <td>2</td>\n",
       "      <td>5</td>\n",
       "      <td>NaN</td>\n",
       "      <td>NaN</td>\n",
       "    </tr>\n",
       "    <tr>\n",
       "      <th>2</th>\n",
       "      <td>3</td>\n",
       "      <td>6</td>\n",
       "      <td>NaN</td>\n",
       "      <td>NaN</td>\n",
       "    </tr>\n",
       "  </tbody>\n",
       "</table>\n",
       "</div>"
      ],
      "text/plain": [
       "   A  B    C     D\n",
       "0  1  4  7.0  10.0\n",
       "1  2  5  NaN   NaN\n",
       "2  3  6  NaN   NaN"
      ]
     },
     "execution_count": 68,
     "metadata": {},
     "output_type": "execute_result"
    }
   ],
   "source": [
    "# But note what happens if the rows do not align, and you concatenate on axis 1 (by rows):\n",
    "df1 = pd.DataFrame({\"A\": pd.Series([1, 2, 3]), \"B\": pd.Series([4, 5, 6])})\n",
    "df2 = pd.DataFrame({\"C\": pd.Series([7]), \"D\": pd.Series([10])})\n",
    "pd.concat([df1, df2], axis = 1)"
   ]
  },
  {
   "cell_type": "markdown",
   "metadata": {
    "id": "xR2E9PJFJLmL"
   },
   "source": [
    "Let's go with merging now: `merge` is commonly used when your two `DataFrame`s must be connected and they do not share an index or columns. With merge we will connect two `DataFrame`s on some common piece of information, e.g. a common column. There are four types of `join` operations:\n",
    "\n",
    "*   `inner`-join: **intersection** of *keys*\n",
    "*   `outer`-join: **union** of *keys*\n",
    "*   `left`-join: use *keys* from **left only**\n",
    "*   `right`-join: use *keys* from **right only**"
   ]
  },
  {
   "cell_type": "code",
   "execution_count": null,
   "metadata": {
    "id": "46tt1Z1tJLUP"
   },
   "outputs": [
    {
     "data": {
      "text/html": [
       "<div>\n",
       "<style scoped>\n",
       "    .dataframe tbody tr th:only-of-type {\n",
       "        vertical-align: middle;\n",
       "    }\n",
       "\n",
       "    .dataframe tbody tr th {\n",
       "        vertical-align: top;\n",
       "    }\n",
       "\n",
       "    .dataframe thead th {\n",
       "        text-align: right;\n",
       "    }\n",
       "</style>\n",
       "<table border=\"1\" class=\"dataframe\">\n",
       "  <thead>\n",
       "    <tr style=\"text-align: right;\">\n",
       "      <th></th>\n",
       "      <th>A</th>\n",
       "      <th>B</th>\n",
       "      <th>C</th>\n",
       "    </tr>\n",
       "  </thead>\n",
       "  <tbody>\n",
       "    <tr>\n",
       "      <th>0</th>\n",
       "      <td>3</td>\n",
       "      <td>6.0</td>\n",
       "      <td>7</td>\n",
       "    </tr>\n",
       "    <tr>\n",
       "      <th>1</th>\n",
       "      <td>4</td>\n",
       "      <td>NaN</td>\n",
       "      <td>8</td>\n",
       "    </tr>\n",
       "  </tbody>\n",
       "</table>\n",
       "</div>"
      ],
      "text/plain": [
       "   A    B  C\n",
       "0  3  6.0  7\n",
       "1  4  NaN  8"
      ]
     },
     "execution_count": 69,
     "metadata": {},
     "output_type": "execute_result"
    }
   ],
   "source": [
    "# Merging\n",
    "df1 = pd.DataFrame({\"A\": pd.Series([1, 2, 3]), \"B\": pd.Series([4, 5, 6])})\n",
    "df2 = pd.DataFrame({\"A\": pd.Series([3, 4]), \"C\": pd.Series([7, 8])})\n",
    "\n",
    "# \"on\" defines on what piece of information the DataFrame's will merge\n",
    "pd.merge(df1, df2, on = 'A', how = 'right')  # if column names differ, use \"left_on\" and \"right_on\""
   ]
  },
  {
   "cell_type": "code",
   "execution_count": null,
   "metadata": {
    "id": "j0gJRMeMJ0gr"
   },
   "outputs": [
    {
     "data": {
      "text/html": [
       "<div>\n",
       "<style scoped>\n",
       "    .dataframe tbody tr th:only-of-type {\n",
       "        vertical-align: middle;\n",
       "    }\n",
       "\n",
       "    .dataframe tbody tr th {\n",
       "        vertical-align: top;\n",
       "    }\n",
       "\n",
       "    .dataframe thead th {\n",
       "        text-align: right;\n",
       "    }\n",
       "</style>\n",
       "<table border=\"1\" class=\"dataframe\">\n",
       "  <thead>\n",
       "    <tr style=\"text-align: right;\">\n",
       "      <th></th>\n",
       "      <th>A</th>\n",
       "      <th>B</th>\n",
       "      <th>C</th>\n",
       "    </tr>\n",
       "  </thead>\n",
       "  <tbody>\n",
       "    <tr>\n",
       "      <th>0</th>\n",
       "      <td>1</td>\n",
       "      <td>4</td>\n",
       "      <td>NaN</td>\n",
       "    </tr>\n",
       "    <tr>\n",
       "      <th>1</th>\n",
       "      <td>2</td>\n",
       "      <td>5</td>\n",
       "      <td>NaN</td>\n",
       "    </tr>\n",
       "    <tr>\n",
       "      <th>2</th>\n",
       "      <td>3</td>\n",
       "      <td>6</td>\n",
       "      <td>7.0</td>\n",
       "    </tr>\n",
       "  </tbody>\n",
       "</table>\n",
       "</div>"
      ],
      "text/plain": [
       "   A  B    C\n",
       "0  1  4  NaN\n",
       "1  2  5  NaN\n",
       "2  3  6  7.0"
      ]
     },
     "execution_count": 70,
     "metadata": {},
     "output_type": "execute_result"
    }
   ],
   "source": [
    "pd.merge(df1, df2, on = 'A', how = 'left')"
   ]
  },
  {
   "cell_type": "code",
   "execution_count": null,
   "metadata": {
    "id": "U103WteCJ09k"
   },
   "outputs": [
    {
     "data": {
      "text/html": [
       "<div>\n",
       "<style scoped>\n",
       "    .dataframe tbody tr th:only-of-type {\n",
       "        vertical-align: middle;\n",
       "    }\n",
       "\n",
       "    .dataframe tbody tr th {\n",
       "        vertical-align: top;\n",
       "    }\n",
       "\n",
       "    .dataframe thead th {\n",
       "        text-align: right;\n",
       "    }\n",
       "</style>\n",
       "<table border=\"1\" class=\"dataframe\">\n",
       "  <thead>\n",
       "    <tr style=\"text-align: right;\">\n",
       "      <th></th>\n",
       "      <th>A</th>\n",
       "      <th>B</th>\n",
       "      <th>C</th>\n",
       "    </tr>\n",
       "  </thead>\n",
       "  <tbody>\n",
       "    <tr>\n",
       "      <th>0</th>\n",
       "      <td>1</td>\n",
       "      <td>4.0</td>\n",
       "      <td>NaN</td>\n",
       "    </tr>\n",
       "    <tr>\n",
       "      <th>1</th>\n",
       "      <td>2</td>\n",
       "      <td>5.0</td>\n",
       "      <td>NaN</td>\n",
       "    </tr>\n",
       "    <tr>\n",
       "      <th>2</th>\n",
       "      <td>3</td>\n",
       "      <td>6.0</td>\n",
       "      <td>7.0</td>\n",
       "    </tr>\n",
       "    <tr>\n",
       "      <th>3</th>\n",
       "      <td>4</td>\n",
       "      <td>NaN</td>\n",
       "      <td>8.0</td>\n",
       "    </tr>\n",
       "  </tbody>\n",
       "</table>\n",
       "</div>"
      ],
      "text/plain": [
       "   A    B    C\n",
       "0  1  4.0  NaN\n",
       "1  2  5.0  NaN\n",
       "2  3  6.0  7.0\n",
       "3  4  NaN  8.0"
      ]
     },
     "execution_count": 71,
     "metadata": {},
     "output_type": "execute_result"
    }
   ],
   "source": [
    "pd.merge(df1, df2, on = 'A', how = 'outer')"
   ]
  },
  {
   "cell_type": "code",
   "execution_count": null,
   "metadata": {
    "id": "i8yGSFG1J3Af"
   },
   "outputs": [
    {
     "data": {
      "text/html": [
       "<div>\n",
       "<style scoped>\n",
       "    .dataframe tbody tr th:only-of-type {\n",
       "        vertical-align: middle;\n",
       "    }\n",
       "\n",
       "    .dataframe tbody tr th {\n",
       "        vertical-align: top;\n",
       "    }\n",
       "\n",
       "    .dataframe thead th {\n",
       "        text-align: right;\n",
       "    }\n",
       "</style>\n",
       "<table border=\"1\" class=\"dataframe\">\n",
       "  <thead>\n",
       "    <tr style=\"text-align: right;\">\n",
       "      <th></th>\n",
       "      <th>A</th>\n",
       "      <th>B</th>\n",
       "      <th>C</th>\n",
       "    </tr>\n",
       "  </thead>\n",
       "  <tbody>\n",
       "    <tr>\n",
       "      <th>0</th>\n",
       "      <td>3</td>\n",
       "      <td>6</td>\n",
       "      <td>7</td>\n",
       "    </tr>\n",
       "  </tbody>\n",
       "</table>\n",
       "</div>"
      ],
      "text/plain": [
       "   A  B  C\n",
       "0  3  6  7"
      ]
     },
     "execution_count": 72,
     "metadata": {},
     "output_type": "execute_result"
    }
   ],
   "source": [
    "pd.merge(df1, df2, on='A', how = 'inner')"
   ]
  },
  {
   "cell_type": "markdown",
   "metadata": {
    "id": "YS858YXVHT9_"
   },
   "source": [
    "---\n",
    "## 8. String manipulation"
   ]
  },
  {
   "cell_type": "markdown",
   "metadata": {
    "id": "KIyoQcKHWXrL"
   },
   "source": [
    "### 8.1 Simple operations\n",
    "\n",
    "You may find yourself working with text data, a.k.a. strings. \n",
    "\n",
    "Strings are actually iterables, just like lists. They can be subset analogously:"
   ]
  },
  {
   "cell_type": "code",
   "execution_count": null,
   "metadata": {
    "id": "jMwvvpUpU_H2"
   },
   "outputs": [
    {
     "data": {
      "text/plain": [
       "'python'"
      ]
     },
     "execution_count": 73,
     "metadata": {},
     "output_type": "execute_result"
    }
   ],
   "source": [
    "x = \"one python string\"\n",
    "x[4:10]"
   ]
  },
  {
   "cell_type": "code",
   "execution_count": null,
   "metadata": {
    "id": "mK2rS2DVVGhy"
   },
   "outputs": [
    {
     "data": {
      "text/plain": [
       "True"
      ]
     },
     "execution_count": 74,
     "metadata": {},
     "output_type": "execute_result"
    }
   ],
   "source": [
    "# You can also turn a string into a list of strings via the \"split\" method:\n",
    "x = \"one python string\"\n",
    "y = x.split(\" \")\n",
    "y == [\"one\", \"python\", \"string\"]"
   ]
  },
  {
   "cell_type": "code",
   "execution_count": null,
   "metadata": {
    "id": "Mnay03Q1VQXb"
   },
   "outputs": [
    {
     "data": {
      "text/plain": [
       "True"
      ]
     },
     "execution_count": 75,
     "metadata": {},
     "output_type": "execute_result"
    }
   ],
   "source": [
    "# The reverse is also possible via the \"join\" method:\n",
    "space = \" \"\n",
    "z = space.join(y)\n",
    "z == x"
   ]
  },
  {
   "cell_type": "markdown",
   "metadata": {
    "id": "EE-blUVMVX3n"
   },
   "source": [
    "You can also make everything lower (or upper) case, replace certain substrings with other substrings, and check for the existence of a substring with `in`:"
   ]
  },
  {
   "cell_type": "code",
   "execution_count": null,
   "metadata": {
    "id": "EBofjnfoVUKQ"
   },
   "outputs": [
    {
     "data": {
      "text/plain": [
       "'my python string'"
      ]
     },
     "execution_count": 76,
     "metadata": {},
     "output_type": "execute_result"
    }
   ],
   "source": [
    "z = \"My Python String\"\n",
    "z.lower()"
   ]
  },
  {
   "cell_type": "code",
   "execution_count": null,
   "metadata": {
    "id": "GRv6XFXlVe66"
   },
   "outputs": [
    {
     "data": {
      "text/plain": [
       "'MY PYTHON STRING'"
      ]
     },
     "execution_count": 77,
     "metadata": {},
     "output_type": "execute_result"
    }
   ],
   "source": [
    "z.upper()"
   ]
  },
  {
   "cell_type": "code",
   "execution_count": null,
   "metadata": {
    "id": "Iq4Od0jmVgPp"
   },
   "outputs": [
    {
     "name": "stdout",
     "output_type": "stream",
     "text": [
      "My R String\n"
     ]
    },
    {
     "data": {
      "text/plain": [
       "False"
      ]
     },
     "execution_count": 78,
     "metadata": {},
     "output_type": "execute_result"
    }
   ],
   "source": [
    "w = z.replace(\"Python\", \"R\")\n",
    "print(w)\n",
    "\"Python\" in w"
   ]
  },
  {
   "cell_type": "markdown",
   "metadata": {
    "id": "JuazOlFFV1ZV"
   },
   "source": [
    "There are many more easy-to-use, built-in tools for working with text data in Python. You can read more here:\n",
    "\n",
    "*   https://docs.python.org/3/library/stdtypes.html#string-method"
   ]
  },
  {
   "cell_type": "markdown",
   "metadata": {
    "id": "pihFEbEzWdLh"
   },
   "source": [
    "### 8.2 Regular expressions\n",
    "\n",
    "A *regular expression* is a special sequence of characters that helps you match or find other strings or sets of strings, using a specialized syntax held in a pattern. Regular expressions are used in different languages, we'll also review them in the `R` session. Python uses the module `re` to deal with them.\n",
    "\n",
    "Let's pretend we have an `html` text. Find **all** words tagged as bold (`<b>word</b>`) in `html`, turn them to italics (`<i>word</i>`) and add the word \"freaking\" before them."
   ]
  },
  {
   "cell_type": "code",
   "execution_count": null,
   "metadata": {
    "id": "O3w8rlYAYjap"
   },
   "outputs": [
    {
     "data": {
      "text/plain": [
       "'Why am I taking this <i>freaking course</i>? I want to go back to the <i>freaking holidays</i>.'"
      ]
     },
     "execution_count": 79,
     "metadata": {},
     "output_type": "execute_result"
    }
   ],
   "source": [
    "import re\n",
    "\n",
    "a_text = 'Why am I taking this <b>course</b>? I want to go back to the <b>holidays</b>.'\n",
    "\n",
    "# Prefix 'r' is an indicator of regular expression\n",
    "the_regex = r'<b>([a-z\\s]+)</b>'\n",
    "replacement = r'<i>freaking \\1</i>'\n",
    "\n",
    "# Function to replace a regular expression with another\n",
    "re.sub(the_regex, replacement, a_text)"
   ]
  },
  {
   "cell_type": "markdown",
   "metadata": {
    "id": "oEjqTySIb0qM"
   },
   "source": [
    "Some helpful functions to manouvering with regular expressions with `re`:\n",
    "\n",
    "*  `re.search(pattern, string)`: scan through `string` looking for locations where the regular expression `pattern` produces a match, and return a corresponding match object.\n",
    "*  `re.match(pattern, string)`: if zero or more characters at the beginning of `string` match the regular expression `pattern`, return a corresponding match object.\n",
    "*  `re.split(pattern, string)`: split `string` by the occurrences of `pattern`\n",
    "*  `re.sub(pattern, repl, string)`: return the `string `obtained by replacing the leftmost non-overlapping occurrences of `pattern` in string by the replacement `repl`\n",
    "*  `re.findall()`: search for *all* occurrences that match a given pattern"
   ]
  },
  {
   "cell_type": "markdown",
   "metadata": {
    "id": "URSYuLK_Yj_D"
   },
   "source": [
    "Regular expressions are relatively complex and there is a long list of combinations we can make, which are well outside the scope of this introduction. We limit to mentioning some special characters to form regular expressions:\n",
    "\n",
    "*  `^`: Start of string\n",
    "*  `$`: End of string\n",
    "*  `.`: One character, no matter which (except line break)\n",
    "*  `*`: match 0 or more repetitions of the preceding RE\n",
    "*  `+`: match 1 or more repetitions of the preceding RE\n",
    "*  `?`: match 0 or 1 repetition of the preceding RE\n",
    "*  `{m,n}`: Causes the resulting RE to match from m to n repetitions of the preceding RE. The comma and the n are optional depending on the case\n",
    "*  `|`: OR. E.g. A|B means match RE A or B\n",
    "*  `(...)`: Matches whatever regular expression is inside the parentheses\n",
    "*  `[]`: Defines a subset of characters to match\n",
    "*  `\\`: Either escapes special characters (permitting you to match characters like '*', '?', and so forth), or signals a special sequence (e.g. \\s means a white space).\n",
    "*  `\\w`: Matches a word (letters only)\n",
    "*  `\\W`: Matches a word (letters and characters, equivalent to `[^a-zA-Z0-9_]`)"
   ]
  },
  {
   "cell_type": "markdown",
   "metadata": {
    "id": "fhU1ztJFHGF5"
   },
   "source": [
    "---\n",
    "## 9. Some advanced concepts\n"
   ]
  },
  {
   "cell_type": "markdown",
   "metadata": {
    "id": "da9FNoY55TqQ"
   },
   "source": [
    "### 9.1 Copy vs. assignment\n",
    "\n",
    "Look at the following example:"
   ]
  },
  {
   "cell_type": "code",
   "execution_count": null,
   "metadata": {
    "id": "8tVIDpDg8pck"
   },
   "outputs": [],
   "source": [
    "a = [1, 2, 5]\n",
    "b = a\n",
    "b[2] = 10"
   ]
  },
  {
   "cell_type": "code",
   "execution_count": null,
   "metadata": {
    "id": "FKi_NCMi8rQf"
   },
   "outputs": [
    {
     "name": "stdout",
     "output_type": "stream",
     "text": [
      "[1, 2, 10]\n",
      "[1, 2, 10]\n"
     ]
    }
   ],
   "source": [
    "print(a)\n",
    "print(b)"
   ]
  },
  {
   "cell_type": "markdown",
   "metadata": {
    "id": "7wR_qWwX8ygE"
   },
   "source": [
    "What happens is that really `a` and `b` point to the same place in the memory and share the same data. The way to create an object that will *copy* the data in a but not *share* the data with a is to use the method `copy()`."
   ]
  },
  {
   "cell_type": "code",
   "execution_count": null,
   "metadata": {
    "id": "DI51EYm767XB"
   },
   "outputs": [],
   "source": [
    "a = [1, 2, 5]\n",
    "b = a.copy()\n",
    "b[2] = 10"
   ]
  },
  {
   "cell_type": "code",
   "execution_count": null,
   "metadata": {
    "id": "wMZgkFxl6-aP"
   },
   "outputs": [
    {
     "name": "stdout",
     "output_type": "stream",
     "text": [
      "[1, 2, 5]\n",
      "[1, 2, 10]\n"
     ]
    }
   ],
   "source": [
    "print(a)\n",
    "print(b)"
   ]
  },
  {
   "cell_type": "markdown",
   "metadata": {
    "id": "3y9ADLhN9CoI"
   },
   "source": [
    "This goes a bit deeper into the concept how `python` uses memory in your computer, but it is important to have a grasp on it in order to avoid potential problems when memory becomes an issue."
   ]
  },
  {
   "cell_type": "code",
   "execution_count": null,
   "metadata": {
    "id": "lXZB77BB7d4B"
   },
   "outputs": [],
   "source": [
    "a = [1, [2, 3], 5, 'abc'] \n",
    "b = a.copy()\n",
    "b[1].append(100)"
   ]
  },
  {
   "cell_type": "code",
   "execution_count": null,
   "metadata": {
    "id": "y2fnZsyB7ffg"
   },
   "outputs": [
    {
     "name": "stdout",
     "output_type": "stream",
     "text": [
      "[1, [2, 3, 100], 5, 'abc']\n",
      "[1, [2, 3, 100], 5, 'abc']\n"
     ]
    }
   ],
   "source": [
    "print(a)\n",
    "print(b)"
   ]
  },
  {
   "cell_type": "markdown",
   "metadata": {
    "id": "ZBck8utN9fk8"
   },
   "source": [
    "Things become a little trickier when you deal with lists of lists, for this reason there is also the `deepcopy`. "
   ]
  },
  {
   "cell_type": "code",
   "execution_count": null,
   "metadata": {
    "id": "DRLkIA6Y9x3A"
   },
   "outputs": [],
   "source": [
    "a = [1, [2, 3], 5, 'abc'] \n",
    "b = a.copy()\n",
    "b[1].append(100)"
   ]
  },
  {
   "cell_type": "code",
   "execution_count": null,
   "metadata": {
    "id": "jBTBcxWI9zdr"
   },
   "outputs": [
    {
     "name": "stdout",
     "output_type": "stream",
     "text": [
      "[1, [2, 3, 100], 5, 'abc']\n",
      "[1, [2, 3, 100], 5, 'abc']\n"
     ]
    }
   ],
   "source": [
    "print(a)\n",
    "print(b)"
   ]
  },
  {
   "cell_type": "markdown",
   "metadata": {
    "id": "jlPqMp4Y-CVx"
   },
   "source": [
    "(What happened here is that both `a` and `b` still point to some deeper list `[2, 3]`)"
   ]
  },
  {
   "cell_type": "code",
   "execution_count": null,
   "metadata": {
    "id": "6D2zE5S8-fXx"
   },
   "outputs": [
    {
     "name": "stdout",
     "output_type": "stream",
     "text": [
      "[1, [2, 3, 100], 5, 'abc']\n",
      "[1, [2, 3], 5, 'abc']\n"
     ]
    }
   ],
   "source": [
    "# Try now \n",
    "from copy import deepcopy\n",
    "b = deepcopy(a)\n",
    "b[1].pop()  # Removes (last) item on the list\n",
    "print(a)\n",
    "print(b)"
   ]
  },
  {
   "cell_type": "markdown",
   "metadata": {
    "id": "G0JIlmbD--sJ"
   },
   "source": [
    "### 9.2 Error handling\n",
    "\n",
    "Sometimes there problems come up in the code that make it not function properlu. When that happens, if there is no error raised, the problem could be anywhere and that makes it very hard to fix.\n",
    "\n",
    "Setting up informative *errors* if something is not working well, on the other hand, tells us where things go wrong and point us to what we need to fix."
   ]
  },
  {
   "cell_type": "code",
   "execution_count": null,
   "metadata": {
    "id": "RWnIUTHHBsEM"
   },
   "outputs": [
    {
     "data": {
      "text/plain": [
       "Exception"
      ]
     },
     "execution_count": 89,
     "metadata": {},
     "output_type": "execute_result"
    }
   ],
   "source": [
    "# Errors in Python are called Exceptions. \n",
    "e = Exception()\n",
    "type(e)"
   ]
  },
  {
   "cell_type": "code",
   "execution_count": null,
   "metadata": {
    "id": "1Y9E1zTVB2rK"
   },
   "outputs": [
    {
     "ename": "Exception",
     "evalue": "Oops!",
     "output_type": "error",
     "traceback": [
      "\u001b[1;31m---------------------------------------------------------------------------\u001b[0m",
      "\u001b[1;31mException\u001b[0m                                 Traceback (most recent call last)",
      "Input \u001b[1;32mIn [90]\u001b[0m, in \u001b[0;36m<cell line: 2>\u001b[1;34m()\u001b[0m\n\u001b[0;32m      1\u001b[0m \u001b[38;5;66;03m# Exceptions are raised with the \"raise\" keyword: \u001b[39;00m\n\u001b[1;32m----> 2\u001b[0m \u001b[38;5;28;01mraise\u001b[39;00m \u001b[38;5;167;01mException\u001b[39;00m(\u001b[38;5;124m'\u001b[39m\u001b[38;5;124mOops!\u001b[39m\u001b[38;5;124m'\u001b[39m)\n",
      "\u001b[1;31mException\u001b[0m: Oops!"
     ]
    }
   ],
   "source": [
    "# Exceptions are raised with the \"raise\" keyword: \n",
    "raise Exception('Oops!')"
   ]
  },
  {
   "cell_type": "markdown",
   "metadata": {
    "id": "-rbZlYFZCKIg"
   },
   "source": [
    "Every *part* of your program, for example each function, must be in charge of things going as expected inside its body. If something goes wrong, it should tell us what happened.\n",
    "\n",
    "One way to do this is to check for possible problems before they occur:"
   ]
  },
  {
   "cell_type": "code",
   "execution_count": null,
   "metadata": {
    "id": "eyixmzJxCI1E"
   },
   "outputs": [
    {
     "ename": "Exception",
     "evalue": "The person must have an age attribute! Given: notaperson",
     "output_type": "error",
     "traceback": [
      "\u001b[1;31m---------------------------------------------------------------------------\u001b[0m",
      "\u001b[1;31mException\u001b[0m                                 Traceback (most recent call last)",
      "Input \u001b[1;32mIn [91]\u001b[0m, in \u001b[0;36m<cell line: 6>\u001b[1;34m()\u001b[0m\n\u001b[0;32m      3\u001b[0m        \u001b[38;5;28;01mraise\u001b[39;00m \u001b[38;5;167;01mException\u001b[39;00m(\u001b[38;5;124mf\u001b[39m\u001b[38;5;124m'\u001b[39m\u001b[38;5;124mThe person must have an age attribute! Given: \u001b[39m\u001b[38;5;132;01m{\u001b[39;00mperson\u001b[38;5;132;01m}\u001b[39;00m\u001b[38;5;124m'\u001b[39m)\n\u001b[0;32m      4\u001b[0m     \u001b[38;5;28;01mreturn\u001b[39;00m person\u001b[38;5;241m.\u001b[39mage \u001b[38;5;241m+\u001b[39m \u001b[38;5;241m1\u001b[39m\n\u001b[1;32m----> 6\u001b[0m \u001b[43mage_a_person\u001b[49m\u001b[43m(\u001b[49m\u001b[38;5;124;43m'\u001b[39;49m\u001b[38;5;124;43mnotaperson\u001b[39;49m\u001b[38;5;124;43m'\u001b[39;49m\u001b[43m)\u001b[49m\n",
      "Input \u001b[1;32mIn [91]\u001b[0m, in \u001b[0;36mage_a_person\u001b[1;34m(person)\u001b[0m\n\u001b[0;32m      1\u001b[0m \u001b[38;5;28;01mdef\u001b[39;00m \u001b[38;5;21mage_a_person\u001b[39m(person):\n\u001b[0;32m      2\u001b[0m     \u001b[38;5;28;01mif\u001b[39;00m \u001b[38;5;129;01mnot\u001b[39;00m \u001b[38;5;28mhasattr\u001b[39m(person, \u001b[38;5;124m'\u001b[39m\u001b[38;5;124mage\u001b[39m\u001b[38;5;124m'\u001b[39m):\n\u001b[1;32m----> 3\u001b[0m        \u001b[38;5;28;01mraise\u001b[39;00m \u001b[38;5;167;01mException\u001b[39;00m(\u001b[38;5;124mf\u001b[39m\u001b[38;5;124m'\u001b[39m\u001b[38;5;124mThe person must have an age attribute! Given: \u001b[39m\u001b[38;5;132;01m{\u001b[39;00mperson\u001b[38;5;132;01m}\u001b[39;00m\u001b[38;5;124m'\u001b[39m)\n\u001b[0;32m      4\u001b[0m     \u001b[38;5;28;01mreturn\u001b[39;00m person\u001b[38;5;241m.\u001b[39mage \u001b[38;5;241m+\u001b[39m \u001b[38;5;241m1\u001b[39m\n",
      "\u001b[1;31mException\u001b[0m: The person must have an age attribute! Given: notaperson"
     ]
    }
   ],
   "source": [
    "def age_a_person(person):\n",
    "    if not hasattr(person, 'age'):\n",
    "       raise Exception(f'The person must have an age attribute! Given: {person}')\n",
    "    return person.age + 1\n",
    "\n",
    "age_a_person('notaperson')"
   ]
  },
  {
   "cell_type": "markdown",
   "metadata": {
    "id": "9Xm-J6DtC_z6"
   },
   "source": [
    "Python encourages that one should first try, and *catch* any expected errors that occur, handling them then. By *catching an error* we mean the following:\n"
   ]
  },
  {
   "cell_type": "code",
   "execution_count": null,
   "metadata": {
    "id": "9QjvVx6pC42v"
   },
   "outputs": [
    {
     "ename": "Exception",
     "evalue": "The person must have an age attribute! Given: notaperson",
     "output_type": "error",
     "traceback": [
      "\u001b[1;31m---------------------------------------------------------------------------\u001b[0m",
      "\u001b[1;31mAttributeError\u001b[0m                            Traceback (most recent call last)",
      "Input \u001b[1;32mIn [92]\u001b[0m, in \u001b[0;36mage_a_person\u001b[1;34m(person)\u001b[0m\n\u001b[0;32m      2\u001b[0m \u001b[38;5;28;01mtry\u001b[39;00m:\n\u001b[1;32m----> 3\u001b[0m     \u001b[38;5;28;01mreturn\u001b[39;00m \u001b[43mperson\u001b[49m\u001b[38;5;241;43m.\u001b[39;49m\u001b[43mage\u001b[49m \u001b[38;5;241m+\u001b[39m \u001b[38;5;241m1\u001b[39m\n\u001b[0;32m      4\u001b[0m \u001b[38;5;28;01mexcept\u001b[39;00m \u001b[38;5;167;01mAttributeError\u001b[39;00m \u001b[38;5;28;01mas\u001b[39;00m e:\n",
      "\u001b[1;31mAttributeError\u001b[0m: 'str' object has no attribute 'age'",
      "\nThe above exception was the direct cause of the following exception:\n",
      "\u001b[1;31mException\u001b[0m                                 Traceback (most recent call last)",
      "Input \u001b[1;32mIn [92]\u001b[0m, in \u001b[0;36m<cell line: 7>\u001b[1;34m()\u001b[0m\n\u001b[0;32m      4\u001b[0m     \u001b[38;5;28;01mexcept\u001b[39;00m \u001b[38;5;167;01mAttributeError\u001b[39;00m \u001b[38;5;28;01mas\u001b[39;00m e:\n\u001b[0;32m      5\u001b[0m         \u001b[38;5;28;01mraise\u001b[39;00m \u001b[38;5;167;01mException\u001b[39;00m(\u001b[38;5;124mf\u001b[39m\u001b[38;5;124m'\u001b[39m\u001b[38;5;124mThe person must have an age attribute! Given: \u001b[39m\u001b[38;5;132;01m{\u001b[39;00mperson\u001b[38;5;132;01m}\u001b[39;00m\u001b[38;5;124m'\u001b[39m) \u001b[38;5;28;01mfrom\u001b[39;00m \u001b[38;5;21;01me\u001b[39;00m\n\u001b[1;32m----> 7\u001b[0m \u001b[43mage_a_person\u001b[49m\u001b[43m(\u001b[49m\u001b[38;5;124;43m'\u001b[39;49m\u001b[38;5;124;43mnotaperson\u001b[39;49m\u001b[38;5;124;43m'\u001b[39;49m\u001b[43m)\u001b[49m\n",
      "Input \u001b[1;32mIn [92]\u001b[0m, in \u001b[0;36mage_a_person\u001b[1;34m(person)\u001b[0m\n\u001b[0;32m      3\u001b[0m     \u001b[38;5;28;01mreturn\u001b[39;00m person\u001b[38;5;241m.\u001b[39mage \u001b[38;5;241m+\u001b[39m \u001b[38;5;241m1\u001b[39m\n\u001b[0;32m      4\u001b[0m \u001b[38;5;28;01mexcept\u001b[39;00m \u001b[38;5;167;01mAttributeError\u001b[39;00m \u001b[38;5;28;01mas\u001b[39;00m e:\n\u001b[1;32m----> 5\u001b[0m     \u001b[38;5;28;01mraise\u001b[39;00m \u001b[38;5;167;01mException\u001b[39;00m(\u001b[38;5;124mf\u001b[39m\u001b[38;5;124m'\u001b[39m\u001b[38;5;124mThe person must have an age attribute! Given: \u001b[39m\u001b[38;5;132;01m{\u001b[39;00mperson\u001b[38;5;132;01m}\u001b[39;00m\u001b[38;5;124m'\u001b[39m) \u001b[38;5;28;01mfrom\u001b[39;00m \u001b[38;5;21;01me\u001b[39;00m\n",
      "\u001b[1;31mException\u001b[0m: The person must have an age attribute! Given: notaperson"
     ]
    }
   ],
   "source": [
    "def age_a_person(person):\n",
    "    try:\n",
    "        return person.age + 1\n",
    "    except AttributeError as e:\n",
    "        raise Exception(f'The person must have an age attribute! Given: {person}') from e\n",
    "\n",
    "age_a_person('notaperson')"
   ]
  },
  {
   "cell_type": "markdown",
   "metadata": {
    "id": "uAx_G29H_DSa"
   },
   "source": [
    "### 9.3 Default values in functions\n",
    "\n",
    "In `python` we get to assign default values to inputs of functions. For example:"
   ]
  },
  {
   "cell_type": "code",
   "execution_count": null,
   "metadata": {
    "id": "YGEIgl-mEafg"
   },
   "outputs": [],
   "source": [
    "# New function \"f\"\n",
    "def f(a = 1, b = 2):\n",
    "    return a + b\n"
   ]
  },
  {
   "cell_type": "code",
   "execution_count": null,
   "metadata": {
    "id": "TUdmBujhEiXk"
   },
   "outputs": [
    {
     "name": "stdout",
     "output_type": "stream",
     "text": [
      "3\n",
      "12\n",
      "5\n",
      "14\n",
      "14\n",
      "14\n"
     ]
    }
   ],
   "source": [
    "# Function \"f\" can be validly be called in the following ways\n",
    "print(f())\n",
    "print(f(10))\n",
    "print(f(b = 4))\n",
    "print(f(10, 4))\n",
    "print(f(a = 10, b = 4))\n",
    "print(f(b = 4, a = 10))"
   ]
  },
  {
   "cell_type": "code",
   "execution_count": null,
   "metadata": {
    "id": "J1WDrSvcE1Tf"
   },
   "outputs": [
    {
     "ename": "SyntaxError",
     "evalue": "positional argument follows keyword argument (2957630882.py, line 2)",
     "output_type": "error",
     "traceback": [
      "\u001b[1;36m  Input \u001b[1;32mIn [95]\u001b[1;36m\u001b[0m\n\u001b[1;33m    f(a = 10, 4)\u001b[0m\n\u001b[1;37m               ^\u001b[0m\n\u001b[1;31mSyntaxError\u001b[0m\u001b[1;31m:\u001b[0m positional argument follows keyword argument\n"
     ]
    }
   ],
   "source": [
    "# But NOT like this\n",
    "f(a = 10, 4)"
   ]
  },
  {
   "cell_type": "markdown",
   "metadata": {
    "id": "dUewJe_GHJRC"
   },
   "source": [
    "---\n",
    "## 10. Particular topics"
   ]
  },
  {
   "cell_type": "markdown",
   "metadata": {
    "id": "QZH8TUiXhNb1"
   },
   "source": [
    "### 10.1 Date and time objects\n",
    "\n",
    "We introduce how to deal with time and date type of objects in Python. To do this, we need a module denominated `datetime`, which it also involves the class `datetime`."
   ]
  },
  {
   "cell_type": "code",
   "execution_count": null,
   "metadata": {
    "id": "IBszoxOGLsdz"
   },
   "outputs": [
    {
     "name": "stdout",
     "output_type": "stream",
     "text": [
      "2022-09-28 11:02:52.847914\n",
      "<class 'datetime.datetime'>\n"
     ]
    }
   ],
   "source": [
    "from datetime import datetime  # This is a module and a class\n",
    "\n",
    "# Current date\n",
    "current_time = datetime.now()\n",
    "print(current_time)\n",
    "print(type(current_time))"
   ]
  },
  {
   "cell_type": "markdown",
   "metadata": {
    "id": "SDP3u5RSMZWD"
   },
   "source": [
    "`current_time` is of class `datetime`, but this is just one of five distinct time-object classes:\n",
    "\n",
    "*   `datetime`: allows to work with times and dates together (month, day, year, hour, second, microsecond).\n",
    "*   `date`: works with dates only (month, day, year), independent of time. \n",
    "*   `time`: works with time only (hour, minute, second, microsecond), independent of date. \n",
    "*   `timedelta`: a duration of time used for measuring distance between to time points.\n",
    "*   `tzinfo`: to deal with time zones."
   ]
  },
  {
   "cell_type": "code",
   "execution_count": null,
   "metadata": {},
   "outputs": [
    {
     "data": {
      "text/plain": [
       "datetime.date(2022, 9, 28)"
      ]
     },
     "execution_count": 8,
     "metadata": {},
     "output_type": "execute_result"
    }
   ],
   "source": [
    "from datetime import date\n",
    "\n",
    "date.today()\n"
   ]
  },
  {
   "cell_type": "markdown",
   "metadata": {
    "id": "8d5hhZCANbaC"
   },
   "source": [
    "The most common scenario with time data is translating from and to regular character objects, which is the most frequent format that we will encounter when importing times and dates. We use the following two functions:"
   ]
  },
  {
   "cell_type": "code",
   "execution_count": null,
   "metadata": {
    "id": "UOPhI-hoNqm2"
   },
   "outputs": [
    {
     "name": "stdout",
     "output_type": "stream",
     "text": [
      "2022-01-04 00:00:00\n",
      "<class 'datetime.datetime'>\n"
     ]
    }
   ],
   "source": [
    "today_date = '2022-01-04'\n",
    "\n",
    "# Create date object in given time format yyyy-mm-dd\n",
    "today_date = datetime.strptime(today_date, '%Y-%m-%d')\n",
    "\n",
    "print(today_date)\n",
    "print(type(today_date))"
   ]
  },
  {
   "cell_type": "markdown",
   "metadata": {
    "id": "Hd9mAzl5OEPt"
   },
   "source": [
    "Note we used the *pattern* `%Y-%m-%d` to indicate the year-month-day format we want to give the date object. A full list of imaginable patterns can be found in the library's [documentation](https://docs.python.org/2/library/datetime.html#strftime-and-strptime-behavior)."
   ]
  },
  {
   "cell_type": "code",
   "execution_count": null,
   "metadata": {
    "id": "5HvgXhqDN6Oh"
   },
   "outputs": [
    {
     "name": "stdout",
     "output_type": "stream",
     "text": [
      "* Month: 1\n",
      "* Year: 2022\n",
      "* Day of month: 4\n",
      "* Day of Week (number): 1\n"
     ]
    }
   ],
   "source": [
    "print('* Month:', today_date.month)  # Get month from date\n",
    "print('* Year:', today_date.year)  # Get month from year\n",
    "print('* Day of month:', today_date.day)  # ...\n",
    "print('* Day of Week (number):', today_date.weekday())  # Recall indexing"
   ]
  },
  {
   "cell_type": "code",
   "execution_count": null,
   "metadata": {
    "id": "SLPTtMy4Pc5e"
   },
   "outputs": [
    {
     "name": "stdout",
     "output_type": "stream",
     "text": [
      "* Hour:  11\n",
      "* Minute:  2\n",
      "datetime.IsoCalendarDate(year=2022, week=39, weekday=3)\n"
     ]
    }
   ],
   "source": [
    "print('* Hour: ', current_time.hour)\n",
    "print('* Minute: ', current_time.minute)\n",
    "print(current_time.isocalendar())  # Returns (year, # week, # day)"
   ]
  },
  {
   "cell_type": "markdown",
   "metadata": {
    "id": "nnWt5MPjQVdc"
   },
   "source": [
    "As mentioned, you can convert from time to string with the function `strftime()`."
   ]
  },
  {
   "cell_type": "code",
   "execution_count": null,
   "metadata": {
    "id": "wMb1Bq6QQDIG"
   },
   "outputs": [
    {
     "data": {
      "text/plain": [
       "str"
      ]
     },
     "execution_count": 24,
     "metadata": {},
     "output_type": "execute_result"
    }
   ],
   "source": [
    "today_str = datetime.strftime(today_date, format = '%Y-%m-%d')\n",
    "type(today_str)"
   ]
  },
  {
   "cell_type": "markdown",
   "metadata": {
    "id": "ocHTeNuIQoK-"
   },
   "source": [
    "Recall we mentioned that to measure time spans, or to operate dates or times (add/subtract) we could use the `timedelta` type of object. Mind you, these objects need not be anchored on a specific date and they can be a generic time frame."
   ]
  },
  {
   "cell_type": "code",
   "execution_count": null,
   "metadata": {
    "id": "SO5NnPXaRK77"
   },
   "outputs": [
    {
     "name": "stdout",
     "output_type": "stream",
     "text": [
      "21 days, 0:00:00\n",
      "<class 'datetime.timedelta'>\n",
      "21\n",
      "365\n"
     ]
    }
   ],
   "source": [
    "from datetime import timedelta\n",
    "\n",
    "# timedelta objects\n",
    "three_weeks = timedelta(weeks = 3)\n",
    "one_year = timedelta(days = 365)\n",
    "\n",
    "print(three_weeks)\n",
    "print(type(three_weeks))\n",
    "print(three_weeks.days)\n",
    "print(one_year.days)"
   ]
  },
  {
   "cell_type": "markdown",
   "metadata": {
    "id": "i9um5YCGSNMM"
   },
   "source": [
    "Let us now operate on these objects."
   ]
  },
  {
   "cell_type": "code",
   "execution_count": null,
   "metadata": {
    "id": "jph6ZW4ySPny"
   },
   "outputs": [
    {
     "name": "stdout",
     "output_type": "stream",
     "text": [
      "Today's date:  2022-09-28 11:17:11.452195\n",
      "Date after three weeks:  2022-10-12 11:17:11.452195\n",
      "Date two years ago:  2020-09-28 11:17:11.452195\n",
      "<class 'datetime.datetime'>\n"
     ]
    }
   ],
   "source": [
    "from datetime import datetime, timedelta\n",
    "\n",
    "# Current time\n",
    "now = datetime.now()\n",
    "print(\"Today's date: \", str(now))\n",
    "\n",
    "# Add three weeks to current date\n",
    "two_weeks = timedelta(days = 14)\n",
    "now_in_2weeks = now + two_weeks\n",
    "print('Date after three weeks: ', now_in_2weeks)\n",
    "\n",
    "# Subtract one year from current date\n",
    "two_years = timedelta(days = 730)\n",
    "two_year_ago = now - two_years\n",
    "print('Date two years ago: ', two_year_ago)\n",
    "print(type(two_year_ago))"
   ]
  },
  {
   "cell_type": "code",
   "execution_count": null,
   "metadata": {
    "id": "Zmbg3MZ-S5Pn"
   },
   "outputs": [
    {
     "name": "stdout",
     "output_type": "stream",
     "text": [
      "Time difference (days):  1470\n",
      "Time difference:  1469 days, 23:51:10\n",
      "<class 'datetime.timedelta'>\n"
     ]
    }
   ],
   "source": [
    "from datetime import date\n",
    "\n",
    "# Create two dates\n",
    "date1 = date(2011, 5, 28)\n",
    "date2 = date(2015, 6, 6)\n",
    "# create two dates with year, month, day, hour, minute, and second\n",
    "date1b = datetime(2011, 5, 28, 23, 1, 0)\n",
    "date2b = datetime(2015, 6, 6, 22, 52, 10)\n",
    "\n",
    "# Difference between two dates\n",
    "date_diff = date2 - date1\n",
    "date_diffb = date2b - date1b\n",
    "print(\"Time difference (days): \", date_diff.days)\n",
    "print(\"Time difference: \", date_diffb)\n",
    "print(type(date_diff))"
   ]
  },
  {
   "cell_type": "code",
   "execution_count": null,
   "metadata": {
    "id": "7JQWOhkXUYlc"
   },
   "outputs": [
    {
     "name": "stdout",
     "output_type": "stream",
     "text": [
      "2015-06-06 22:52:10-04:00\n"
     ]
    }
   ],
   "source": [
    "# To work with time zones:\n",
    "from pytz import timezone\n",
    "\n",
    "# Create timezone US/Eastern\n",
    "est = timezone('US/Eastern')\n",
    "\n",
    "# Re-set date to local time\n",
    "loc_time = est.localize(datetime(2015, 6, 6, 22, 52, 10))\n",
    "print(loc_time)"
   ]
  },
  {
   "cell_type": "code",
   "execution_count": 71,
   "metadata": {},
   "outputs": [
    {
     "data": {
      "text/plain": [
       "datetime.datetime(2022, 9, 28, 11, 51, 46, 176673)"
      ]
     },
     "execution_count": 71,
     "metadata": {},
     "output_type": "execute_result"
    }
   ],
   "source": [
    "from datetime import datetime\n",
    "datetime.today()"
   ]
  },
  {
   "cell_type": "markdown",
   "metadata": {
    "id": "Cc2LG0zuUp9N"
   },
   "source": [
    "You can also work with time objects using `pandas`. You can convert text strings into `pandas` `Datetime` objects using:\n",
    "\n",
    "*  `to_datetime()`: to convert string dates/times to `datetime` objects.\n",
    "*  `to_timedelta()`: find differences in times.\n"
   ]
  },
  {
   "cell_type": "code",
   "execution_count": 74,
   "metadata": {
    "id": "1WdXzwl7W4ix"
   },
   "outputs": [
    {
     "name": "stdout",
     "output_type": "stream",
     "text": [
      "2015-06-06 00:00:00\n",
      "DatetimeIndex(['2015-06-06', '2015-06-07', '2015-06-08', '2015-06-09',\n",
      "               '2015-06-10', '2015-06-11', '2015-06-12', '2015-06-13',\n",
      "               '2015-06-14', '2015-06-15', '2015-06-16', '2015-06-17'],\n",
      "              dtype='datetime64[ns]', freq=None)\n",
      "DatetimeIndex(['2015-06-06', '2015-06-07', '2015-06-08', '2015-06-09',\n",
      "               '2015-06-10', '2015-06-11', '2015-06-12', '2015-06-13',\n",
      "               '2015-06-14', '2015-06-15', '2015-06-16', '2015-06-17'],\n",
      "              dtype='datetime64[ns]', freq='D')\n"
     ]
    }
   ],
   "source": [
    "import pandas as pd\n",
    "import numpy as np\n",
    "\n",
    "# String to datetime\n",
    "good_date = pd.to_datetime(\"6th of June, 2015\")\n",
    "print(good_date)\n",
    "\n",
    "# Create date series to_timedelta() (add numpy)\n",
    "date_series = good_date + pd.to_timedelta(np.arange(12), 'D')\n",
    "print(date_series)\n",
    "\n",
    "# Create date series using date_range() function\n",
    "date_series = pd.date_range('06/06/2015', periods = 12, freq = 'D')\n",
    "print(date_series)"
   ]
  },
  {
   "cell_type": "code",
   "execution_count": 75,
   "metadata": {
    "id": "QVDOiXr5X7PC"
   },
   "outputs": [
    {
     "data": {
      "text/html": [
       "<div>\n",
       "<style scoped>\n",
       "    .dataframe tbody tr th:only-of-type {\n",
       "        vertical-align: middle;\n",
       "    }\n",
       "\n",
       "    .dataframe tbody tr th {\n",
       "        vertical-align: top;\n",
       "    }\n",
       "\n",
       "    .dataframe thead th {\n",
       "        text-align: right;\n",
       "    }\n",
       "</style>\n",
       "<table border=\"1\" class=\"dataframe\">\n",
       "  <thead>\n",
       "    <tr style=\"text-align: right;\">\n",
       "      <th></th>\n",
       "      <th>date</th>\n",
       "    </tr>\n",
       "  </thead>\n",
       "  <tbody>\n",
       "    <tr>\n",
       "      <th>0</th>\n",
       "      <td>2015-06-06</td>\n",
       "    </tr>\n",
       "    <tr>\n",
       "      <th>1</th>\n",
       "      <td>2015-06-07</td>\n",
       "    </tr>\n",
       "    <tr>\n",
       "      <th>2</th>\n",
       "      <td>2015-06-08</td>\n",
       "    </tr>\n",
       "    <tr>\n",
       "      <th>3</th>\n",
       "      <td>2015-06-09</td>\n",
       "    </tr>\n",
       "    <tr>\n",
       "      <th>4</th>\n",
       "      <td>2015-06-10</td>\n",
       "    </tr>\n",
       "  </tbody>\n",
       "</table>\n",
       "</div>"
      ],
      "text/plain": [
       "        date\n",
       "0 2015-06-06\n",
       "1 2015-06-07\n",
       "2 2015-06-08\n",
       "3 2015-06-09\n",
       "4 2015-06-10"
      ]
     },
     "execution_count": 75,
     "metadata": {},
     "output_type": "execute_result"
    }
   ],
   "source": [
    "# Create a DataFrame with date as a column\n",
    "data = pd.DataFrame()\n",
    "data['date'] = date_series\n",
    "data.head()"
   ]
  },
  {
   "cell_type": "code",
   "execution_count": 76,
   "metadata": {
    "id": "pHUUa5ekYBYc"
   },
   "outputs": [
    {
     "data": {
      "text/html": [
       "<div>\n",
       "<style scoped>\n",
       "    .dataframe tbody tr th:only-of-type {\n",
       "        vertical-align: middle;\n",
       "    }\n",
       "\n",
       "    .dataframe tbody tr th {\n",
       "        vertical-align: top;\n",
       "    }\n",
       "\n",
       "    .dataframe thead th {\n",
       "        text-align: right;\n",
       "    }\n",
       "</style>\n",
       "<table border=\"1\" class=\"dataframe\">\n",
       "  <thead>\n",
       "    <tr style=\"text-align: right;\">\n",
       "      <th></th>\n",
       "      <th>date</th>\n",
       "      <th>year</th>\n",
       "      <th>month</th>\n",
       "      <th>day</th>\n",
       "      <th>hour</th>\n",
       "      <th>minute</th>\n",
       "    </tr>\n",
       "  </thead>\n",
       "  <tbody>\n",
       "    <tr>\n",
       "      <th>0</th>\n",
       "      <td>2015-06-06</td>\n",
       "      <td>2015</td>\n",
       "      <td>6</td>\n",
       "      <td>6</td>\n",
       "      <td>0</td>\n",
       "      <td>0</td>\n",
       "    </tr>\n",
       "    <tr>\n",
       "      <th>1</th>\n",
       "      <td>2015-06-07</td>\n",
       "      <td>2015</td>\n",
       "      <td>6</td>\n",
       "      <td>7</td>\n",
       "      <td>0</td>\n",
       "      <td>0</td>\n",
       "    </tr>\n",
       "    <tr>\n",
       "      <th>2</th>\n",
       "      <td>2015-06-08</td>\n",
       "      <td>2015</td>\n",
       "      <td>6</td>\n",
       "      <td>8</td>\n",
       "      <td>0</td>\n",
       "      <td>0</td>\n",
       "    </tr>\n",
       "    <tr>\n",
       "      <th>3</th>\n",
       "      <td>2015-06-09</td>\n",
       "      <td>2015</td>\n",
       "      <td>6</td>\n",
       "      <td>9</td>\n",
       "      <td>0</td>\n",
       "      <td>0</td>\n",
       "    </tr>\n",
       "    <tr>\n",
       "      <th>4</th>\n",
       "      <td>2015-06-10</td>\n",
       "      <td>2015</td>\n",
       "      <td>6</td>\n",
       "      <td>10</td>\n",
       "      <td>0</td>\n",
       "      <td>0</td>\n",
       "    </tr>\n",
       "  </tbody>\n",
       "</table>\n",
       "</div>"
      ],
      "text/plain": [
       "        date  year  month  day  hour  minute\n",
       "0 2015-06-06  2015      6    6     0       0\n",
       "1 2015-06-07  2015      6    7     0       0\n",
       "2 2015-06-08  2015      6    8     0       0\n",
       "3 2015-06-09  2015      6    9     0       0\n",
       "4 2015-06-10  2015      6   10     0       0"
      ]
     },
     "execution_count": 76,
     "metadata": {},
     "output_type": "execute_result"
    }
   ],
   "source": [
    "# Extract year, month, day, hour, and minute; and assign to new columns\n",
    "data['year'] = data['date'].dt.year\n",
    "data['month'] = data['date'].dt.month\n",
    "data['day'] = data['date'].dt.day\n",
    "data['hour'] = data['date'].dt.hour\n",
    "data['minute'] = data['date'].dt.minute\n",
    "data.head()"
   ]
  },
  {
   "cell_type": "markdown",
   "metadata": {
    "id": "BMplqP-DJDN7"
   },
   "source": [
    "### 10.2 Web scraping and `html` parsing\n",
    "\n",
    "Web *scraping* deals with the retrieval of information featured in some web page. It basically consists of reading the content in a URL, and posteriorly *parsing* it to extract the relevant information that you are looking for. This is an extensive topic in itself so we will just introduce the plain basics to get you started."
   ]
  },
  {
   "cell_type": "markdown",
   "metadata": {
    "id": "RDMf69mFhHB8"
   },
   "source": [
    "Before anything, note that most information in a HTML source is of little use to us and is used to render and format the webpage itself. Therefore it would be wise to familiarise yourself with HTML tags as and when needed. We must consider some design aspects of creating a *spider* that will *crawl* the target webpage and get us the desired content.\n",
    "\n",
    "1.   Identify tags that contain useful information\n",
    "2.   Add randomised waiting periods between every access to website\n",
    "3.   Make use of logs to monitor progress\n",
    "4.   Regularly write collected data to an external file\n",
    "5.   **Always** respect `robots.txt` file defined by websites\n",
    "\n",
    "We use as an example Wikipedia. The target will be to  retrieve the summary of the featured article in Wikipedia along with all the URLs in it."
   ]
  },
  {
   "cell_type": "code",
   "execution_count": 77,
   "metadata": {
    "id": "sl4cqMBpB2XU"
   },
   "outputs": [
    {
     "name": "stdout",
     "output_type": "stream",
     "text": [
      "<!DOCTYPE html>\n",
      "\n",
      "<html class=\"client-nojs\" dir=\"ltr\" lang=\"en\">\n",
      "<head>\n",
      "<meta charset=\"utf-8\"/>\n",
      "<title>Wikipedia, the free encyclopedia</title>\n",
      "<script>document.documentElement.className=\"client-js\";RLCONF={\"wgBreakFrames\":false,\"wgSeparatorTransformTable\":[\"\",\"\"],\"wgDigitTransformTable\":[\"\",\"\"],\"wgDefaultDateFormat\":\"dmy\",\"wgMonthNames\":[\"\",\"January\",\"February\",\"March\",\"April\",\"May\",\"June\",\"July\",\"August\",\"September\",\"October\",\"November\",\"December\"],\"wgRequestId\":\"94bc46c3-d81b-44fe-8249-d71333f40661\",\"wgCSPNonce\":false,\"wgCanonicalNamespace\":\"\",\"wgCanonicalSpecialPageName\":false,\"wgNamespaceNumber\":0,\"wgPageName\":\"Main_Page\",\"wgTitle\":\"Main Page\",\"wgCurRevisionId\":1108085777,\"wgRevisionId\":1108085777,\"wgArticleId\":15580374,\"wgIsArticle\":true,\"wgIsRedirect\":false,\"wgAction\":\"view\",\"wgUserName\":null,\"wgUserGroups\":[\"*\"],\"wgCategories\":[\"Articles with short description\",\"Short description is different from Wikidata\"],\"wgPageContentLanguage\":\"en\",\"wgPageContentModel\":\"wikitext\",\"wgRelevantPageName\":\"Main_Page\",\"wgRelevantArticleId\":15580374,\"wgIsProbablyEditable\":false,\"wgRelevantPageIsProbablyEditable\":false,\"wgRestrictionEdit\":[\n",
      "\"sysop\"],\"wgRestrictionMove\":[\"sysop\"],\"wgIsMainPage\":true,\"wgFlaggedRevsParams\":{\"tags\":{\"status\":{\"levels\":1}}},\"wgVisualEditor\":{\"pageLanguageCode\":\"en\",\"pageLanguageDir\":\"ltr\",\"pageVariantFallbacks\":\"en\"},\"wgMFDisplayWikibaseDescriptions\":{\"search\":true,\"nearby\":true,\"watchlist\":true,\"tagline\":false},\"wgWMESchemaEditAttemptStepOversample\":false,\"wgWMEPageLength\":3000,\"wgNoticeProject\":\"wikipedia\",\"wgVector2022PreviewPages\":[],\"wgMediaViewerOnClick\":true,\"wgMediaViewerEnabledByDefault\":true,\"wgPopupsFlags\":10,\"wgULSCurrentAutonym\":\"English\",\"wgEditSubmitButtonLabelPublish\":true,\"wgCentralAuthMobileDomain\":false,\"wgULSPosition\":\"interlanguage\",\"wgULSisCompactLinksEnabled\":true,\"wgWikibaseItemId\":\"Q5296\",\"GEHomepageSuggestedEditsEnableTopics\":true,\"wgGETopicsMatchModeEnabled\":false,\"wgGEStructuredTaskRejectionReasonTextInputEnabled\":false};RLSTATE={\"ext.globalCssJs.user.styles\":\"ready\",\"site.styles\":\"ready\",\"user.styles\":\"ready\",\"ext.globalCssJs.user\":\"ready\",\"user\":\"ready\",\n",
      "\"user.options\":\"loading\",\"mediawiki.page.gallery.styles\":\"ready\",\"skins.vector.styles.legacy\":\"ready\",\"ext.visualEditor.desktopArticleTarget.noscript\":\"ready\",\"ext.wikimediaBadges\":\"ready\",\"ext.uls.interlanguage\":\"ready\"};RLPAGEMODULES=[\"mediawiki.page.gallery\",\"site\",\"mediawiki.page.ready\",\"skins.vector.legacy.js\",\"mmv.head\",\"mmv.bootstrap.autostart\",\"ext.visualEditor.desktopArticleTarget.init\",\"ext.visualEditor.targetLoader\",\"ext.eventLogging\",\"ext.wikimediaEvents\",\"ext.navigationTiming\",\"ext.cx.eventlogging.campaigns\",\"ext.centralNotice.geoIP\",\"ext.centralNotice.startUp\",\"ext.gadget.ReferenceTooltips\",\"ext.gadget.charinsert\",\"ext.gadget.extra-toolbar-buttons\",\"ext.gadget.switcher\",\"ext.centralauth.centralautologin\",\"ext.popups\",\"ext.uls.interface\",\"ext.growthExperiments.SuggestedEditSession\"];</script>\n",
      "<script>(RLQ=window.RLQ||[]).push(function(){mw.loader.implement(\"user.options@12s5i\",function($,jQuery,require,module){mw.user.tokens.set({\"patrolToken\":\"+\\\\\",\"watchToken\":\"+\\\\\",\"csrfToken\":\"+\\\\\"});});});</script>\n",
      "<link href=\"/w/load.php?lang=en&amp;modules=ext.uls.interlanguage%7Cext.visualEditor.desktopArticleTarget.noscript%7Cext.wikimediaBadges%7Cmediawiki.page.gallery.styles%7Cskins.vector.styles.legacy&amp;only=styles&amp;skin=vector\" rel=\"stylesheet\"/>\n",
      "<script async=\"\" src=\"/w/load.php?lang=en&amp;modules=startup&amp;only=scripts&amp;raw=1&amp;skin=vector\"></script>\n",
      "<meta content=\"\" name=\"ResourceLoaderDynamicStyles\"/>\n",
      "<link href=\"/w/load.php?lang=en&amp;modules=site.styles&amp;only=styles&amp;skin=vector\" rel=\"stylesheet\"/>\n",
      "<meta content=\"MediaWiki 1.40.0-wmf.2\" name=\"generator\"/>\n",
      "<meta content=\"origin\" name=\"referrer\"/>\n",
      "<meta content=\"origin-when-crossorigin\" name=\"referrer\"/>\n",
      "<meta content=\"origin-when-cross-origin\" name=\"referrer\"/>\n",
      "<meta content=\"telephone=no\" name=\"format-detection\"/>\n",
      "<meta content=\"https://upload.wikimedia.org/wikipedia/commons/9/93/Phil6france.jpg\" property=\"og:image\"/>\n",
      "<meta content=\"1200\" property=\"og:image:width\"/>\n",
      "<meta content=\"1643\" property=\"og:image:height\"/>\n",
      "<meta content=\"https://upload.wikimedia.org/wikipedia/commons/9/93/Phil6france.jpg\" property=\"og:image\"/>\n",
      "<meta content=\"800\" property=\"og:image:width\"/>\n",
      "<meta content=\"1096\" property=\"og:image:height\"/>\n",
      "<meta content=\"640\" property=\"og:image:width\"/>\n",
      "<meta content=\"876\" property=\"og:image:height\"/>\n",
      "<meta content=\"width=1000\" name=\"viewport\"/>\n",
      "<meta content=\"Wikipedia, the free encyclopedia\" property=\"og:title\"/>\n",
      "<meta content=\"website\" property=\"og:type\"/>\n",
      "<link href=\"//upload.wikimedia.org\" rel=\"preconnect\"/>\n",
      "<link href=\"//en.m.wikipedia.org/wiki/Main_Page\" media=\"only screen and (max-width: 720px)\" rel=\"alternate\"/>\n",
      "<link href=\"/w/api.php?action=featuredfeed&amp;feed=potd&amp;feedformat=atom\" rel=\"alternate\" title=\"Wikipedia picture of the day feed\" type=\"application/atom+xml\"/>\n",
      "<link href=\"/w/api.php?action=featuredfeed&amp;feed=featured&amp;feedformat=atom\" rel=\"alternate\" title=\"Wikipedia featured articles feed\" type=\"application/atom+xml\"/>\n",
      "<link href=\"/w/api.php?action=featuredfeed&amp;feed=onthisday&amp;feedformat=atom\" rel=\"alternate\" title='Wikipedia \"On this day...\" feed' type=\"application/atom+xml\"/>\n",
      "<link href=\"/static/apple-touch/wikipedia.png\" rel=\"apple-touch-icon\"/>\n",
      "<link href=\"/static/favicon/wikipedia.ico\" rel=\"icon\"/>\n",
      "<link href=\"/w/opensearch_desc.php\" rel=\"search\" title=\"Wikipedia (en)\" type=\"application/opensearchdescription+xml\"/>\n",
      "<link href=\"//en.wikipedia.org/w/api.php?action=rsd\" rel=\"EditURI\" type=\"application/rsd+xml\"/>\n",
      "<link href=\"https://creativecommons.org/licenses/by-sa/3.0/\" rel=\"license\"/>\n",
      "<link href=\"https://en.wikipedia.org/wiki/Main_Page\" rel=\"canonical\"/>\n",
      "<link href=\"//meta.wikimedia.org\" rel=\"dns-prefetch\"/>\n",
      "<link href=\"//login.wikimedia.org\" rel=\"dns-prefetch\"/>\n",
      "</head>\n",
      "<body class=\"mediawiki ltr sitedir-ltr mw-hide-empty-elt ns-0 ns-subject page-Main_Page rootpage-Main_Page skin-vector action-view skin-vector-legacy vector-toc-not-collapsed vector-feature-language-in-header-enabled vector-feature-language-in-main-page-header-disabled vector-feature-language-alert-in-sidebar-enabled vector-feature-sticky-header-disabled vector-feature-sticky-header-edit-disabled vector-feature-table-of-contents-disabled vector-feature-visual-enhancement-next-disabled\"><div class=\"noprint\" id=\"mw-page-base\"></div>\n",
      "<div class=\"noprint\" id=\"mw-head-base\"></div>\n",
      "<div class=\"mw-body\" id=\"content\" role=\"main\">\n",
      "<a id=\"top\"></a>\n",
      "<div id=\"siteNotice\"><!-- CentralNotice --></div>\n",
      "<div class=\"mw-indicators\">\n",
      "</div>\n",
      "<h1 class=\"firstHeading mw-first-heading\" id=\"firstHeading\" style=\"display: none\"><span class=\"mw-page-title-main\">Main Page</span></h1>\n",
      "<div class=\"vector-body\" id=\"bodyContent\">\n",
      "<div class=\"noprint\" id=\"siteSub\">From Wikipedia, the free encyclopedia</div>\n",
      "<div id=\"contentSub\"></div>\n",
      "<div id=\"contentSub2\"></div>\n",
      "<div id=\"jump-to-nav\"></div>\n",
      "<a class=\"mw-jump-link\" href=\"#mw-head\">Jump to navigation</a>\n",
      "<a class=\"mw-jump-link\" href=\"#searchInput\">Jump to search</a>\n",
      "<div class=\"mw-body-content mw-content-ltr\" dir=\"ltr\" id=\"mw-content-text\" lang=\"en\"><div class=\"mw-parser-output\"><style data-mw-deduplicate=\"TemplateStyles:r1094834805\">.mw-parser-output .mp-box{border:1px solid #aaa;padding:0 0.5em 0.5em;margin-top:4px}.mw-parser-output .mp-h2,body.skin-timeless .mw-parser-output .mp-h2{border:1px solid #aaa;margin:0.5em 0;padding:0.2em 0.4em;font-size:120%;font-weight:bold;font-family:inherit}.mw-parser-output h2.mp-h2::after{border:none}.mw-parser-output .mp-later{font-size:85%;font-weight:normal}.mw-parser-output #mp-topbanner{background:#f9f9f9;border-color:#ddd}.mw-parser-output #mp-welcomecount{text-align:center;margin:0.4em}.mw-parser-output #mp-welcome{font-size:162%;padding:0.1em}.mw-parser-output #mp-welcome h1{font-size:inherit;font-family:inherit;display:inline;border:none}.mw-parser-output #mp-welcome h1::after{content:none}.mw-parser-output #mp-free{font-size:95%}.mw-parser-output #articlecount{font-size:85%}.mw-parser-output .mp-contains-float::after{content:\"\";display:block;clear:both}.mw-parser-output #mp-banner{background:#fffaf5;border-color:#f2e0ce}.mw-parser-output #mp-left{background:#f5fffa;border-color:#cef2e0}.mw-parser-output #mp-left .mp-h2{background:#cef2e0;border-color:#a3bfb1}.mw-parser-output #mp-right{background:#f5faff;border-color:#cedff2}.mw-parser-output #mp-right .mp-h2{background:#cedff2;border-color:#a3b0bf}.mw-parser-output #mp-middle{background:#fff5fa;border-color:#f2cedd}.mw-parser-output #mp-middle .mp-h2{background:#f2cedd;border-color:#bfa3af}.mw-parser-output #mp-lower{background:#faf5ff;border-color:#ddcef2}.mw-parser-output #mp-lower .mp-h2{background:#ddcef2;border-color:#afa3bf}.mw-parser-output #mp-bottom{border-color:#e2e2e2}.mw-parser-output #mp-bottom .mp-h2{background:#eee;border-color:#ddd}@media(max-width:875px){.mw-parser-output #mp-tfp table,.mw-parser-output #mp-tfp tr,.mw-parser-output #mp-tfp td,.mw-parser-output #mp-tfp tbody{display:block!important;width:100%!important;box-sizing:border-box}.mw-parser-output #mp-tfp tr:first-child td:first-child a{text-align:center;display:table;margin:0 auto}}@media(min-width:875px){.mw-parser-output #mp-upper{display:flex}.mw-parser-output #mp-left{flex:1 1 55%;margin-right:2px}.mw-parser-output #mp-right{flex:1 1 45%;margin-left:2px}}.mw-parser-output div.hlist.inline ul,.mw-parser-output div.hlist.inline li,.mw-parser-output div.hlist.inline{display:inline}</style>\n",
      "<div class=\"mp-box\" id=\"mp-topbanner\">\n",
      "<div id=\"mp-welcomecount\">\n",
      "<div id=\"mp-welcome\"><h1><span class=\"mw-headline\" id=\"Welcome_to_Wikipedia\">Welcome to <a href=\"/wiki/Wikipedia\" title=\"Wikipedia\">Wikipedia</a></span></h1>,</div>\n",
      "<div id=\"mp-free\">the <a href=\"/wiki/Free_content\" title=\"Free content\">free</a> <a href=\"/wiki/Encyclopedia\" title=\"Encyclopedia\">encyclopedia</a> that <a href=\"/wiki/Help:Introduction_to_Wikipedia\" title=\"Help:Introduction to Wikipedia\">anyone can edit</a>.</div>\n",
      "<div id=\"articlecount\"><a href=\"/wiki/Special:Statistics\" title=\"Special:Statistics\">6,555,593</a> articles in <a href=\"/wiki/English_language\" title=\"English language\">English</a></div>\n",
      "</div>\n",
      "</div>\n",
      "<div id=\"mp-upper\">\n",
      "<div class=\"MainPageBG mp-box\" id=\"mp-left\">\n",
      "<h2 class=\"mp-h2\" id=\"mp-tfa-h2\"><span id=\"From_today.27s_featured_article\"></span><span class=\"mw-headline\" id=\"From_today's_featured_article\">From today's featured article</span></h2>\n",
      "<div class=\"mp-contains-float\" id=\"mp-tfa\"><div id=\"mp-tfa-img\" style=\"float: left; margin: 0.5em 0.9em 0.4em 0em;\">\n",
      "<div class=\"thumbinner mp-thumb\" style=\"background: transparent; border: none; padding: 0; max-width: 120px;\">\n",
      "<a class=\"image\" href=\"/wiki/File:Phil6france.jpg\" title=\"Philip VI of France\"><img alt=\"Philip VI of France\" data-file-height=\"404\" data-file-width=\"295\" decoding=\"async\" height=\"164\" src=\"//upload.wikimedia.org/wikipedia/commons/thumb/9/93/Phil6france.jpg/120px-Phil6france.jpg\" srcset=\"//upload.wikimedia.org/wikipedia/commons/thumb/9/93/Phil6france.jpg/180px-Phil6france.jpg 1.5x, //upload.wikimedia.org/wikipedia/commons/thumb/9/93/Phil6france.jpg/240px-Phil6france.jpg 2x\" width=\"120\"/></a><div class=\"thumbcaption\" style=\"padding: 0.25em 0; word-wrap: break-word;\">Philip VI of France</div></div>\n",
      "</div>\n",
      "<p>The <b><a href=\"/wiki/Truce_of_Calais\" title=\"Truce of Calais\">Truce of Calais</a></b> was agreed by King <a href=\"/wiki/Edward_III_of_England\" title=\"Edward III of England\">Edward III of England</a> and King <a href=\"/wiki/Philip_VI_of_France\" title=\"Philip VI of France\">Philip VI of France</a> <i>(depicted)</i> on 28 September 1347. After ten years of war both countries were financially and militarily exhausted and Pope <a href=\"/wiki/Pope_Clement_VI\" title=\"Pope Clement VI\">Clement VI</a> brokered a truce, to run until 7 July 1348. The <a href=\"/wiki/Black_Death\" title=\"Black Death\">Black Death</a> caused the truce to be renewed in 1348, 1349 and 1350. The truce effectively restricted fighting, but did not stop repeated naval clashes nor much fighting on a smaller scale. In 1351 the truce was renewed for one year but in January 1352 full-scale fighting broke out again. On 6 April 1354 a new truce and an outline of a permanent peace <a href=\"/wiki/Treaty\" title=\"Treaty\">treaty</a> were agreed as the <a href=\"/wiki/Treaty_of_Gu%C3%AEnes\" title=\"Treaty of Guînes\">Treaty of Guînes</a>. However, King <a href=\"/wiki/John_II_of_France\" title=\"John II of France\">John II of France</a> then decided on an ambitious series of offensives for the 1355 <a href=\"/wiki/Season#Military_campaigning_seasons\" title=\"Season\">campaigning season</a> and repudiated the treaty. Yet another extension to the Truce of Calais was agreed, until 24 June, when it finally expired. The war resumed in force in October 1355. <i>(<b><a href=\"/wiki/Truce_of_Calais\" title=\"Truce of Calais\">This article</a></b> is part of a <a href=\"/wiki/Wikipedia:Featured_topics\" title=\"Wikipedia:Featured topics\">featured topic</a>: <b><a href=\"/wiki/Wikipedia:Featured_topics/Hundred_Years%27_War,_1345%E2%80%931347\" title=\"Wikipedia:Featured topics/Hundred Years' War, 1345–1347\">Hundred Years' War, 1345–1347</a></b>.)</i>\n",
      "</p>\n",
      "<div class=\"tfa-recent\" style=\"text-align: right;\">\n",
      "Recently featured: <div class=\"hlist hlist-separated inline\">\n",
      "<ul><li><a href=\"/wiki/Boroughitis\" title=\"Boroughitis\">Boroughitis</a></li>\n",
      "<li><a href=\"/wiki/1940_Mandatory_Palestine_v_Lebanon_football_match\" title=\"1940 Mandatory Palestine v Lebanon football match\">1940 Mandatory Palestine v Lebanon football match</a></li>\n",
      "<li><a href=\"/wiki/Red_warbler\" title=\"Red warbler\">Red warbler</a></li></ul>\n",
      "</div></div>\n",
      "<div class=\"hlist hlist-separated tfa-footer noprint\" style=\"text-align:right;\">\n",
      "<ul><li><b><a href=\"/wiki/Wikipedia:Today%27s_featured_article/September_2022\" title=\"Wikipedia:Today's featured article/September 2022\">Archive</a></b></li>\n",
      "<li><b><a class=\"extiw\" href=\"https://lists.wikimedia.org/postorius/lists/daily-article-l.lists.wikimedia.org/\" title=\"mail:daily-article-l\">By email</a></b></li>\n",
      "<li><b><a href=\"/wiki/Wikipedia:Featured_articles\" title=\"Wikipedia:Featured articles\">More featured articles</a></b></li>\n",
      "<li><b><a href=\"/wiki/Wikipedia:About_Today%27s_featured_article\" title=\"Wikipedia:About Today's featured article\">About</a></b></li></ul>\n",
      "</div></div>\n",
      "<h2 class=\"mp-h2\" id=\"mp-dyk-h2\"><span class=\"mw-headline\" id=\"Did_you_know_...\">Did you know ...</span></h2>\n",
      "<div class=\"mp-contains-float\" id=\"mp-dyk\">\n",
      "<div class=\"dyk-img\" style=\"float: right; margin-left: 0.5em;\">\n",
      "<div class=\"thumbinner mp-thumb\" style=\"background: transparent; border: none; padding: 0; max-width: 140px;\">\n",
      "<a class=\"image\" href=\"/wiki/File:Tulainyo_Lake_from_Mount_Russell.jpg\" title=\"Tulainyo Lake\"><img alt=\"Tulainyo Lake\" data-file-height=\"3024\" data-file-width=\"3024\" decoding=\"async\" height=\"140\" src=\"//upload.wikimedia.org/wikipedia/commons/thumb/5/5d/Tulainyo_Lake_from_Mount_Russell.jpg/140px-Tulainyo_Lake_from_Mount_Russell.jpg\" srcset=\"//upload.wikimedia.org/wikipedia/commons/thumb/5/5d/Tulainyo_Lake_from_Mount_Russell.jpg/210px-Tulainyo_Lake_from_Mount_Russell.jpg 1.5x, //upload.wikimedia.org/wikipedia/commons/thumb/5/5d/Tulainyo_Lake_from_Mount_Russell.jpg/280px-Tulainyo_Lake_from_Mount_Russell.jpg 2x\" width=\"140\"/></a><div class=\"thumbcaption\" style=\"padding: 0.25em 0; word-wrap: break-word;\">Tulainyo Lake</div></div>\n",
      "</div>\n",
      "<ul><li>... that in 1937, water from <b><a href=\"/wiki/Tulainyo_Lake\" title=\"Tulainyo Lake\">Tulainyo Lake</a></b> <i>(pictured)</i> was carried by runner, horseback, donkey, covered wagon, twenty-mule team, stagecoach, train, car, and plane to Death Valley to mark a highway opening?</li>\n",
      "<li>... that <i><b><a href=\"/wiki/The_Last_of_Us_Part_I\" title=\"The Last of Us Part I\">The Last of Us Part I</a></b></i> features three accessibility presets for those requiring hearing, motor, or visual aids?</li>\n",
      "<li>... that <b><a href=\"/wiki/Earle_M._Chiles\" title=\"Earle M. Chiles\">Earle M. Chiles</a></b>, a businessman and philanthropist from <a href=\"/wiki/Portland,_Oregon\" title=\"Portland, Oregon\">Portland, Oregon</a>, was also a senator of the board of <a href=\"/wiki/Ludwig_Maximilian_University_of_Munich\" title=\"Ludwig Maximilian University of Munich\">Ludwig Maximilian University</a> in <a href=\"/wiki/Munich\" title=\"Munich\">Munich</a>, Germany?</li>\n",
      "<li>... that  <a href=\"/wiki/China_Mi%C3%A9ville\" title=\"China Miéville\">China Miéville</a>'s novella <i><b><a href=\"/wiki/This_Census-Taker\" title=\"This Census-Taker\">This Census-Taker</a></b></i> fluctuates between the first and third person to convey the trauma felt by the protagonist?</li>\n",
      "<li>... that the development of the <b><a href=\"/wiki/Port_of_Tanjung_Api-Api\" title=\"Port of Tanjung Api-Api\">Port of Tanjung Api-Api</a></b> resulted in a bribery scandal implicating <b><a href=\"/wiki/Syahrial_Oesman\" title=\"Syahrial Oesman\">the incumbent governor</a></b>?</li>\n",
      "<li>... that <b><a href=\"/wiki/Open_Philanthropy_(organization)\" title=\"Open Philanthropy (organization)\">Open Philanthropy</a></b> has made grants to causes ranging from recession prevention to cancer vaccines for dogs?</li>\n",
      "<li>... that Ukrainian baritone <b><a href=\"/wiki/Danylo_Matviienko\" title=\"Danylo Matviienko\">Danylo Matviienko</a></b>, who holds a master's degree in mathematics, appeared as Demetrius in <a href=\"/wiki/Benjamin_Britten\" title=\"Benjamin Britten\">Britten</a>'s opera <i><a href=\"/wiki/A_Midsummer_Night%27s_Dream_(opera)\" title=\"A Midsummer Night's Dream (opera)\">A Midsummer Night's Dream</a></i> at the <a href=\"/wiki/Oper_Frankfurt\" title=\"Oper Frankfurt\">Oper Frankfurt</a>?</li>\n",
      "<li>... that <b><a href=\"/wiki/Univel\" title=\"Univel\">Univel</a></b> was an early-1990s attempt to compete with <a href=\"/wiki/Microsoft\" title=\"Microsoft\">Microsoft</a> on the desktop, but one industry consultant said of the company's goal, \"they're dreaming\"?</li></ul>\n",
      "<div class=\"hlist hlist-separated dyk-footer noprint\" style=\"margin-top: 0.5em; text-align: right;\">\n",
      "<ul><li><b><a href=\"/wiki/Wikipedia:Recent_additions\" title=\"Wikipedia:Recent additions\">Archive</a></b></li>\n",
      "<li><b><a href=\"/wiki/Help:Your_first_article\" title=\"Help:Your first article\">Start a new article</a></b></li>\n",
      "<li><b><a href=\"/wiki/Template_talk:Did_you_know\" title=\"Template talk:Did you know\">Nominate an article</a></b></li></ul>\n",
      "</div>\n",
      "</div>\n",
      "</div>\n",
      "<div class=\"MainPageBG mp-box\" id=\"mp-right\">\n",
      "<h2 class=\"mp-h2\" id=\"mp-itn-h2\"><span class=\"mw-headline\" id=\"In_the_news\">In the news</span></h2>\n",
      "<div class=\"mp-contains-float\" id=\"mp-itn\"><style data-mw-deduplicate=\"TemplateStyles:r1053378754\">.mw-parser-output .itn-img{float:right;margin-left:0.5em;margin-top:0.2em}</style><div class=\"itn-img\" role=\"figure\">\n",
      "<div class=\"thumbinner mp-thumb\" style=\"background: transparent; border: none; padding: 0; max-width: 117px;\">\n",
      "<a class=\"image\" href=\"/wiki/File:Giorgia_Meloni_2022.jpg\" title=\"Giorgia Meloni\"><img alt=\"Giorgia Meloni\" data-file-height=\"1066\" data-file-width=\"740\" decoding=\"async\" height=\"169\" src=\"//upload.wikimedia.org/wikipedia/commons/thumb/e/e9/Giorgia_Meloni_2022.jpg/117px-Giorgia_Meloni_2022.jpg\" srcset=\"//upload.wikimedia.org/wikipedia/commons/thumb/e/e9/Giorgia_Meloni_2022.jpg/176px-Giorgia_Meloni_2022.jpg 1.5x, //upload.wikimedia.org/wikipedia/commons/thumb/e/e9/Giorgia_Meloni_2022.jpg/234px-Giorgia_Meloni_2022.jpg 2x\" width=\"117\"/></a><div class=\"thumbcaption\" style=\"padding: 0.25em 0; word-wrap: break-word; text-align: left;\">Giorgia Meloni</div></div>\n",
      "</div>\n",
      "<ul><li>The <a href=\"/wiki/Centre-right_coalition\" title=\"Centre-right coalition\">centre-right coalition</a> wins a majority of seats in <b><a href=\"/wiki/2022_Italian_general_election\" title=\"2022 Italian general election\">the Italian general election</a></b> <i>(<a href=\"/wiki/Brothers_of_Italy\" title=\"Brothers of Italy\">Brothers of Italy</a> leader <a href=\"/wiki/Giorgia_Meloni\" title=\"Giorgia Meloni\">Giorgia Meloni</a> pictured)</i>.</li>\n",
      "<li>Kenyan <b><a href=\"/wiki/Eliud_Kipchoge\" title=\"Eliud Kipchoge\">Eliud Kipchoge</a></b> sets a <a href=\"/wiki/Marathon_world_record_progression\" title=\"Marathon world record progression\">new world record</a> at <a href=\"/wiki/2022_Berlin_Marathon\" title=\"2022 Berlin Marathon\">the Berlin Marathon</a>.</li>\n",
      "<li>In <a href=\"/wiki/Australian_rules_football\" title=\"Australian rules football\">Australian rules football</a>, the <a href=\"/wiki/2022_AFL_season\" title=\"2022 AFL season\">AFL season</a> concludes with <a href=\"/wiki/Geelong_Football_Club\" title=\"Geelong Football Club\">Geelong</a> defeating the <a href=\"/wiki/Sydney_Swans\" title=\"Sydney Swans\">Sydney Swans</a> in <b><a href=\"/wiki/2022_AFL_Grand_Final\" title=\"2022 AFL Grand Final\">the Grand Final</a></b>.</li>\n",
      "<li>Following the <b><a href=\"/wiki/Death_of_Mahsa_Amini\" title=\"Death of Mahsa Amini\">death of Mahsa Amini</a></b>, arrested for not wearing the <a href=\"/wiki/Hijab\" title=\"Hijab\">hijab</a> in accordance with government standards, at least 50 people are killed during  <b><a href=\"/wiki/Mahsa_Amini_protests\" title=\"Mahsa Amini protests\">protests</a></b> in Iran.</li></ul>\n",
      "<div class=\"itn-footer\" style=\"margin-top: 0.5em;\">\n",
      "<div><b><a href=\"/wiki/Portal:Current_events\" title=\"Portal:Current events\">Ongoing</a></b>: <div class=\"hlist hlist-separated inline\">\n",
      "<ul><li><a href=\"/wiki/2022_Russian_invasion_of_Ukraine\" title=\"2022 Russian invasion of Ukraine\">Russian invasion of Ukraine</a></li></ul></div></div>\n",
      "<div><b><a href=\"/wiki/Deaths_in_2022\" title=\"Deaths in 2022\">Recent deaths</a></b>: <div class=\"hlist hlist-separated inline\">\n",
      "<ul><li><a href=\"/wiki/Darrell_Mudra\" title=\"Darrell Mudra\">Darrell Mudra</a></li>\n",
      "<li><a href=\"/wiki/Oleksiy_Zhuravko\" title=\"Oleksiy Zhuravko\">Oleksiy Zhuravko</a></li>\n",
      "<li><a href=\"/wiki/Dave_Barrow\" title=\"Dave Barrow\">Dave Barrow</a></li>\n",
      "<li><span class=\"nowrap\"><a href=\"/wiki/Donald_M._Blinken\" title=\"Donald M. Blinken\">Donald M. Blinken</a></span></li>\n",
      "<li><a href=\"/wiki/Dean_Caswell\" title=\"Dean Caswell\">Dean Caswell</a></li>\n",
      "<li><a href=\"/wiki/Bill_Fulcher\" title=\"Bill Fulcher\">Bill Fulcher</a></li></ul></div></div></div>\n",
      "<div class=\"hlist hlist-separated itn-footer noprint\" style=\"text-align:right;\">\n",
      "<ul><li><b><a href=\"/wiki/Wikipedia:In_the_news/Candidates\" title=\"Wikipedia:In the news/Candidates\">Nominate an article</a></b></li></ul>\n",
      "</div></div>\n",
      "<h2 class=\"mp-h2\" id=\"mp-otd-h2\"><span class=\"mw-headline\" id=\"On_this_day\">On this day</span></h2>\n",
      "<div class=\"mp-contains-float\" id=\"mp-otd\"><div class=\"shortdescription nomobile noexcerpt noprint searchaux\" style=\"display:none\">Wikimedia template</div>\n",
      "<p><b><a href=\"/wiki/September_28\" title=\"September 28\">September 28</a></b>\n",
      "</p>\n",
      "<div id=\"mp-otd-img\" style=\"float:right;margin-left:0.5em;\">\n",
      "<div class=\"thumbinner mp-thumb\" style=\"background: transparent; border: none; padding: 0; max-width: 109px;\">\n",
      "<a class=\"image\" href=\"/wiki/File:William1.jpg\" title=\"William the Conqueror\"><img alt=\"William the Conqueror\" data-file-height=\"380\" data-file-width=\"229\" decoding=\"async\" height=\"181\" src=\"//upload.wikimedia.org/wikipedia/commons/thumb/f/f4/William1.jpg/109px-William1.jpg\" srcset=\"//upload.wikimedia.org/wikipedia/commons/thumb/f/f4/William1.jpg/164px-William1.jpg 1.5x, //upload.wikimedia.org/wikipedia/commons/thumb/f/f4/William1.jpg/218px-William1.jpg 2x\" width=\"109\"/></a><div class=\"thumbcaption\" style=\"padding: 0.25em 0; word-wrap: break-word;\">William the Conqueror</div></div>\n",
      "</div>\n",
      "<ul><li><a href=\"/wiki/1066\" title=\"1066\">1066</a> – <a href=\"/wiki/William_the_Conqueror\" title=\"William the Conqueror\">William the Conqueror</a> <i>(pictured)</i> and his fleet of around 600 ships  landed at <a href=\"/wiki/Pevensey\" title=\"Pevensey\">Pevensey</a>, <a href=\"/wiki/Sussex\" title=\"Sussex\">Sussex</a>, beginning the <b><a href=\"/wiki/Norman_Conquest\" title=\"Norman Conquest\">Norman conquest of England</a></b>.</li>\n",
      "<li><a href=\"/wiki/1924\" title=\"1924\">1924</a> – A team of <a href=\"/wiki/United_States_Army_Air_Service\" title=\"United States Army Air Service\">U.S. Army Air Service</a> aviators landed in <a href=\"/wiki/Seattle\" title=\"Seattle\">Seattle, Washington</a>, to complete the <b><a href=\"/wiki/First_aerial_circumnavigation\" title=\"First aerial circumnavigation\">first aerial circumnavigation of the world</a></b>.</li>\n",
      "<li><a href=\"/wiki/1963\" title=\"1963\">1963</a> – <i><b><a href=\"/wiki/Whaam!\" title=\"Whaam!\">Whaam!</a></b></i>, now considered one of <a href=\"/wiki/Roy_Lichtenstein\" title=\"Roy Lichtenstein\">Roy Lichtenstein</a>'s most important works, debuted at an exhibition held at the <a href=\"/wiki/Leo_Castelli#Leo_Castelli_Gallery\" title=\"Leo Castelli\">Leo Castelli Gallery</a>, New York City.</li>\n",
      "<li><a href=\"/wiki/2006\" title=\"2006\">2006</a> – <b><a href=\"/wiki/Typhoon_Xangsane\" title=\"Typhoon Xangsane\">Typhoon Xangsane</a></b> passed <a href=\"/wiki/Manila\" title=\"Manila\">Manila</a> on its way to causing more than 300 deaths, mostly in the Phillippines and Vietnam.</li>\n",
      "<li><a href=\"/wiki/2012\" title=\"2012\">2012</a> – <a href=\"/wiki/Somali_Civil_War_(2009%E2%80%93present)\" title=\"Somali Civil War (2009–present)\">War in Somalia</a>: <a href=\"/wiki/Somali_National_Army\" title=\"Somali National Army\">Somali National Army</a> forces and their <a href=\"/wiki/African_Union_Mission_to_Somalia\" title=\"African Union Mission to Somalia\">AMISOM</a> and <a href=\"/wiki/Raskamboni_Movement\" title=\"Raskamboni Movement\">Raskamboni</a> allies <b><a href=\"/wiki/Battle_of_Kismayo_(2012)\" title=\"Battle of Kismayo (2012)\">launched an offensive</a></b> against <a href=\"/wiki/Al-Shabaab_(militant_group)\" title=\"Al-Shabaab (militant group)\">Al-Shabaab</a> in the latter's last major stronghold of <a href=\"/wiki/Kismayo\" title=\"Kismayo\">Kismayo</a>.</li></ul>\n",
      "<div class=\"hlist hlist-separated\" style=\"margin-top: 0.5em;\"><ul><li><b><a href=\"/wiki/Avery_Brundage\" title=\"Avery Brundage\">Avery Brundage</a></b>  (<abbr title=\"born\">b.</abbr> 1887)</li><li><b><a href=\"/wiki/Louis_Pasteur\" title=\"Louis Pasteur\">Louis Pasteur</a></b>  (<abbr title=\"died\">d.</abbr> 1895)</li><li><b><a href=\"/wiki/Aleksandra_Goryachkina\" title=\"Aleksandra Goryachkina\">Aleksandra Goryachkina</a></b>  (<abbr title=\"born\">b.</abbr> 1998)</li></ul></div>\n",
      "<div style=\"margin-top:0.5em;\">\n",
      "More anniversaries: <div class=\"hlist hlist-separated inline nowraplinks\">\n",
      "<ul><li><a href=\"/wiki/September_27\" title=\"September 27\">September 27</a></li>\n",
      "<li><b><a href=\"/wiki/September_28\" title=\"September 28\">September 28</a></b></li>\n",
      "<li><a href=\"/wiki/September_29\" title=\"September 29\">September 29</a></li></ul>\n",
      "</div></div>\n",
      "<div class=\"hlist hlist-separated otd-footer noprint\" style=\"text-align:right;\">\n",
      "<ul><li><b><a href=\"/wiki/Wikipedia:Selected_anniversaries/September\" title=\"Wikipedia:Selected anniversaries/September\">Archive</a></b></li>\n",
      "<li><b><a class=\"extiw\" href=\"https://lists.wikimedia.org/postorius/lists/daily-article-l.lists.wikimedia.org/\" title=\"mail:daily-article-l\">By email</a></b></li>\n",
      "<li><b><a href=\"/wiki/List_of_days_of_the_year\" title=\"List of days of the year\">List of days of the year</a></b></li></ul>\n",
      "</div>\n",
      "</div>\n",
      "</div>\n",
      "</div>\n",
      "<div class=\"MainPageBG mp-box\" id=\"mp-lower\">\n",
      "<h2 class=\"mp-h2\" id=\"mp-tfp-h2\"><span id=\"Today.27s_featured_picture\"></span><span class=\"mw-headline\" id=\"Today's_featured_picture\">Today's featured picture</span></h2>\n",
      "<div id=\"mp-tfp\">\n",
      "<table role=\"presentation\" style=\"margin:0 3px 3px; width:100%; box-sizing:border-box; text-align:center; background-color:transparent; border-collapse:collapse; padding:0.9em\">\n",
      "<tbody><tr>\n",
      "<td style=\"padding:0 0.9em; text-align:left;\">\n",
      "</td></tr>\n",
      "<tr>\n",
      "<td style=\"padding:0 0.9em; text-align:left;\">\n",
      "<ul class=\"gallery mw-gallery-packed center\">\n",
      "<li class=\"gallerybox\" style=\"width: 140px\"><div style=\"width: 140px\">\n",
      "<div class=\"thumb\" style=\"width: 138px;\"><div style=\"margin:0px auto;\"><a class=\"image\" href=\"/wiki/File:US-NBN-IL-Lebanon-2057-Orig-1-400-C.jpg\" title=\"$1 (original): First National Bank, Lebanon, Indiana\"><img alt=\"Obverse and reverse of a one-dollar National Bank Note\" data-file-height=\"3048\" data-file-width=\"3500\" decoding=\"async\" height=\"120\" src=\"//upload.wikimedia.org/wikipedia/commons/thumb/b/b5/US-NBN-IL-Lebanon-2057-Orig-1-400-C.jpg/207px-US-NBN-IL-Lebanon-2057-Orig-1-400-C.jpg\" srcset=\"//upload.wikimedia.org/wikipedia/commons/thumb/b/b5/US-NBN-IL-Lebanon-2057-Orig-1-400-C.jpg/310px-US-NBN-IL-Lebanon-2057-Orig-1-400-C.jpg 1.5x, //upload.wikimedia.org/wikipedia/commons/thumb/b/b5/US-NBN-IL-Lebanon-2057-Orig-1-400-C.jpg/413px-US-NBN-IL-Lebanon-2057-Orig-1-400-C.jpg 2x\" width=\"138\"/></a></div></div>\n",
      "<div class=\"gallerytext\">\n",
      "<p>$1 (original): First National Bank, <a href=\"/wiki/Lebanon,_Indiana\" title=\"Lebanon, Indiana\">Lebanon, Indiana</a>\n",
      "</p>\n",
      "</div>\n",
      "</div></li>\n",
      "<li class=\"gallerybox\" style=\"width: 139.33333333333px\"><div style=\"width: 139.33333333333px\">\n",
      "<div class=\"thumb\" style=\"width: 137.33333333333px;\"><div style=\"margin:0px auto;\"><a class=\"image\" href=\"/wiki/File:US-NBN-KS-Emporia-1915-1875-2-1915-A.jpg\" title=\"$2 (1875): First National Bank, Emporia, Kansas\"><img alt=\"Obverse and reverse of a two-dollar National Bank Note\" data-file-height=\"3061\" data-file-width=\"3500\" decoding=\"async\" height=\"120\" src=\"//upload.wikimedia.org/wikipedia/commons/thumb/2/24/US-NBN-KS-Emporia-1915-1875-2-1915-A.jpg/206px-US-NBN-KS-Emporia-1915-1875-2-1915-A.jpg\" srcset=\"//upload.wikimedia.org/wikipedia/commons/thumb/2/24/US-NBN-KS-Emporia-1915-1875-2-1915-A.jpg/309px-US-NBN-KS-Emporia-1915-1875-2-1915-A.jpg 1.5x, //upload.wikimedia.org/wikipedia/commons/thumb/2/24/US-NBN-KS-Emporia-1915-1875-2-1915-A.jpg/412px-US-NBN-KS-Emporia-1915-1875-2-1915-A.jpg 2x\" width=\"138\"/></a></div></div>\n",
      "<div class=\"gallerytext\">\n",
      "<p>$2 (1875): First National Bank, <a href=\"/wiki/Emporia,_Kansas\" title=\"Emporia, Kansas\">Emporia, Kansas</a>\n",
      "</p>\n",
      "</div>\n",
      "</div></li>\n",
      "<li class=\"gallerybox\" style=\"width: 139.33333333333px\"><div style=\"width: 139.33333333333px\">\n",
      "<div class=\"thumb\" style=\"width: 137.33333333333px;\"><div style=\"margin:0px auto;\"><a class=\"image\" href=\"/wiki/File:US-NBN-NJ-Vineland-2399-1875-5-2518-D.jpg\" title=\"$5 (1875): Vineland National Bank, Vineland, New Jersey\"><img alt=\"Obverse and reverse of a five-dollar National Bank Note\" data-file-height=\"3056\" data-file-width=\"3500\" decoding=\"async\" height=\"120\" src=\"//upload.wikimedia.org/wikipedia/commons/thumb/a/a5/US-NBN-NJ-Vineland-2399-1875-5-2518-D.jpg/206px-US-NBN-NJ-Vineland-2399-1875-5-2518-D.jpg\" srcset=\"//upload.wikimedia.org/wikipedia/commons/thumb/a/a5/US-NBN-NJ-Vineland-2399-1875-5-2518-D.jpg/309px-US-NBN-NJ-Vineland-2399-1875-5-2518-D.jpg 1.5x, //upload.wikimedia.org/wikipedia/commons/thumb/a/a5/US-NBN-NJ-Vineland-2399-1875-5-2518-D.jpg/412px-US-NBN-NJ-Vineland-2399-1875-5-2518-D.jpg 2x\" width=\"138\"/></a></div></div>\n",
      "<div class=\"gallerytext\">\n",
      "<p>$5 (1875): Vineland National Bank, <a href=\"/wiki/Vineland,_New_Jersey\" title=\"Vineland, New Jersey\">Vineland, New Jersey</a>\n",
      "</p>\n",
      "</div>\n",
      "</div></li>\n",
      "</ul>\n",
      "<ul class=\"gallery mw-gallery-packed center\">\n",
      "<li class=\"gallerybox\" style=\"width: 140px\"><div style=\"width: 140px\">\n",
      "<div class=\"thumb\" style=\"width: 138px;\"><div style=\"margin:0px auto;\"><a class=\"image\" href=\"/wiki/File:US-NBN-ND-Bismarck-2434-1875-10-2238-C.jpg\" title=\"$10 (1875): First National Bank, Bismarck, North Dakota\"><img alt=\"Obverse and reverse of a ten-dollar National Bank Note\" data-file-height=\"3048\" data-file-width=\"3500\" decoding=\"async\" height=\"120\" src=\"//upload.wikimedia.org/wikipedia/commons/thumb/e/e0/US-NBN-ND-Bismarck-2434-1875-10-2238-C.jpg/207px-US-NBN-ND-Bismarck-2434-1875-10-2238-C.jpg\" srcset=\"//upload.wikimedia.org/wikipedia/commons/thumb/e/e0/US-NBN-ND-Bismarck-2434-1875-10-2238-C.jpg/310px-US-NBN-ND-Bismarck-2434-1875-10-2238-C.jpg 1.5x, //upload.wikimedia.org/wikipedia/commons/thumb/e/e0/US-NBN-ND-Bismarck-2434-1875-10-2238-C.jpg/413px-US-NBN-ND-Bismarck-2434-1875-10-2238-C.jpg 2x\" width=\"138\"/></a></div></div>\n",
      "<div class=\"gallerytext\">\n",
      "<p>$10 (1875): First National Bank, <a href=\"/wiki/Bismarck,_North_Dakota\" title=\"Bismarck, North Dakota\">Bismarck, North Dakota</a>\n",
      "</p>\n",
      "</div>\n",
      "</div></li>\n",
      "<li class=\"gallerybox\" style=\"width: 140px\"><div style=\"width: 140px\">\n",
      "<div class=\"thumb\" style=\"width: 138px;\"><div style=\"margin:0px auto;\"><a class=\"image\" href=\"/wiki/File:US-NBN-MT-Butte-2566-1875-20-4943-A.jpg\" title=\"$20 (1875): First National Bank, Butte, Montana\"><img alt=\"Obverse and reverse of a twenty-dollar National Bank Note\" data-file-height=\"3044\" data-file-width=\"3500\" decoding=\"async\" height=\"120\" src=\"//upload.wikimedia.org/wikipedia/commons/thumb/2/2b/US-NBN-MT-Butte-2566-1875-20-4943-A.jpg/207px-US-NBN-MT-Butte-2566-1875-20-4943-A.jpg\" srcset=\"//upload.wikimedia.org/wikipedia/commons/thumb/2/2b/US-NBN-MT-Butte-2566-1875-20-4943-A.jpg/311px-US-NBN-MT-Butte-2566-1875-20-4943-A.jpg 1.5x, //upload.wikimedia.org/wikipedia/commons/thumb/2/2b/US-NBN-MT-Butte-2566-1875-20-4943-A.jpg/414px-US-NBN-MT-Butte-2566-1875-20-4943-A.jpg 2x\" width=\"138\"/></a></div></div>\n",
      "<div class=\"gallerytext\">\n",
      "<p>$20 (1875): First National Bank, <a href=\"/wiki/Butte,_Montana\" title=\"Butte, Montana\">Butte, Montana</a>\n",
      "</p>\n",
      "</div>\n",
      "</div></li>\n",
      "<li class=\"gallerybox\" style=\"width: 137.33333333333px\"><div style=\"width: 137.33333333333px\">\n",
      "<div class=\"thumb\" style=\"width: 135.33333333333px;\"><div style=\"margin:0px auto;\"><a class=\"image\" href=\"/wiki/File:US-NBN-OH-Cleveland-7-1875-50-1711-A.jpg\" title=\"$50 (1875): First National Bank, Cleveland, Ohio\"><img alt=\"Obverse and reverse of a fifty-dollar National Bank Note\" data-file-height=\"3112\" data-file-width=\"3500\" decoding=\"async\" height=\"120\" src=\"//upload.wikimedia.org/wikipedia/commons/thumb/a/a1/US-NBN-OH-Cleveland-7-1875-50-1711-A.jpg/203px-US-NBN-OH-Cleveland-7-1875-50-1711-A.jpg\" srcset=\"//upload.wikimedia.org/wikipedia/commons/thumb/a/a1/US-NBN-OH-Cleveland-7-1875-50-1711-A.jpg/304px-US-NBN-OH-Cleveland-7-1875-50-1711-A.jpg 1.5x, //upload.wikimedia.org/wikipedia/commons/thumb/a/a1/US-NBN-OH-Cleveland-7-1875-50-1711-A.jpg/405px-US-NBN-OH-Cleveland-7-1875-50-1711-A.jpg 2x\" width=\"136\"/></a></div></div>\n",
      "<div class=\"gallerytext\">\n",
      "<p>$50 (1875): First National Bank, <a href=\"/wiki/Cleveland\" title=\"Cleveland\">Cleveland, Ohio</a>\n",
      "</p>\n",
      "</div>\n",
      "</div></li>\n",
      "</ul>\n",
      "<ul class=\"gallery mw-gallery-packed center\">\n",
      "<li class=\"gallerybox\" style=\"width: 141.33333333333px\"><div style=\"width: 141.33333333333px\">\n",
      "<div class=\"thumb\" style=\"width: 139.33333333333px;\"><div style=\"margin:0px auto;\"><a class=\"image\" href=\"/wiki/File:US-NBN-NC-Raleigh-1557-Orig-100-761-A.jpg\" title=\"$100 (original): Raleigh National Bank, Raleigh, North Carolina\"><img alt=\"Obverse and reverse of a one-hundred-dollar National Bank Note\" data-file-height=\"3013\" data-file-width=\"3500\" decoding=\"async\" height=\"120\" src=\"//upload.wikimedia.org/wikipedia/commons/thumb/c/c3/US-NBN-NC-Raleigh-1557-Orig-100-761-A.jpg/209px-US-NBN-NC-Raleigh-1557-Orig-100-761-A.jpg\" srcset=\"//upload.wikimedia.org/wikipedia/commons/thumb/c/c3/US-NBN-NC-Raleigh-1557-Orig-100-761-A.jpg/314px-US-NBN-NC-Raleigh-1557-Orig-100-761-A.jpg 1.5x, //upload.wikimedia.org/wikipedia/commons/thumb/c/c3/US-NBN-NC-Raleigh-1557-Orig-100-761-A.jpg/418px-US-NBN-NC-Raleigh-1557-Orig-100-761-A.jpg 2x\" width=\"140\"/></a></div></div>\n",
      "<div class=\"gallerytext\">\n",
      "<p>$100 (original): Raleigh National Bank, <a href=\"/wiki/Raleigh,_North_Carolina\" title=\"Raleigh, North Carolina\">Raleigh, North Carolina</a>\n",
      "</p>\n",
      "</div>\n",
      "</div></li>\n",
      "<li class=\"gallerybox\" style=\"width: 143.33333333333px\"><div style=\"width: 143.33333333333px\">\n",
      "<div class=\"thumb\" style=\"width: 141.33333333333px;\"><div style=\"margin:0px auto;\"><a class=\"image\" href=\"/wiki/File:US-NBN-MA-Lowell-986-Orig-500-206-A.jpg\" title=\"$500 (original): Appleton National Bank, Lowell, Massachusetts\"><img alt=\"Obverse and reverse of a five-hundred-dollar National Bank Note\" data-file-height=\"2548\" data-file-width=\"3000\" decoding=\"async\" height=\"120\" src=\"//upload.wikimedia.org/wikipedia/commons/thumb/6/6e/US-NBN-MA-Lowell-986-Orig-500-206-A.jpg/212px-US-NBN-MA-Lowell-986-Orig-500-206-A.jpg\" srcset=\"//upload.wikimedia.org/wikipedia/commons/thumb/6/6e/US-NBN-MA-Lowell-986-Orig-500-206-A.jpg/318px-US-NBN-MA-Lowell-986-Orig-500-206-A.jpg 1.5x, //upload.wikimedia.org/wikipedia/commons/thumb/6/6e/US-NBN-MA-Lowell-986-Orig-500-206-A.jpg/424px-US-NBN-MA-Lowell-986-Orig-500-206-A.jpg 2x\" width=\"142\"/></a></div></div>\n",
      "<div class=\"gallerytext\">\n",
      "<p>$500 (original): Appleton National Bank, <a href=\"/wiki/Lowell,_Massachusetts\" title=\"Lowell, Massachusetts\">Lowell, Massachusetts</a>\n",
      "</p>\n",
      "</div>\n",
      "</div></li>\n",
      "<li class=\"gallerybox\" style=\"width: 135.33333333333px\"><div style=\"width: 135.33333333333px\">\n",
      "<div class=\"thumb\" style=\"width: 133.33333333333px;\"><div style=\"margin:0px auto;\"><a class=\"image\" href=\"/wiki/File:US-$1000-NBN-1875-Fr-465_(Proof).jpg\" title=\"$1000 (1875, proof): First National Bank, Salem, Massachusetts\"><img alt=\"Obverse and reverse of a one-thousand-dollar National Bank Note\" data-file-height=\"2695\" data-file-width=\"3000\" decoding=\"async\" height=\"120\" src=\"//upload.wikimedia.org/wikipedia/commons/thumb/b/b8/US-%241000-NBN-1875-Fr-465_%28Proof%29.jpg/200px-US-%241000-NBN-1875-Fr-465_%28Proof%29.jpg\" srcset=\"//upload.wikimedia.org/wikipedia/commons/thumb/b/b8/US-%241000-NBN-1875-Fr-465_%28Proof%29.jpg/301px-US-%241000-NBN-1875-Fr-465_%28Proof%29.jpg 1.5x, //upload.wikimedia.org/wikipedia/commons/thumb/b/b8/US-%241000-NBN-1875-Fr-465_%28Proof%29.jpg/401px-US-%241000-NBN-1875-Fr-465_%28Proof%29.jpg 2x\" width=\"134\"/></a></div></div>\n",
      "<div class=\"gallerytext\">\n",
      "<p>$1000 (1875, proof): First National Bank, <a href=\"/wiki/Salem,_Massachusetts\" title=\"Salem, Massachusetts\">Salem, Massachusetts</a>\n",
      "</p>\n",
      "</div>\n",
      "</div></li>\n",
      "</ul>\n",
      "<p><b><a href=\"/wiki/National_Bank_Note\" title=\"National Bank Note\">National Bank Notes</a></b> were <a href=\"/wiki/Banknotes_of_the_United_States_dollar\" title=\"Banknotes of the United States dollar\">United States banknotes</a> issued by <a href=\"/wiki/National_bank\" title=\"National bank\">national banks</a> chartered by the <a href=\"/wiki/Federal_government_of_the_United_States\" title=\"Federal government of the United States\">U.S. federal government</a>. The banknotes were usually backed by <a href=\"/wiki/Bond_(finance)\" title=\"Bond (finance)\">bonds</a> deposited by the bank with the <a href=\"/wiki/United_States_Department_of_the_Treasury\" title=\"United States Department of the Treasury\">United States Treasury</a>. In addition, banks were required to maintain a redemption fund amounting to five percent of any outstanding note balance, in gold or \"lawful money\". The banknotes were not <a href=\"/wiki/Legal_tender\" title=\"Legal tender\">legal tender</a> in general, but were satisfactory for nearly all payments to and by the federal government. They were retired as a currency type by the federal government in the 1930s, when United States currency was consolidated into <a href=\"/wiki/Federal_Reserve_Note\" title=\"Federal Reserve Note\">Federal Reserve Notes</a>, <a href=\"/wiki/United_States_Note\" title=\"United States Note\">United States Notes</a>, and <a href=\"/wiki/Silver_certificate_(United_States)\" title=\"Silver certificate (United States)\">silver certificates</a>. These nine banknotes, in denominations from $1 to $1000, were issued by various banks across the country as part of either the original or the 1875 series of National Bank Notes.\n",
      "</p>\n",
      "<p style=\"text-align:center;\"><small>Banknote design credit: <a href=\"/wiki/Office_of_the_Comptroller_of_the_Currency\" title=\"Office of the Comptroller of the Currency\">Office of the Comptroller of the Currency</a> and the <a href=\"/wiki/Bureau_of_Engraving_and_Printing\" title=\"Bureau of Engraving and Printing\">Bureau of Engraving and Printing</a>; scanned by <a href=\"/wiki/User:Godot13\" title=\"User:Godot13\">Andrew Shiva</a></small></p>\n",
      "<div class=\"potd-recent\" style=\"text-align:right;\">\n",
      "Recently featured: <div class=\"hlist hlist-separated inline\">\n",
      "<ul><li><a href=\"/wiki/Template:POTD/2022-09-27\" title=\"Template:POTD/2022-09-27\">Double-crested cormorant</a></li>\n",
      "<li><a href=\"/wiki/Template:POTD/2022-09-26\" title=\"Template:POTD/2022-09-26\"><i>Nemateleotris magnifica</i></a></li>\n",
      "<li><a href=\"/wiki/Template:POTD/2022-09-25\" title=\"Template:POTD/2022-09-25\">James Stewart</a></li></ul>\n",
      "</div></div>\n",
      "<div class=\"hlist hlist-separated potd-footer noprint\" style=\"text-align:right;\">\n",
      "<ul><li><b><a href=\"/wiki/Wikipedia:Picture_of_the_day/Archive\" title=\"Wikipedia:Picture of the day/Archive\">Archive</a></b></li>\n",
      "<li><b><a href=\"/wiki/Wikipedia:Featured_pictures\" title=\"Wikipedia:Featured pictures\">More featured pictures</a></b></li></ul>\n",
      "</div>\n",
      "</td></tr></tbody></table></div>\n",
      "</div>\n",
      "<div class=\"mp-box\" id=\"mp-bottom\">\n",
      "<h2 class=\"mp-h2\" id=\"mp-other\"><span class=\"mw-headline\" id=\"Other_areas_of_Wikipedia\">Other areas of Wikipedia</span></h2>\n",
      "<div id=\"mp-other-content\">\n",
      "<ul><li><b><a href=\"/wiki/Wikipedia:Community_portal\" title=\"Wikipedia:Community portal\">Community portal</a></b> – The central hub for editors, with resources, links, tasks, and announcements.</li>\n",
      "<li><b><a href=\"/wiki/Wikipedia:Village_pump\" title=\"Wikipedia:Village pump\">Village pump</a></b> – Forum for discussions about Wikipedia itself, including policies and technical issues.</li>\n",
      "<li><b><a href=\"/wiki/Wikipedia:News\" title=\"Wikipedia:News\">Site news</a></b> – Sources of news about Wikipedia and the broader Wikimedia movement.</li>\n",
      "<li><b><a href=\"/wiki/Wikipedia:Teahouse\" title=\"Wikipedia:Teahouse\">Teahouse</a></b> – Ask basic questions about using or editing Wikipedia.</li>\n",
      "<li><b><a href=\"/wiki/Wikipedia:Help_desk\" title=\"Wikipedia:Help desk\">Help desk</a></b> – Ask questions about using or editing Wikipedia.</li>\n",
      "<li><b><a href=\"/wiki/Wikipedia:Reference_desk\" title=\"Wikipedia:Reference desk\">Reference desk</a></b> – Ask research questions about encyclopedic topics.</li>\n",
      "<li><b><a href=\"/wiki/Wikipedia:Contents/Portals\" title=\"Wikipedia:Contents/Portals\">Content portals</a></b> – A unique way to navigate the encyclopedia.</li></ul>\n",
      "</div>\n",
      "<h2 class=\"mp-h2\" id=\"mp-sister\"><span id=\"Wikipedia.27s_sister_projects\"></span><span class=\"mw-headline\" id=\"Wikipedia's_sister_projects\">Wikipedia's sister projects</span></h2>\n",
      "<div id=\"mp-sister-content\"><style data-mw-deduplicate=\"TemplateStyles:r1007624485\">.mw-parser-output #sister-projects-list{display:flex;flex-wrap:wrap}.mw-parser-output #sister-projects-list li{display:inline-block}.mw-parser-output #sister-projects-list li span{font-weight:bold}.mw-parser-output #sister-projects-list li>div{display:inline-block;vertical-align:middle;padding:6px 4px}.mw-parser-output #sister-projects-list li>div:first-child{text-align:center}@media(min-width:360px){.mw-parser-output #sister-projects-list li{width:33%;min-width:20em;white-space:nowrap;flex:1 0 25%}.mw-parser-output #sister-projects-list li>div:first-child{min-width:50px}}</style>\n",
      "<p>Wikipedia is written by volunteer editors and hosted by the <a href=\"/wiki/Wikimedia_Foundation\" title=\"Wikimedia Foundation\">Wikimedia Foundation</a>, a non-profit organization that also hosts a range of other volunteer <a class=\"extiw\" href=\"https://wikimediafoundation.org/our-work/wikimedia-projects/\" title=\"foundationsite:our-work/wikimedia-projects/\">projects</a>:\n",
      "</p>\n",
      "<div class=\"plainlist\">\n",
      "<ul id=\"sister-projects-list\">\n",
      "<li>\n",
      "<div><a href=\"https://commons.wikimedia.org/wiki/\" title=\"Commons\"><img alt=\"Commons logo\" data-file-height=\"1376\" data-file-width=\"1024\" decoding=\"async\" height=\"42\" src=\"//upload.wikimedia.org/wikipedia/en/thumb/4/4a/Commons-logo.svg/31px-Commons-logo.svg.png\" srcset=\"//upload.wikimedia.org/wikipedia/en/thumb/4/4a/Commons-logo.svg/47px-Commons-logo.svg.png 1.5x, //upload.wikimedia.org/wikipedia/en/thumb/4/4a/Commons-logo.svg/62px-Commons-logo.svg.png 2x\" width=\"31\"/></a></div>\n",
      "<div><span><a class=\"extiw\" href=\"https://commons.wikimedia.org/wiki/\" title=\"c:\">Commons</a></span><br/>Free media repository</div>\n",
      "</li>\n",
      "<li>\n",
      "<div><a href=\"https://www.mediawiki.org/wiki/\" title=\"MediaWiki\"><img alt=\"MediaWiki logo\" data-file-height=\"100\" data-file-width=\"100\" decoding=\"async\" height=\"35\" src=\"//upload.wikimedia.org/wikipedia/commons/thumb/a/a6/MediaWiki-2020-icon.svg/35px-MediaWiki-2020-icon.svg.png\" srcset=\"//upload.wikimedia.org/wikipedia/commons/thumb/a/a6/MediaWiki-2020-icon.svg/53px-MediaWiki-2020-icon.svg.png 1.5x, //upload.wikimedia.org/wikipedia/commons/thumb/a/a6/MediaWiki-2020-icon.svg/70px-MediaWiki-2020-icon.svg.png 2x\" width=\"35\"/></a></div>\n",
      "<div><span><a class=\"extiw\" href=\"https://www.mediawiki.org/wiki/\" title=\"mw:\">MediaWiki</a></span><br/>Wiki software development</div>\n",
      "</li>\n",
      "<li>\n",
      "<div><a href=\"https://meta.wikimedia.org/wiki/\" title=\"Meta-Wiki\"><img alt=\"Meta-Wiki logo\" data-file-height=\"900\" data-file-width=\"900\" decoding=\"async\" height=\"35\" src=\"//upload.wikimedia.org/wikipedia/commons/thumb/7/75/Wikimedia_Community_Logo.svg/35px-Wikimedia_Community_Logo.svg.png\" srcset=\"//upload.wikimedia.org/wikipedia/commons/thumb/7/75/Wikimedia_Community_Logo.svg/53px-Wikimedia_Community_Logo.svg.png 1.5x, //upload.wikimedia.org/wikipedia/commons/thumb/7/75/Wikimedia_Community_Logo.svg/70px-Wikimedia_Community_Logo.svg.png 2x\" width=\"35\"/></a></div>\n",
      "<div><span><a class=\"extiw\" href=\"https://meta.wikimedia.org/wiki/\" title=\"m:\">Meta-Wiki</a></span><br/>Wikimedia project coordination</div>\n",
      "</li>\n",
      "<li>\n",
      "<div><a href=\"https://en.wikibooks.org/wiki/\" title=\"Wikibooks\"><img alt=\"Wikibooks logo\" data-file-height=\"300\" data-file-width=\"300\" decoding=\"async\" height=\"35\" src=\"//upload.wikimedia.org/wikipedia/commons/thumb/f/fa/Wikibooks-logo.svg/35px-Wikibooks-logo.svg.png\" srcset=\"//upload.wikimedia.org/wikipedia/commons/thumb/f/fa/Wikibooks-logo.svg/53px-Wikibooks-logo.svg.png 1.5x, //upload.wikimedia.org/wikipedia/commons/thumb/f/fa/Wikibooks-logo.svg/70px-Wikibooks-logo.svg.png 2x\" width=\"35\"/></a></div>\n",
      "<div><span><a class=\"extiw\" href=\"https://en.wikibooks.org/wiki/\" title=\"b:\">Wikibooks</a></span><br/>Free textbooks and manuals</div>\n",
      "</li>\n",
      "<li>\n",
      "<div><a href=\"https://www.wikidata.org/wiki/\" title=\"Wikidata\"><img alt=\"Wikidata logo\" data-file-height=\"590\" data-file-width=\"1050\" decoding=\"async\" height=\"26\" src=\"//upload.wikimedia.org/wikipedia/commons/thumb/f/ff/Wikidata-logo.svg/47px-Wikidata-logo.svg.png\" srcset=\"//upload.wikimedia.org/wikipedia/commons/thumb/f/ff/Wikidata-logo.svg/71px-Wikidata-logo.svg.png 1.5x, //upload.wikimedia.org/wikipedia/commons/thumb/f/ff/Wikidata-logo.svg/94px-Wikidata-logo.svg.png 2x\" width=\"47\"/></a></div>\n",
      "<div><span><a class=\"extiw\" href=\"https://www.wikidata.org/wiki/\" title=\"d:\">Wikidata</a></span><br/>Free knowledge base</div>\n",
      "</li>\n",
      "<li>\n",
      "<div><a href=\"https://en.wikinews.org/wiki/\" title=\"Wikinews\"><img alt=\"Wikinews logo\" data-file-height=\"415\" data-file-width=\"759\" decoding=\"async\" height=\"28\" src=\"//upload.wikimedia.org/wikipedia/commons/thumb/2/24/Wikinews-logo.svg/51px-Wikinews-logo.svg.png\" srcset=\"//upload.wikimedia.org/wikipedia/commons/thumb/2/24/Wikinews-logo.svg/77px-Wikinews-logo.svg.png 1.5x, //upload.wikimedia.org/wikipedia/commons/thumb/2/24/Wikinews-logo.svg/102px-Wikinews-logo.svg.png 2x\" width=\"51\"/></a></div>\n",
      "<div><span><a class=\"extiw\" href=\"https://en.wikinews.org/wiki/\" title=\"n:\">Wikinews</a></span><br/>Free-content news</div>\n",
      "</li>\n",
      "<li>\n",
      "<div><a href=\"https://en.wikiquote.org/wiki/\" title=\"Wikiquote\"><img alt=\"Wikiquote logo\" data-file-height=\"355\" data-file-width=\"300\" decoding=\"async\" height=\"41\" src=\"//upload.wikimedia.org/wikipedia/commons/thumb/f/fa/Wikiquote-logo.svg/35px-Wikiquote-logo.svg.png\" srcset=\"//upload.wikimedia.org/wikipedia/commons/thumb/f/fa/Wikiquote-logo.svg/53px-Wikiquote-logo.svg.png 1.5x, //upload.wikimedia.org/wikipedia/commons/thumb/f/fa/Wikiquote-logo.svg/70px-Wikiquote-logo.svg.png 2x\" width=\"35\"/></a></div>\n",
      "<div><span><a class=\"extiw\" href=\"https://en.wikiquote.org/wiki/\" title=\"q:\">Wikiquote</a></span><br/>Collection of quotations</div>\n",
      "</li>\n",
      "<li>\n",
      "<div><a href=\"https://en.wikisource.org/wiki/\" title=\"Wikisource\"><img alt=\"Wikisource logo\" data-file-height=\"430\" data-file-width=\"410\" decoding=\"async\" height=\"37\" src=\"//upload.wikimedia.org/wikipedia/commons/thumb/4/4c/Wikisource-logo.svg/35px-Wikisource-logo.svg.png\" srcset=\"//upload.wikimedia.org/wikipedia/commons/thumb/4/4c/Wikisource-logo.svg/53px-Wikisource-logo.svg.png 1.5x, //upload.wikimedia.org/wikipedia/commons/thumb/4/4c/Wikisource-logo.svg/70px-Wikisource-logo.svg.png 2x\" width=\"35\"/></a></div>\n",
      "<div><span><a class=\"extiw\" href=\"https://en.wikisource.org/wiki/\" title=\"s:\">Wikisource</a></span><br/>Free-content library</div>\n",
      "</li>\n",
      "<li>\n",
      "<div><a href=\"https://species.wikimedia.org/wiki/\" title=\"Wikispecies\"><img alt=\"Wikispecies logo\" data-file-height=\"1103\" data-file-width=\"941\" decoding=\"async\" height=\"41\" src=\"//upload.wikimedia.org/wikipedia/commons/thumb/d/df/Wikispecies-logo.svg/35px-Wikispecies-logo.svg.png\" srcset=\"//upload.wikimedia.org/wikipedia/commons/thumb/d/df/Wikispecies-logo.svg/53px-Wikispecies-logo.svg.png 1.5x, //upload.wikimedia.org/wikipedia/commons/thumb/d/df/Wikispecies-logo.svg/70px-Wikispecies-logo.svg.png 2x\" width=\"35\"/></a></div>\n",
      "<div><span><a class=\"extiw\" href=\"https://species.wikimedia.org/wiki/\" title=\"species:\">Wikispecies</a></span><br/>Directory of species</div>\n",
      "</li>\n",
      "<li>\n",
      "<div><a href=\"https://en.wikiversity.org/wiki/\" title=\"Wikiversity\"><img alt=\"Wikiversity logo\" data-file-height=\"512\" data-file-width=\"626\" decoding=\"async\" height=\"34\" src=\"//upload.wikimedia.org/wikipedia/commons/thumb/0/0b/Wikiversity_logo_2017.svg/41px-Wikiversity_logo_2017.svg.png\" srcset=\"//upload.wikimedia.org/wikipedia/commons/thumb/0/0b/Wikiversity_logo_2017.svg/62px-Wikiversity_logo_2017.svg.png 1.5x, //upload.wikimedia.org/wikipedia/commons/thumb/0/0b/Wikiversity_logo_2017.svg/82px-Wikiversity_logo_2017.svg.png 2x\" width=\"41\"/></a></div>\n",
      "<div><span><a class=\"extiw\" href=\"https://en.wikiversity.org/wiki/\" title=\"v:\">Wikiversity</a></span><br/>Free learning tools</div>\n",
      "</li>\n",
      "<li>\n",
      "<div><a href=\"https://en.wikivoyage.org/wiki/\" title=\"Wikivoyage\"><img alt=\"Wikivoyage logo\" data-file-height=\"193\" data-file-width=\"193\" decoding=\"async\" height=\"35\" src=\"//upload.wikimedia.org/wikipedia/commons/thumb/d/dd/Wikivoyage-Logo-v3-icon.svg/35px-Wikivoyage-Logo-v3-icon.svg.png\" srcset=\"//upload.wikimedia.org/wikipedia/commons/thumb/d/dd/Wikivoyage-Logo-v3-icon.svg/53px-Wikivoyage-Logo-v3-icon.svg.png 1.5x, //upload.wikimedia.org/wikipedia/commons/thumb/d/dd/Wikivoyage-Logo-v3-icon.svg/70px-Wikivoyage-Logo-v3-icon.svg.png 2x\" width=\"35\"/></a></div>\n",
      "<div><span><a class=\"extiw\" href=\"https://en.wikivoyage.org/wiki/\" title=\"voy:\">Wikivoyage</a></span><br/>Free travel guide</div>\n",
      "</li>\n",
      "<li>\n",
      "<div><a href=\"https://en.wiktionary.org/wiki/\" title=\"Wiktionary\"><img alt=\"Wiktionary logo\" data-file-height=\"391\" data-file-width=\"391\" decoding=\"async\" height=\"35\" src=\"//upload.wikimedia.org/wikipedia/en/thumb/0/06/Wiktionary-logo-v2.svg/35px-Wiktionary-logo-v2.svg.png\" srcset=\"//upload.wikimedia.org/wikipedia/en/thumb/0/06/Wiktionary-logo-v2.svg/53px-Wiktionary-logo-v2.svg.png 1.5x, //upload.wikimedia.org/wikipedia/en/thumb/0/06/Wiktionary-logo-v2.svg/70px-Wiktionary-logo-v2.svg.png 2x\" width=\"35\"/></a></div>\n",
      "<div><span><a class=\"extiw\" href=\"https://en.wiktionary.org/wiki/\" title=\"wikt:\">Wiktionary</a></span><br/>Dictionary and thesaurus</div>\n",
      "</li>\n",
      "</ul>\n",
      "</div></div>\n",
      "<h2 class=\"mp-h2\" id=\"mp-lang\"><span class=\"mw-headline\" id=\"Wikipedia_languages\">Wikipedia languages</span></h2>\n",
      "<div><style data-mw-deduplicate=\"TemplateStyles:r997272951\">.mw-parser-output .wikipedia-languages-complete{font-weight:bold}.mw-parser-output .wikipedia-languages ul{margin-left:0}.mw-parser-output .wikipedia-languages ul a{white-space:nowrap}.mw-parser-output .wikipedia-languages>ul{list-style:none;text-align:center;clear:both}.mw-parser-output .wikipedia-languages-count-container{width:90%;display:flex;justify-content:center;padding-top:1em;margin:0 auto}.mw-parser-output .wikipedia-languages-prettybars{width:100%;height:1px;margin:0.5em 0;background-color:#c8ccd1;flex-shrink:1;align-self:center}.mw-parser-output .wikipedia-languages-count{padding:0 1em;white-space:nowrap}</style>\n",
      "<div class=\"wikipedia-languages nourlexpansion\">\n",
      "<p>This Wikipedia is written in <a href=\"/wiki/English_language\" title=\"English language\">English</a>. Many <a class=\"extiw\" href=\"https://meta.wikimedia.org/wiki/List_of_Wikipedias\" title=\"meta:List of Wikipedias\">other Wikipedias are available</a>; some of the largest are listed below.\n",
      "</p>\n",
      "<ul class=\"plainlinks\">\n",
      "<li>\n",
      "<div class=\"wikipedia-languages-count-container\">\n",
      "<div class=\"wikipedia-languages-prettybars\"></div>\n",
      "<div class=\"wikipedia-languages-count\" role=\"heading\">1,000,000+ articles</div>\n",
      "<div class=\"wikipedia-languages-prettybars\"></div>\n",
      "</div>\n",
      "<ul class=\"wikipedia-languages-langs hlist hlist-separated inline\">\n",
      "<li><a class=\"external text\" href=\"https://ar.wikipedia.org/wiki/\"><span class=\"autonym\" lang=\"ar\" title=\"Arabic (ar:)\">العربية</span></a></li>\n",
      "<li><a class=\"external text\" href=\"https://de.wikipedia.org/wiki/\"><span class=\"autonym\" lang=\"de\" title=\"German (de:)\">Deutsch</span></a></li>\n",
      "<li><a class=\"external text\" href=\"https://es.wikipedia.org/wiki/\"><span class=\"autonym\" lang=\"es\" title=\"Spanish (es:)\">Español</span></a></li>\n",
      "<li><a class=\"external text\" href=\"https://fr.wikipedia.org/wiki/\"><span class=\"autonym\" lang=\"fr\" title=\"French (fr:)\">Français</span></a></li>\n",
      "<li><a class=\"external text\" href=\"https://it.wikipedia.org/wiki/\"><span class=\"autonym\" lang=\"it\" title=\"Italian (it:)\">Italiano</span></a></li>\n",
      "<li><a class=\"external text\" href=\"https://nl.wikipedia.org/wiki/\"><span class=\"autonym\" lang=\"nl\" title=\"Dutch (nl:)\">Nederlands</span></a></li>\n",
      "<li><a class=\"external text\" href=\"https://ja.wikipedia.org/wiki/\"><span class=\"autonym\" lang=\"ja\" title=\"Japanese (ja:)\">日本語</span></a></li>\n",
      "<li><a class=\"external text\" href=\"https://pl.wikipedia.org/wiki/\"><span class=\"autonym\" lang=\"pl\" title=\"Polish (pl:)\">Polski</span></a></li>\n",
      "<li><a class=\"external text\" href=\"https://pt.wikipedia.org/wiki/\"><span class=\"autonym\" lang=\"pt\" title=\"Portuguese (pt:)\">Português</span></a></li>\n",
      "<li><a class=\"external text\" href=\"https://ru.wikipedia.org/wiki/\"><span class=\"autonym\" lang=\"ru\" title=\"Russian (ru:)\">Русский</span></a></li>\n",
      "<li><a class=\"external text\" href=\"https://sv.wikipedia.org/wiki/\"><span class=\"autonym\" lang=\"sv\" title=\"Swedish (sv:)\">Svenska</span></a></li>\n",
      "<li><a class=\"external text\" href=\"https://uk.wikipedia.org/wiki/\"><span class=\"autonym\" lang=\"uk\" title=\"Ukrainian (uk:)\">Українська</span></a></li>\n",
      "<li><a class=\"external text\" href=\"https://vi.wikipedia.org/wiki/\"><span class=\"autonym\" lang=\"vi\" title=\"Vietnamese (vi:)\">Tiếng Việt</span></a></li>\n",
      "<li><a class=\"external text\" href=\"https://zh.wikipedia.org/wiki/\"><span class=\"autonym\" lang=\"zh\" title=\"Chinese (zh:)\">中文</span></a></li>\n",
      "</ul>\n",
      "</li>\n",
      "<li>\n",
      "<div class=\"wikipedia-languages-count-container\">\n",
      "<div class=\"wikipedia-languages-prettybars\"></div>\n",
      "<div class=\"wikipedia-languages-count\" role=\"heading\">250,000+ articles</div>\n",
      "<div class=\"wikipedia-languages-prettybars\"></div>\n",
      "</div>\n",
      "<ul class=\"wikipedia-languages-langs hlist hlist-separated inline\">\n",
      "<li><a class=\"external text\" href=\"https://id.wikipedia.org/wiki/\"><span class=\"autonym\" lang=\"id\" title=\"Indonesian (id:)\">Bahasa Indonesia</span></a></li>\n",
      "<li><a class=\"external text\" href=\"https://ms.wikipedia.org/wiki/\"><span class=\"autonym\" lang=\"ms\" title=\"Malay (ms:)\">Bahasa Melayu</span></a></li>\n",
      "<li><a class=\"external text\" href=\"https://zh-min-nan.wikipedia.org/wiki/\"><span class=\"autonym\" lang=\"nan\" title=\"Min Nan Chinese (nan:)\">Bân-lâm-gú</span></a></li>\n",
      "<li><a class=\"external text\" href=\"https://bg.wikipedia.org/wiki/\"><span class=\"autonym\" lang=\"bg\" title=\"Bulgarian (bg:)\">Български</span></a></li>\n",
      "<li><a class=\"external text\" href=\"https://ca.wikipedia.org/wiki/\"><span class=\"autonym\" lang=\"ca\" title=\"Catalan (ca:)\">Català</span></a></li>\n",
      "<li><a class=\"external text\" href=\"https://cs.wikipedia.org/wiki/\"><span class=\"autonym\" lang=\"cs\" title=\"Czech (cs:)\">Čeština</span></a></li>\n",
      "<li><a class=\"external text\" href=\"https://da.wikipedia.org/wiki/\"><span class=\"autonym\" lang=\"da\" title=\"Danish (da:)\">Dansk</span></a></li>\n",
      "<li><a class=\"external text\" href=\"https://eo.wikipedia.org/wiki/\"><span class=\"autonym\" lang=\"eo\" title=\"Esperanto (eo:)\">Esperanto</span></a></li>\n",
      "<li><a class=\"external text\" href=\"https://eu.wikipedia.org/wiki/\"><span class=\"autonym\" lang=\"eu\" title=\"Basque (eu:)\">Euskara</span></a></li>\n",
      "<li><a class=\"external text\" href=\"https://fa.wikipedia.org/wiki/\"><span class=\"autonym\" lang=\"fa\" title=\"Persian (fa:)\">فارسی</span></a>‎</li>\n",
      "<li><a class=\"external text\" href=\"https://he.wikipedia.org/wiki/\"><span class=\"autonym\" lang=\"he\" title=\"Hebrew (he:)\">עברית</span></a></li>\n",
      "<li><a class=\"external text\" href=\"https://ko.wikipedia.org/wiki/\"><span class=\"autonym\" lang=\"ko\" title=\"Korean (ko:)\">한국어</span></a></li>\n",
      "<li><a class=\"external text\" href=\"https://hu.wikipedia.org/wiki/\"><span class=\"autonym\" lang=\"hu\" title=\"Hungarian (hu:)\">Magyar</span></a></li>\n",
      "<li><a class=\"external text\" href=\"https://no.wikipedia.org/wiki/\"><span class=\"autonym\" lang=\"no\" title=\"Norwegian (no:)\">Norsk Bokmål</span></a></li>\n",
      "<li><a class=\"external text\" href=\"https://ro.wikipedia.org/wiki/\"><span class=\"autonym\" lang=\"ro\" title=\"Romanian (ro:)\">Română</span></a></li>\n",
      "<li><a class=\"external text\" href=\"https://sr.wikipedia.org/wiki/\"><span class=\"autonym\" lang=\"sr\" title=\"Serbian (sr:)\">Srpski</span></a></li>\n",
      "<li><a class=\"external text\" href=\"https://sh.wikipedia.org/wiki/\"><span class=\"autonym\" lang=\"sh\" title=\"Serbo-Croatian (sh:)\">Srpskohrvatski</span></a></li>\n",
      "<li><a class=\"external text\" href=\"https://fi.wikipedia.org/wiki/\"><span class=\"autonym\" lang=\"fi\" title=\"Finnish (fi:)\">Suomi</span></a></li>\n",
      "<li><a class=\"external text\" href=\"https://tr.wikipedia.org/wiki/\"><span class=\"autonym\" lang=\"tr\" title=\"Turkish (tr:)\">Türkçe</span></a></li>\n",
      "</ul>\n",
      "</li>\n",
      "<li>\n",
      "<div class=\"wikipedia-languages-count-container\">\n",
      "<div class=\"wikipedia-languages-prettybars\"></div>\n",
      "<div class=\"wikipedia-languages-count\" role=\"heading\">50,000+ articles</div>\n",
      "<div class=\"wikipedia-languages-prettybars\"></div>\n",
      "</div>\n",
      "<ul class=\"wikipedia-languages-langs hlist hlist-separated inline\">\n",
      "<li><a class=\"external text\" href=\"https://ast.wikipedia.org/wiki/\"><span class=\"autonym\" lang=\"ast\" title=\"Asturian (ast:)\">Asturianu</span></a></li>\n",
      "<li><a class=\"external text\" href=\"https://bn.wikipedia.org/wiki/\"><span class=\"autonym\" lang=\"bn\" title=\"Bangla (bn:)\">বাংলা</span></a></li>\n",
      "<li><a class=\"external text\" href=\"https://bs.wikipedia.org/wiki/\"><span class=\"autonym\" lang=\"bs\" title=\"Bosnian (bs:)\">Bosanski</span></a></li>\n",
      "<li><a class=\"external text\" href=\"https://et.wikipedia.org/wiki/\"><span class=\"autonym\" lang=\"et\" title=\"Estonian (et:)\">Eesti</span></a></li>\n",
      "<li><a class=\"external text\" href=\"https://el.wikipedia.org/wiki/\"><span class=\"autonym\" lang=\"el\" title=\"Greek (el:)\">Ελληνικά</span></a></li>\n",
      "<li><a class=\"external text\" href=\"https://simple.wikipedia.org/wiki/\"><span class=\"autonym\" lang=\"simple\" title=\"Simple English (simple:)\">Simple English</span></a></li>\n",
      "<li><a class=\"external text\" href=\"https://gl.wikipedia.org/wiki/\"><span class=\"autonym\" lang=\"gl\" title=\"Galician (gl:)\">Galego</span></a></li>\n",
      "<li><a class=\"external text\" href=\"https://hr.wikipedia.org/wiki/\"><span class=\"autonym\" lang=\"hr\" title=\"Croatian (hr:)\">Hrvatski</span></a></li>\n",
      "<li><a class=\"external text\" href=\"https://lv.wikipedia.org/wiki/\"><span class=\"autonym\" lang=\"lv\" title=\"Latvian (lv:)\">Latviešu</span></a></li>\n",
      "<li><a class=\"external text\" href=\"https://lt.wikipedia.org/wiki/\"><span class=\"autonym\" lang=\"lt\" title=\"Lithuanian (lt:)\">Lietuvių</span></a></li>\n",
      "<li><a class=\"external text\" href=\"https://ml.wikipedia.org/wiki/\"><span class=\"autonym\" lang=\"ml\" title=\"Malayalam (ml:)\">മലയാളം</span></a></li>\n",
      "<li><a class=\"external text\" href=\"https://mk.wikipedia.org/wiki/\"><span class=\"autonym\" lang=\"mk\" title=\"Macedonian (mk:)\">Македонски</span></a></li>\n",
      "<li><a class=\"external text\" href=\"https://nn.wikipedia.org/wiki/\"><span class=\"autonym\" lang=\"nn\" title=\"Norwegian Nynorsk (nn:)\">Norsk nynorsk</span></a></li>\n",
      "<li><a class=\"external text\" href=\"https://sq.wikipedia.org/wiki/\"><span class=\"autonym\" lang=\"sq\" title=\"Albanian (sq:)\">Shqip</span></a></li>\n",
      "<li><a class=\"external text\" href=\"https://sk.wikipedia.org/wiki/\"><span class=\"autonym\" lang=\"sk\" title=\"Slovak (sk:)\">Slovenčina</span></a></li>\n",
      "<li><a class=\"external text\" href=\"https://sl.wikipedia.org/wiki/\"><span class=\"autonym\" lang=\"sl\" title=\"Slovenian (sl:)\">Slovenščina</span></a></li>\n",
      "<li><a class=\"external text\" href=\"https://th.wikipedia.org/wiki/\"><span class=\"autonym\" lang=\"th\" title=\"Thai (th:)\">ไทย</span></a></li>\n",
      "</ul>\n",
      "</li>\n",
      "</ul>\n",
      "</div></div>\n",
      "</div>\n",
      "<!-- \n",
      "NewPP limit report\n",
      "Parsed by mw2327\n",
      "Cached time: 20220928082332\n",
      "Cache expiry: 3600\n",
      "Reduced expiry: true\n",
      "Complications: []\n",
      "CPU time usage: 0.255 seconds\n",
      "Real time usage: 0.395 seconds\n",
      "Preprocessor visited node count: 4063/1000000\n",
      "Post‐expand include size: 119169/2097152 bytes\n",
      "Template argument size: 9447/2097152 bytes\n",
      "Highest expansion depth: 18/100\n",
      "Expensive parser function count: 13/500\n",
      "Unstrip recursion depth: 0/20\n",
      "Unstrip post‐expand size: 13788/5000000 bytes\n",
      "Lua time usage: 0.057/10.000 seconds\n",
      "Lua memory usage: 2763177/52428800 bytes\n",
      "Number of Wikibase entities loaded: 0/400\n",
      "-->\n",
      "<!--\n",
      "Transclusion expansion time report (%,ms,calls,template)\n",
      "100.00%  283.026      1 -total\n",
      " 28.95%   81.934      1 Wikipedia:Main_Page/Tomorrow\n",
      " 24.40%   69.068      1 Wikipedia:Selected_anniversaries/September_28\n",
      " 22.46%   63.558      8 Template:Main_page_image\n",
      " 16.18%   45.784      8 Template:Str_number/trim\n",
      " 14.19%   40.149      1 Wikipedia:Today's_featured_article/September_28,_2022\n",
      " 13.80%   39.051      1 Template:Short_description\n",
      " 12.70%   35.958      2 Template:Main_page_image/TFA\n",
      " 12.61%   35.699      1 Template:Did_you_know/Queue/6\n",
      " 10.76%   30.464      2 Template:Wikipedia_languages\n",
      "-->\n",
      "<!-- Saved in parser cache with key enwiki:pcache:idhash:15580374-0!canonical and timestamp 20220928082332 and revision id 1108085777.\n",
      " -->\n",
      "</div><noscript><img alt=\"\" height=\"1\" src=\"//en.wikipedia.org/wiki/Special:CentralAutoLogin/start?type=1x1\" style=\"border: none; position: absolute;\" title=\"\" width=\"1\"/></noscript>\n",
      "<div class=\"printfooter\" data-nosnippet=\"\">Retrieved from \"<a dir=\"ltr\" href=\"https://en.wikipedia.org/w/index.php?title=Main_Page&amp;oldid=1108085777\">https://en.wikipedia.org/w/index.php?title=Main_Page&amp;oldid=1108085777</a>\"</div></div>\n",
      "<div class=\"catlinks catlinks-allhidden\" data-mw=\"interface\" id=\"catlinks\"><div class=\"mw-hidden-catlinks mw-hidden-cats-hidden\" id=\"mw-hidden-catlinks\">Hidden categories: <ul><li><a href=\"/wiki/Category:Articles_with_short_description\" title=\"Category:Articles with short description\">Articles with short description</a></li><li><a href=\"/wiki/Category:Short_description_is_different_from_Wikidata\" title=\"Category:Short description is different from Wikidata\">Short description is different from Wikidata</a></li></ul></div></div>\n",
      "</div>\n",
      "</div>\n",
      "<div id=\"mw-navigation\">\n",
      "<h2>Navigation menu</h2>\n",
      "<div id=\"mw-head\">\n",
      "<nav aria-labelledby=\"p-personal-label\" class=\"vector-menu mw-portlet mw-portlet-personal vector-user-menu-legacy\" id=\"p-personal\" role=\"navigation\">\n",
      "<h3 class=\"vector-menu-heading\" id=\"p-personal-label\">\n",
      "<span class=\"vector-menu-heading-label\">Personal tools</span>\n",
      "</h3>\n",
      "<div class=\"vector-menu-content\">\n",
      "<ul class=\"vector-menu-content-list\"><li class=\"mw-list-item\" id=\"pt-anonuserpage\"><span title=\"The user page for the IP address you are editing as\">Not logged in</span></li><li class=\"mw-list-item\" id=\"pt-anontalk\"><a accesskey=\"n\" href=\"/wiki/Special:MyTalk\" title=\"Discussion about edits from this IP address [n]\"><span>Talk</span></a></li><li class=\"mw-list-item\" id=\"pt-anoncontribs\"><a accesskey=\"y\" href=\"/wiki/Special:MyContributions\" title=\"A list of edits made from this IP address [y]\"><span>Contributions</span></a></li><li class=\"mw-list-item\" id=\"pt-createaccount\"><a href=\"/w/index.php?title=Special:CreateAccount&amp;returnto=Main+Page\" title=\"You are encouraged to create an account and log in; however, it is not mandatory\"><span>Create account</span></a></li><li class=\"mw-list-item\" id=\"pt-login\"><a accesskey=\"o\" href=\"/w/index.php?title=Special:UserLogin&amp;returnto=Main+Page\" title=\"You're encouraged to log in; however, it's not mandatory. [o]\"><span>Log in</span></a></li></ul>\n",
      "</div>\n",
      "</nav>\n",
      "<div id=\"left-navigation\">\n",
      "<nav aria-labelledby=\"p-namespaces-label\" class=\"vector-menu mw-portlet mw-portlet-namespaces vector-menu-tabs vector-menu-tabs-legacy\" id=\"p-namespaces\" role=\"navigation\">\n",
      "<h3 class=\"vector-menu-heading\" id=\"p-namespaces-label\">\n",
      "<span class=\"vector-menu-heading-label\">Namespaces</span>\n",
      "</h3>\n",
      "<div class=\"vector-menu-content\">\n",
      "<ul class=\"vector-menu-content-list\"><li class=\"selected mw-list-item\" id=\"ca-nstab-main\"><a accesskey=\"c\" href=\"/wiki/Main_Page\" title=\"View the content page [c]\"><span>Main Page</span></a></li><li class=\"mw-list-item\" id=\"ca-talk\"><a accesskey=\"t\" href=\"/wiki/Talk:Main_Page\" rel=\"discussion\" title=\"Discuss improvements to the content page [t]\"><span>Talk</span></a></li></ul>\n",
      "</div>\n",
      "</nav>\n",
      "<nav aria-labelledby=\"p-variants-label\" class=\"vector-menu mw-portlet mw-portlet-variants emptyPortlet vector-menu-dropdown\" id=\"p-variants\" role=\"navigation\">\n",
      "<input aria-haspopup=\"true\" aria-labelledby=\"p-variants-label\" class=\"vector-menu-checkbox\" data-event-name=\"ui.dropdown-p-variants\" id=\"p-variants-checkbox\" role=\"button\" type=\"checkbox\"/>\n",
      "<label aria-label=\"Change language variant\" class=\"vector-menu-heading\" id=\"p-variants-label\">\n",
      "<span class=\"vector-menu-heading-label\">English</span>\n",
      "</label>\n",
      "<div class=\"vector-menu-content\">\n",
      "<ul class=\"vector-menu-content-list\"></ul>\n",
      "</div>\n",
      "</nav>\n",
      "</div>\n",
      "<div id=\"right-navigation\">\n",
      "<nav aria-labelledby=\"p-views-label\" class=\"vector-menu mw-portlet mw-portlet-views vector-menu-tabs vector-menu-tabs-legacy\" id=\"p-views\" role=\"navigation\">\n",
      "<h3 class=\"vector-menu-heading\" id=\"p-views-label\">\n",
      "<span class=\"vector-menu-heading-label\">Views</span>\n",
      "</h3>\n",
      "<div class=\"vector-menu-content\">\n",
      "<ul class=\"vector-menu-content-list\"><li class=\"selected vector-tab-noicon mw-list-item\" id=\"ca-view\"><a href=\"/wiki/Main_Page\"><span>Read</span></a></li><li class=\"vector-tab-noicon mw-list-item\" id=\"ca-viewsource\"><a accesskey=\"e\" href=\"/w/index.php?title=Main_Page&amp;action=edit\" title=\"This page is protected.\n",
      "You can view its source [e]\"><span>View source</span></a></li><li class=\"vector-tab-noicon mw-list-item\" id=\"ca-history\"><a accesskey=\"h\" href=\"/w/index.php?title=Main_Page&amp;action=history\" title=\"Past revisions of this page [h]\"><span>View history</span></a></li></ul>\n",
      "</div>\n",
      "</nav>\n",
      "<nav aria-labelledby=\"p-cactions-label\" class=\"vector-menu mw-portlet mw-portlet-cactions emptyPortlet vector-menu-dropdown\" id=\"p-cactions\" role=\"navigation\" title=\"More options\">\n",
      "<input aria-haspopup=\"true\" aria-labelledby=\"p-cactions-label\" class=\"vector-menu-checkbox\" data-event-name=\"ui.dropdown-p-cactions\" id=\"p-cactions-checkbox\" role=\"button\" type=\"checkbox\"/>\n",
      "<label class=\"vector-menu-heading\" id=\"p-cactions-label\">\n",
      "<span class=\"vector-menu-heading-label\">More</span>\n",
      "</label>\n",
      "<div class=\"vector-menu-content\">\n",
      "<ul class=\"vector-menu-content-list\"></ul>\n",
      "</div>\n",
      "</nav>\n",
      "<div class=\"vector-search-box-vue vector-search-box-show-thumbnail vector-search-box-auto-expand-width vector-search-box\" id=\"p-search\" role=\"search\">\n",
      "<div>\n",
      "<h3>\n",
      "<label for=\"searchInput\">Search</label>\n",
      "</h3>\n",
      "<form action=\"/w/index.php\" class=\"vector-search-box-form\" id=\"searchform\">\n",
      "<div class=\"vector-search-box-inner\" data-search-loc=\"header-navigation\" id=\"simpleSearch\">\n",
      "<input accesskey=\"f\" aria-label=\"Search Wikipedia\" autocapitalize=\"sentences\" class=\"vector-search-box-input\" id=\"searchInput\" name=\"search\" placeholder=\"Search Wikipedia\" title=\"Search Wikipedia [f]\" type=\"search\"/>\n",
      "<input name=\"title\" type=\"hidden\" value=\"Special:Search\"/>\n",
      "<input class=\"searchButton mw-fallbackSearchButton\" id=\"mw-searchButton\" name=\"fulltext\" title=\"Search Wikipedia for this text\" type=\"submit\" value=\"Search\"/>\n",
      "<input class=\"searchButton\" id=\"searchButton\" name=\"go\" title=\"Go to a page with this exact name if it exists\" type=\"submit\" value=\"Go\"/>\n",
      "</div>\n",
      "</form>\n",
      "</div>\n",
      "</div>\n",
      "</div>\n",
      "</div>\n",
      "<div id=\"mw-panel\">\n",
      "<div id=\"p-logo\" role=\"banner\">\n",
      "<a class=\"mw-wiki-logo\" href=\"/wiki/Main_Page\" title=\"Visit the main page\"></a>\n",
      "</div>\n",
      "<nav aria-labelledby=\"p-navigation-label\" class=\"vector-menu mw-portlet mw-portlet-navigation vector-menu-portal portal\" id=\"p-navigation\" role=\"navigation\">\n",
      "<h3 class=\"vector-menu-heading\" id=\"p-navigation-label\">\n",
      "<span class=\"vector-menu-heading-label\">Navigation</span>\n",
      "</h3>\n",
      "<div class=\"vector-menu-content\">\n",
      "<ul class=\"vector-menu-content-list\"><li class=\"mw-list-item\" id=\"n-mainpage-description\"><a accesskey=\"z\" href=\"/wiki/Main_Page\" title=\"Visit the main page [z]\"><span>Main page</span></a></li><li class=\"mw-list-item\" id=\"n-contents\"><a href=\"/wiki/Wikipedia:Contents\" title=\"Guides to browsing Wikipedia\"><span>Contents</span></a></li><li class=\"mw-list-item\" id=\"n-currentevents\"><a href=\"/wiki/Portal:Current_events\" title=\"Articles related to current events\"><span>Current events</span></a></li><li class=\"mw-list-item\" id=\"n-randompage\"><a accesskey=\"x\" href=\"/wiki/Special:Random\" title=\"Visit a randomly selected article [x]\"><span>Random article</span></a></li><li class=\"mw-list-item\" id=\"n-aboutsite\"><a href=\"/wiki/Wikipedia:About\" title=\"Learn about Wikipedia and how it works\"><span>About Wikipedia</span></a></li><li class=\"mw-list-item\" id=\"n-contactpage\"><a href=\"//en.wikipedia.org/wiki/Wikipedia:Contact_us\" title=\"How to contact Wikipedia\"><span>Contact us</span></a></li><li class=\"mw-list-item\" id=\"n-sitesupport\"><a href=\"https://donate.wikimedia.org/wiki/Special:FundraiserRedirector?utm_source=donate&amp;utm_medium=sidebar&amp;utm_campaign=C13_en.wikipedia.org&amp;uselang=en\" title=\"Support us by donating to the Wikimedia Foundation\"><span>Donate</span></a></li></ul>\n",
      "</div>\n",
      "</nav>\n",
      "<nav aria-labelledby=\"p-interaction-label\" class=\"vector-menu mw-portlet mw-portlet-interaction vector-menu-portal portal\" id=\"p-interaction\" role=\"navigation\">\n",
      "<h3 class=\"vector-menu-heading\" id=\"p-interaction-label\">\n",
      "<span class=\"vector-menu-heading-label\">Contribute</span>\n",
      "</h3>\n",
      "<div class=\"vector-menu-content\">\n",
      "<ul class=\"vector-menu-content-list\"><li class=\"mw-list-item\" id=\"n-help\"><a href=\"/wiki/Help:Contents\" title=\"Guidance on how to use and edit Wikipedia\"><span>Help</span></a></li><li class=\"mw-list-item\" id=\"n-introduction\"><a href=\"/wiki/Help:Introduction\" title=\"Learn how to edit Wikipedia\"><span>Learn to edit</span></a></li><li class=\"mw-list-item\" id=\"n-portal\"><a href=\"/wiki/Wikipedia:Community_portal\" title=\"The hub for editors\"><span>Community portal</span></a></li><li class=\"mw-list-item\" id=\"n-recentchanges\"><a accesskey=\"r\" href=\"/wiki/Special:RecentChanges\" title=\"A list of recent changes to Wikipedia [r]\"><span>Recent changes</span></a></li><li class=\"mw-list-item\" id=\"n-upload\"><a href=\"/wiki/Wikipedia:File_Upload_Wizard\" title=\"Add images or other media for use on Wikipedia\"><span>Upload file</span></a></li></ul>\n",
      "</div>\n",
      "</nav>\n",
      "<nav aria-labelledby=\"p-tb-label\" class=\"vector-menu mw-portlet mw-portlet-tb vector-menu-portal portal\" id=\"p-tb\" role=\"navigation\">\n",
      "<h3 class=\"vector-menu-heading\" id=\"p-tb-label\">\n",
      "<span class=\"vector-menu-heading-label\">Tools</span>\n",
      "</h3>\n",
      "<div class=\"vector-menu-content\">\n",
      "<ul class=\"vector-menu-content-list\"><li class=\"mw-list-item\" id=\"t-whatlinkshere\"><a accesskey=\"j\" href=\"/wiki/Special:WhatLinksHere/Main_Page\" title=\"List of all English Wikipedia pages containing links to this page [j]\"><span>What links here</span></a></li><li class=\"mw-list-item\" id=\"t-recentchangeslinked\"><a accesskey=\"k\" href=\"/wiki/Special:RecentChangesLinked/Main_Page\" rel=\"nofollow\" title=\"Recent changes in pages linked from this page [k]\"><span>Related changes</span></a></li><li class=\"mw-list-item\" id=\"t-upload\"><a accesskey=\"u\" href=\"/wiki/Wikipedia:File_Upload_Wizard\" title=\"Upload files [u]\"><span>Upload file</span></a></li><li class=\"mw-list-item\" id=\"t-specialpages\"><a accesskey=\"q\" href=\"/wiki/Special:SpecialPages\" title=\"A list of all special pages [q]\"><span>Special pages</span></a></li><li class=\"mw-list-item\" id=\"t-permalink\"><a href=\"/w/index.php?title=Main_Page&amp;oldid=1108085777\" title=\"Permanent link to this revision of this page\"><span>Permanent link</span></a></li><li class=\"mw-list-item\" id=\"t-info\"><a href=\"/w/index.php?title=Main_Page&amp;action=info\" title=\"More information about this page\"><span>Page information</span></a></li><li class=\"mw-list-item\" id=\"t-cite\"><a href=\"/w/index.php?title=Special:CiteThisPage&amp;page=Main_Page&amp;id=1108085777&amp;wpFormIdentifier=titleform\" title=\"Information on how to cite this page\"><span>Cite this page</span></a></li><li class=\"mw-list-item\" id=\"t-wikibase\"><a accesskey=\"g\" href=\"https://www.wikidata.org/wiki/Special:EntityPage/Q5296\" title=\"Structured data on this page hosted by Wikidata [g]\"><span>Wikidata item</span></a></li></ul>\n",
      "</div>\n",
      "</nav>\n",
      "<nav aria-labelledby=\"p-coll-print_export-label\" class=\"vector-menu mw-portlet mw-portlet-coll-print_export vector-menu-portal portal\" id=\"p-coll-print_export\" role=\"navigation\">\n",
      "<h3 class=\"vector-menu-heading\" id=\"p-coll-print_export-label\">\n",
      "<span class=\"vector-menu-heading-label\">Print/export</span>\n",
      "</h3>\n",
      "<div class=\"vector-menu-content\">\n",
      "<ul class=\"vector-menu-content-list\"><li class=\"mw-list-item\" id=\"coll-download-as-rl\"><a href=\"/w/index.php?title=Special:DownloadAsPdf&amp;page=Main_Page&amp;action=show-download-screen\" title=\"Download this page as a PDF file\"><span>Download as PDF</span></a></li><li class=\"mw-list-item\" id=\"t-print\"><a accesskey=\"p\" href=\"/w/index.php?title=Main_Page&amp;printable=yes\" title=\"Printable version of this page [p]\"><span>Printable version</span></a></li></ul>\n",
      "</div>\n",
      "</nav>\n",
      "<nav aria-labelledby=\"p-wikibase-otherprojects-label\" class=\"vector-menu mw-portlet mw-portlet-wikibase-otherprojects vector-menu-portal portal\" id=\"p-wikibase-otherprojects\" role=\"navigation\">\n",
      "<h3 class=\"vector-menu-heading\" id=\"p-wikibase-otherprojects-label\">\n",
      "<span class=\"vector-menu-heading-label\">In other projects</span>\n",
      "</h3>\n",
      "<div class=\"vector-menu-content\">\n",
      "<ul class=\"vector-menu-content-list\"><li class=\"wb-otherproject-link wb-otherproject-commons mw-list-item\"><a href=\"https://commons.wikimedia.org/wiki/Main_Page\" hreflang=\"en\"><span>Wikimedia Commons</span></a></li><li class=\"wb-otherproject-link wb-otherproject-mediawiki mw-list-item\"><a href=\"https://www.mediawiki.org/wiki/MediaWiki\" hreflang=\"en\"><span>MediaWiki</span></a></li><li class=\"wb-otherproject-link wb-otherproject-meta mw-list-item\"><a href=\"https://meta.wikimedia.org/wiki/Main_Page\" hreflang=\"en\"><span>Meta-Wiki</span></a></li><li class=\"wb-otherproject-link wb-otherproject-sources mw-list-item\"><a href=\"https://wikisource.org/wiki/Main_Page\" hreflang=\"en\"><span>Multilingual Wikisource</span></a></li><li class=\"wb-otherproject-link wb-otherproject-species mw-list-item\"><a href=\"https://species.wikimedia.org/wiki/Main_Page\" hreflang=\"en\"><span>Wikispecies</span></a></li><li class=\"wb-otherproject-link wb-otherproject-wikibooks mw-list-item\"><a href=\"https://en.wikibooks.org/wiki/Main_Page\" hreflang=\"en\"><span>Wikibooks</span></a></li><li class=\"wb-otherproject-link wb-otherproject-wikidata mw-list-item\"><a href=\"https://www.wikidata.org/wiki/Wikidata:Main_Page\" hreflang=\"en\"><span>Wikidata</span></a></li><li class=\"wb-otherproject-link wb-otherproject-wikimania mw-list-item\"><a href=\"https://wikimania.wikimedia.org/wiki/2022:Wikimania\" hreflang=\"en\"><span>Wikimania</span></a></li><li class=\"wb-otherproject-link wb-otherproject-wikinews mw-list-item\"><a href=\"https://en.wikinews.org/wiki/Main_Page\" hreflang=\"en\"><span>Wikinews</span></a></li><li class=\"wb-otherproject-link wb-otherproject-wikiquote mw-list-item\"><a href=\"https://en.wikiquote.org/wiki/Main_Page\" hreflang=\"en\"><span>Wikiquote</span></a></li><li class=\"wb-otherproject-link wb-otherproject-wikisource mw-list-item\"><a href=\"https://en.wikisource.org/wiki/Main_Page\" hreflang=\"en\"><span>Wikisource</span></a></li><li class=\"wb-otherproject-link wb-otherproject-wikiversity mw-list-item\"><a href=\"https://en.wikiversity.org/wiki/Wikiversity:Main_Page\" hreflang=\"en\"><span>Wikiversity</span></a></li><li class=\"wb-otherproject-link wb-otherproject-wikivoyage mw-list-item\"><a href=\"https://en.wikivoyage.org/wiki/Main_Page\" hreflang=\"en\"><span>Wikivoyage</span></a></li><li class=\"wb-otherproject-link wb-otherproject-wiktionary mw-list-item\"><a href=\"https://en.wiktionary.org/wiki/Wiktionary:Main_Page\" hreflang=\"en\"><span>Wiktionary</span></a></li></ul>\n",
      "</div>\n",
      "</nav>\n",
      "<nav aria-labelledby=\"p-lang-label\" class=\"vector-menu mw-portlet mw-portlet-lang vector-menu-portal portal\" id=\"p-lang\" role=\"navigation\">\n",
      "<h3 class=\"vector-menu-heading\" id=\"p-lang-label\">\n",
      "<span class=\"vector-menu-heading-label\">Languages</span>\n",
      "</h3>\n",
      "<div class=\"vector-menu-content\">\n",
      "<ul class=\"vector-menu-content-list\"><li class=\"interlanguage-link interwiki-ar mw-list-item\"><a class=\"interlanguage-link-target\" href=\"https://ar.wikipedia.org/wiki/\" hreflang=\"ar\" lang=\"ar\" title=\"Arabic\"><span>العربية</span></a></li><li class=\"interlanguage-link interwiki-bn mw-list-item\"><a class=\"interlanguage-link-target\" href=\"https://bn.wikipedia.org/wiki/\" hreflang=\"bn\" lang=\"bn\" title=\"Bangla\"><span>বাংলা</span></a></li><li class=\"interlanguage-link interwiki-bg mw-list-item\"><a class=\"interlanguage-link-target\" href=\"https://bg.wikipedia.org/wiki/\" hreflang=\"bg\" lang=\"bg\" title=\"Bulgarian\"><span>Български</span></a></li><li class=\"interlanguage-link interwiki-bs mw-list-item\"><a class=\"interlanguage-link-target\" href=\"https://bs.wikipedia.org/wiki/\" hreflang=\"bs\" lang=\"bs\" title=\"Bosnian\"><span>Bosanski</span></a></li><li class=\"interlanguage-link interwiki-ca mw-list-item\"><a class=\"interlanguage-link-target\" href=\"https://ca.wikipedia.org/wiki/\" hreflang=\"ca\" lang=\"ca\" title=\"Catalan\"><span>Català</span></a></li><li class=\"interlanguage-link interwiki-cs mw-list-item\"><a class=\"interlanguage-link-target\" href=\"https://cs.wikipedia.org/wiki/\" hreflang=\"cs\" lang=\"cs\" title=\"Czech\"><span>Čeština</span></a></li><li class=\"interlanguage-link interwiki-da mw-list-item\"><a class=\"interlanguage-link-target\" href=\"https://da.wikipedia.org/wiki/\" hreflang=\"da\" lang=\"da\" title=\"Danish\"><span>Dansk</span></a></li><li class=\"interlanguage-link interwiki-de mw-list-item\"><a class=\"interlanguage-link-target\" href=\"https://de.wikipedia.org/wiki/\" hreflang=\"de\" lang=\"de\" title=\"German\"><span>Deutsch</span></a></li><li class=\"interlanguage-link interwiki-et mw-list-item\"><a class=\"interlanguage-link-target\" href=\"https://et.wikipedia.org/wiki/\" hreflang=\"et\" lang=\"et\" title=\"Estonian\"><span>Eesti</span></a></li><li class=\"interlanguage-link interwiki-el mw-list-item\"><a class=\"interlanguage-link-target\" href=\"https://el.wikipedia.org/wiki/\" hreflang=\"el\" lang=\"el\" title=\"Greek\"><span>Ελληνικά</span></a></li><li class=\"interlanguage-link interwiki-es mw-list-item\"><a class=\"interlanguage-link-target\" href=\"https://es.wikipedia.org/wiki/\" hreflang=\"es\" lang=\"es\" title=\"Spanish\"><span>Español</span></a></li><li class=\"interlanguage-link interwiki-eo mw-list-item\"><a class=\"interlanguage-link-target\" href=\"https://eo.wikipedia.org/wiki/\" hreflang=\"eo\" lang=\"eo\" title=\"Esperanto\"><span>Esperanto</span></a></li><li class=\"interlanguage-link interwiki-eu mw-list-item\"><a class=\"interlanguage-link-target\" href=\"https://eu.wikipedia.org/wiki/\" hreflang=\"eu\" lang=\"eu\" title=\"Basque\"><span>Euskara</span></a></li><li class=\"interlanguage-link interwiki-fa mw-list-item\"><a class=\"interlanguage-link-target\" href=\"https://fa.wikipedia.org/wiki/\" hreflang=\"fa\" lang=\"fa\" title=\"Persian\"><span>فارسی</span></a></li><li class=\"interlanguage-link interwiki-fr mw-list-item\"><a class=\"interlanguage-link-target\" href=\"https://fr.wikipedia.org/wiki/\" hreflang=\"fr\" lang=\"fr\" title=\"French\"><span>Français</span></a></li><li class=\"interlanguage-link interwiki-gl mw-list-item\"><a class=\"interlanguage-link-target\" href=\"https://gl.wikipedia.org/wiki/\" hreflang=\"gl\" lang=\"gl\" title=\"Galician\"><span>Galego</span></a></li><li class=\"interlanguage-link interwiki-ko mw-list-item\"><a class=\"interlanguage-link-target\" href=\"https://ko.wikipedia.org/wiki/\" hreflang=\"ko\" lang=\"ko\" title=\"Korean\"><span>한국어</span></a></li><li class=\"interlanguage-link interwiki-hr mw-list-item\"><a class=\"interlanguage-link-target\" href=\"https://hr.wikipedia.org/wiki/\" hreflang=\"hr\" lang=\"hr\" title=\"Croatian\"><span>Hrvatski</span></a></li><li class=\"interlanguage-link interwiki-id mw-list-item\"><a class=\"interlanguage-link-target\" href=\"https://id.wikipedia.org/wiki/\" hreflang=\"id\" lang=\"id\" title=\"Indonesian\"><span>Bahasa Indonesia</span></a></li><li class=\"interlanguage-link interwiki-it mw-list-item\"><a class=\"interlanguage-link-target\" href=\"https://it.wikipedia.org/wiki/\" hreflang=\"it\" lang=\"it\" title=\"Italian\"><span>Italiano</span></a></li><li class=\"interlanguage-link interwiki-he mw-list-item\"><a class=\"interlanguage-link-target\" href=\"https://he.wikipedia.org/wiki/\" hreflang=\"he\" lang=\"he\" title=\"Hebrew\"><span>עברית</span></a></li><li class=\"interlanguage-link interwiki-ka mw-list-item\"><a class=\"interlanguage-link-target\" href=\"https://ka.wikipedia.org/wiki/\" hreflang=\"ka\" lang=\"ka\" title=\"Georgian\"><span>ქართული</span></a></li><li class=\"interlanguage-link interwiki-lv mw-list-item\"><a class=\"interlanguage-link-target\" href=\"https://lv.wikipedia.org/wiki/\" hreflang=\"lv\" lang=\"lv\" title=\"Latvian\"><span>Latviešu</span></a></li><li class=\"interlanguage-link interwiki-lt mw-list-item\"><a class=\"interlanguage-link-target\" href=\"https://lt.wikipedia.org/wiki/\" hreflang=\"lt\" lang=\"lt\" title=\"Lithuanian\"><span>Lietuvių</span></a></li><li class=\"interlanguage-link interwiki-hu mw-list-item\"><a class=\"interlanguage-link-target\" href=\"https://hu.wikipedia.org/wiki/\" hreflang=\"hu\" lang=\"hu\" title=\"Hungarian\"><span>Magyar</span></a></li><li class=\"interlanguage-link interwiki-mk mw-list-item\"><a class=\"interlanguage-link-target\" href=\"https://mk.wikipedia.org/wiki/\" hreflang=\"mk\" lang=\"mk\" title=\"Macedonian\"><span>Македонски</span></a></li><li class=\"interlanguage-link interwiki-ms mw-list-item\"><a class=\"interlanguage-link-target\" href=\"https://ms.wikipedia.org/wiki/\" hreflang=\"ms\" lang=\"ms\" title=\"Malay\"><span>Bahasa Melayu</span></a></li><li class=\"interlanguage-link interwiki-nl mw-list-item\"><a class=\"interlanguage-link-target\" href=\"https://nl.wikipedia.org/wiki/\" hreflang=\"nl\" lang=\"nl\" title=\"Dutch\"><span>Nederlands</span></a></li><li class=\"interlanguage-link interwiki-ja mw-list-item\"><a class=\"interlanguage-link-target\" href=\"https://ja.wikipedia.org/wiki/\" hreflang=\"ja\" lang=\"ja\" title=\"Japanese\"><span>日本語</span></a></li><li class=\"interlanguage-link interwiki-no mw-list-item\"><a class=\"interlanguage-link-target\" href=\"https://no.wikipedia.org/wiki/\" hreflang=\"nb\" lang=\"nb\" title=\"Norwegian Bokmål\"><span>Norsk bokmål</span></a></li><li class=\"interlanguage-link interwiki-nn mw-list-item\"><a class=\"interlanguage-link-target\" href=\"https://nn.wikipedia.org/wiki/\" hreflang=\"nn\" lang=\"nn\" title=\"Norwegian Nynorsk\"><span>Norsk nynorsk</span></a></li><li class=\"interlanguage-link interwiki-pl mw-list-item\"><a class=\"interlanguage-link-target\" href=\"https://pl.wikipedia.org/wiki/\" hreflang=\"pl\" lang=\"pl\" title=\"Polish\"><span>Polski</span></a></li><li class=\"interlanguage-link interwiki-pt mw-list-item\"><a class=\"interlanguage-link-target\" href=\"https://pt.wikipedia.org/wiki/\" hreflang=\"pt\" lang=\"pt\" title=\"Portuguese\"><span>Português</span></a></li><li class=\"interlanguage-link interwiki-ro mw-list-item\"><a class=\"interlanguage-link-target\" href=\"https://ro.wikipedia.org/wiki/\" hreflang=\"ro\" lang=\"ro\" title=\"Romanian\"><span>Română</span></a></li><li class=\"interlanguage-link interwiki-ru mw-list-item\"><a class=\"interlanguage-link-target\" href=\"https://ru.wikipedia.org/wiki/\" hreflang=\"ru\" lang=\"ru\" title=\"Russian\"><span>Русский</span></a></li><li class=\"interlanguage-link interwiki-simple mw-list-item\"><a class=\"interlanguage-link-target\" href=\"https://simple.wikipedia.org/wiki/\" hreflang=\"en-simple\" lang=\"en-simple\" title=\"Simple English\"><span>Simple English</span></a></li><li class=\"interlanguage-link interwiki-sk mw-list-item\"><a class=\"interlanguage-link-target\" href=\"https://sk.wikipedia.org/wiki/\" hreflang=\"sk\" lang=\"sk\" title=\"Slovak\"><span>Slovenčina</span></a></li><li class=\"interlanguage-link interwiki-sl mw-list-item\"><a class=\"interlanguage-link-target\" href=\"https://sl.wikipedia.org/wiki/\" hreflang=\"sl\" lang=\"sl\" title=\"Slovenian\"><span>Slovenščina</span></a></li><li class=\"interlanguage-link interwiki-sr mw-list-item\"><a class=\"interlanguage-link-target\" href=\"https://sr.wikipedia.org/wiki/\" hreflang=\"sr\" lang=\"sr\" title=\"Serbian\"><span>Српски / srpski</span></a></li><li class=\"interlanguage-link interwiki-sh mw-list-item\"><a class=\"interlanguage-link-target\" href=\"https://sh.wikipedia.org/wiki/\" hreflang=\"sh\" lang=\"sh\" title=\"Serbo-Croatian\"><span>Srpskohrvatski / српскохрватски</span></a></li><li class=\"interlanguage-link interwiki-fi mw-list-item\"><a class=\"interlanguage-link-target\" href=\"https://fi.wikipedia.org/wiki/\" hreflang=\"fi\" lang=\"fi\" title=\"Finnish\"><span>Suomi</span></a></li><li class=\"interlanguage-link interwiki-sv mw-list-item\"><a class=\"interlanguage-link-target\" href=\"https://sv.wikipedia.org/wiki/\" hreflang=\"sv\" lang=\"sv\" title=\"Swedish\"><span>Svenska</span></a></li><li class=\"interlanguage-link interwiki-th mw-list-item\"><a class=\"interlanguage-link-target\" href=\"https://th.wikipedia.org/wiki/\" hreflang=\"th\" lang=\"th\" title=\"Thai\"><span>ไทย</span></a></li><li class=\"interlanguage-link interwiki-tr mw-list-item\"><a class=\"interlanguage-link-target\" href=\"https://tr.wikipedia.org/wiki/\" hreflang=\"tr\" lang=\"tr\" title=\"Turkish\"><span>Türkçe</span></a></li><li class=\"interlanguage-link interwiki-uk mw-list-item\"><a class=\"interlanguage-link-target\" href=\"https://uk.wikipedia.org/wiki/\" hreflang=\"uk\" lang=\"uk\" title=\"Ukrainian\"><span>Українська</span></a></li><li class=\"interlanguage-link interwiki-vi mw-list-item\"><a class=\"interlanguage-link-target\" href=\"https://vi.wikipedia.org/wiki/\" hreflang=\"vi\" lang=\"vi\" title=\"Vietnamese\"><span>Tiếng Việt</span></a></li><li class=\"interlanguage-link interwiki-zh mw-list-item\"><a class=\"interlanguage-link-target\" href=\"https://zh.wikipedia.org/wiki/\" hreflang=\"zh\" lang=\"zh\" title=\"Chinese\"><span>中文</span></a></li></ul>\n",
      "</div>\n",
      "</nav>\n",
      "</div>\n",
      "</div>\n",
      "<footer class=\"mw-footer\" id=\"footer\" role=\"contentinfo\">\n",
      "<ul id=\"footer-info\">\n",
      "<li id=\"footer-info-lastmod\"> This page was last edited on 2 September 2022, at 13:05<span class=\"anonymous-show\"> (UTC)</span>.</li>\n",
      "<li id=\"footer-info-copyright\">Text is available under the <a href=\"//en.wikipedia.org/wiki/Wikipedia:Text_of_Creative_Commons_Attribution-ShareAlike_3.0_Unported_License\" rel=\"license\">Creative Commons Attribution-ShareAlike License 3.0</a><a href=\"//creativecommons.org/licenses/by-sa/3.0/\" rel=\"license\" style=\"display:none;\"></a>;\n",
      "additional terms may apply.  By using this site, you agree to the <a href=\"//foundation.wikimedia.org/wiki/Terms_of_Use\">Terms of Use</a> and <a href=\"//foundation.wikimedia.org/wiki/Privacy_policy\">Privacy Policy</a>. Wikipedia® is a registered trademark of the <a href=\"//www.wikimediafoundation.org/\">Wikimedia Foundation, Inc.</a>, a non-profit organization.</li>\n",
      "</ul>\n",
      "<ul id=\"footer-places\">\n",
      "<li id=\"footer-places-privacy\"><a href=\"https://foundation.wikimedia.org/wiki/Privacy_policy\">Privacy policy</a></li>\n",
      "<li id=\"footer-places-about\"><a href=\"/wiki/Wikipedia:About\">About Wikipedia</a></li>\n",
      "<li id=\"footer-places-disclaimer\"><a href=\"/wiki/Wikipedia:General_disclaimer\">Disclaimers</a></li>\n",
      "<li id=\"footer-places-contact\"><a href=\"//en.wikipedia.org/wiki/Wikipedia:Contact_us\">Contact Wikipedia</a></li>\n",
      "<li id=\"footer-places-mobileview\"><a class=\"noprint stopMobileRedirectToggle\" href=\"//en.m.wikipedia.org/w/index.php?title=Main_Page&amp;mobileaction=toggle_view_mobile\">Mobile view</a></li>\n",
      "<li id=\"footer-places-developers\"><a href=\"https://developer.wikimedia.org\">Developers</a></li>\n",
      "<li id=\"footer-places-statslink\"><a href=\"https://stats.wikimedia.org/#/en.wikipedia.org\">Statistics</a></li>\n",
      "<li id=\"footer-places-cookiestatement\"><a href=\"https://foundation.wikimedia.org/wiki/Cookie_statement\">Cookie statement</a></li>\n",
      "</ul>\n",
      "<ul class=\"noprint\" id=\"footer-icons\">\n",
      "<li id=\"footer-copyrightico\"><a href=\"https://wikimediafoundation.org/\"><img alt=\"Wikimedia Foundation\" height=\"31\" loading=\"lazy\" src=\"/static/images/footer/wikimedia-button.png\" srcset=\"/static/images/footer/wikimedia-button-1.5x.png 1.5x, /static/images/footer/wikimedia-button-2x.png 2x\" width=\"88\"/></a></li>\n",
      "<li id=\"footer-poweredbyico\"><a href=\"https://www.mediawiki.org/\"><img alt=\"Powered by MediaWiki\" height=\"31\" loading=\"lazy\" src=\"/static/images/footer/poweredby_mediawiki_88x31.png\" srcset=\"/static/images/footer/poweredby_mediawiki_132x47.png 1.5x, /static/images/footer/poweredby_mediawiki_176x62.png 2x\" width=\"88\"/></a></li>\n",
      "</ul>\n",
      "</footer>\n",
      "<script>(RLQ=window.RLQ||[]).push(function(){mw.config.set({\"wgPageParseReport\":{\"limitreport\":{\"cputime\":\"0.255\",\"walltime\":\"0.395\",\"ppvisitednodes\":{\"value\":4063,\"limit\":1000000},\"postexpandincludesize\":{\"value\":119169,\"limit\":2097152},\"templateargumentsize\":{\"value\":9447,\"limit\":2097152},\"expansiondepth\":{\"value\":18,\"limit\":100},\"expensivefunctioncount\":{\"value\":13,\"limit\":500},\"unstrip-depth\":{\"value\":0,\"limit\":20},\"unstrip-size\":{\"value\":13788,\"limit\":5000000},\"entityaccesscount\":{\"value\":0,\"limit\":400},\"timingprofile\":[\"100.00%  283.026      1 -total\",\" 28.95%   81.934      1 Wikipedia:Main_Page/Tomorrow\",\" 24.40%   69.068      1 Wikipedia:Selected_anniversaries/September_28\",\" 22.46%   63.558      8 Template:Main_page_image\",\" 16.18%   45.784      8 Template:Str_number/trim\",\" 14.19%   40.149      1 Wikipedia:Today's_featured_article/September_28,_2022\",\" 13.80%   39.051      1 Template:Short_description\",\" 12.70%   35.958      2 Template:Main_page_image/TFA\",\" 12.61%   35.699      1 Template:Did_you_know/Queue/6\",\" 10.76%   30.464      2 Template:Wikipedia_languages\"]},\"scribunto\":{\"limitreport-timeusage\":{\"value\":\"0.057\",\"limit\":\"10.000\"},\"limitreport-memusage\":{\"value\":2763177,\"limit\":52428800}},\"cachereport\":{\"origin\":\"mw2327\",\"timestamp\":\"20220928082332\",\"ttl\":3600,\"transientcontent\":true}}});});</script>\n",
      "<script type=\"application/ld+json\">{\"@context\":\"https:\\/\\/schema.org\",\"@type\":\"Article\",\"name\":\"Main Page\",\"url\":\"https:\\/\\/en.wikipedia.org\\/wiki\\/Main_Page\",\"sameAs\":\"http:\\/\\/www.wikidata.org\\/entity\\/Q5296\",\"mainEntity\":\"http:\\/\\/www.wikidata.org\\/entity\\/Q5296\",\"author\":{\"@type\":\"Organization\",\"name\":\"Contributors to Wikimedia projects\"},\"publisher\":{\"@type\":\"Organization\",\"name\":\"Wikimedia Foundation, Inc.\",\"logo\":{\"@type\":\"ImageObject\",\"url\":\"https:\\/\\/www.wikimedia.org\\/static\\/images\\/wmf-hor-googpub.png\"}},\"datePublished\":\"2002-01-26T15:28:12Z\",\"dateModified\":\"2022-09-02T13:05:06Z\",\"image\":\"https:\\/\\/upload.wikimedia.org\\/wikipedia\\/commons\\/9\\/93\\/Phil6france.jpg\",\"headline\":\"Wikimedia project page\"}</script><script type=\"application/ld+json\">{\"@context\":\"https:\\/\\/schema.org\",\"@type\":\"Article\",\"name\":\"Main Page\",\"url\":\"https:\\/\\/en.wikipedia.org\\/wiki\\/Main_Page\",\"sameAs\":\"http:\\/\\/www.wikidata.org\\/entity\\/Q5296\",\"mainEntity\":\"http:\\/\\/www.wikidata.org\\/entity\\/Q5296\",\"author\":{\"@type\":\"Organization\",\"name\":\"Contributors to Wikimedia projects\"},\"publisher\":{\"@type\":\"Organization\",\"name\":\"Wikimedia Foundation, Inc.\",\"logo\":{\"@type\":\"ImageObject\",\"url\":\"https:\\/\\/www.wikimedia.org\\/static\\/images\\/wmf-hor-googpub.png\"}},\"datePublished\":\"2002-01-26T15:28:12Z\",\"dateModified\":\"2022-09-02T13:05:06Z\",\"image\":\"https:\\/\\/upload.wikimedia.org\\/wikipedia\\/commons\\/9\\/93\\/Phil6france.jpg\",\"headline\":\"Wikimedia project page\"}</script>\n",
      "<script>(RLQ=window.RLQ||[]).push(function(){mw.config.set({\"wgBackendResponseTime\":511,\"wgHostname\":\"mw2327\"});});</script>\n",
      "</body>\n",
      "</html>\n"
     ]
    }
   ],
   "source": [
    "from bs4 import BeautifulSoup\n",
    "#import urllib  # If you're using Python 2.x\n",
    "import urllib.request  # If you're using Python 3\n",
    "\n",
    "url = 'https://en.wikipedia.org/wiki/Main_Page'\n",
    "#html = urllib.urlopen(url).read()  # Python 2.x\n",
    "with urllib.request.urlopen(url) as url_content:\n",
    "    html = url_content.read()\n",
    "\n",
    "# BeautifulSoup() is a formatting module to interpret html/xml\n",
    "soup = BeautifulSoup(html)\n",
    "print(soup)"
   ]
  },
  {
   "cell_type": "code",
   "execution_count": 78,
   "metadata": {
    "id": "R799kHqpDd6u"
   },
   "outputs": [
    {
     "name": "stdout",
     "output_type": "stream",
     "text": [
      "<class 'bs4.BeautifulSoup'>\n",
      "<!DOCTYPE html>\n",
      "<html class=\"client-nojs\" dir=\"ltr\" lang=\"en\">\n",
      " <head>\n",
      "  <meta charset=\"utf-8\"/>\n",
      "  <title>\n",
      "   Wikipedia, the free encyclopedia\n",
      "  </title>\n",
      "  <script>\n",
      "   document.documentElement.className=\"client-js\";RLCONF={\"wgBreakFrames\":false,\"wgSeparatorTransformTable\":[\"\",\"\"],\"wgDigitTransformTable\":[\"\",\"\"],\"wgDefaultDateFormat\":\"dmy\",\"wgMonthNames\":[\"\",\"January\",\"February\",\"March\",\"April\",\"May\",\"June\",\"July\",\"August\",\"September\",\"October\",\"November\",\"December\"],\"wgRequestId\":\"94bc46c3-d81b-44fe-8249-d71333f40661\",\"wgCSPNonce\":false,\"wgCanonicalNamespace\":\"\",\"wgCanonicalSpecialPageName\":false,\"wgNamespaceNumber\":0,\"wgPageName\":\"Main_Page\",\"wgTitle\":\"Main Page\",\"wgCurRevisionId\":1108085777,\"wgRevisionId\":1108085777,\"wgArticleId\":15580374,\"wgIsArticle\":true,\"wgIsRedirect\":false,\"wgAction\":\"view\",\"wgUserName\":null,\"wgUserGroups\":[\"*\"],\"wgCategories\":[\"Articles with short description\",\"Short description is different from Wikidata\"],\"wgPageContentLanguage\":\"en\",\"wgPageContentModel\":\"wik\n"
     ]
    }
   ],
   "source": [
    "print(type(soup))\n",
    "print(soup.prettify()[0:1000])"
   ]
  },
  {
   "cell_type": "markdown",
   "metadata": {
    "id": "_p9x7tE8EMNz"
   },
   "source": [
    "The text is structured with HTML tags organised in a systematic way. This structure is referred to as a *HTML DOM* (Document Object Model).\n",
    "\n",
    "We are interested grabbing the summary of article of the day, from the Wikipedia main page along with all the links in it. So we'll use `BeautifulSoup`'s functions to parse HTML tags that contain this information or lead us to it in the form of embedded URLs.\n",
    "\n",
    "On inspection of the HTML source we identify that the article summary is enclosed in the tag table with the attribute `id = mp-upper`. The idea is as follows,\n",
    "\n",
    "1.   Using the function in `.find_all()` in BeautifulSoup we search for all tags of the type `table`\n",
    "2.   Search the returned list for all the tag that has an attribute `id = mp-upper`.\n",
    "3.   Now that you have the table notice that the information needed is in the tag called `p`. Search for all tags `p`\n",
    "4.  Identify the correct paragraph and extract URLs.\n",
    "5.  Extract text.\n",
    "\n"
   ]
  },
  {
   "cell_type": "code",
   "execution_count": 79,
   "metadata": {
    "id": "Q813eykNE92E"
   },
   "outputs": [
    {
     "data": {
      "text/plain": [
       "[<table role=\"presentation\" style=\"margin:0 3px 3px; width:100%; box-sizing:border-box; text-align:center; background-color:transparent; border-collapse:collapse; padding:0.9em\">\n",
       " <tbody><tr>\n",
       " <td style=\"padding:0 0.9em; text-align:left;\">\n",
       " </td></tr>\n",
       " <tr>\n",
       " <td style=\"padding:0 0.9em; text-align:left;\">\n",
       " <ul class=\"gallery mw-gallery-packed center\">\n",
       " <li class=\"gallerybox\" style=\"width: 140px\"><div style=\"width: 140px\">\n",
       " <div class=\"thumb\" style=\"width: 138px;\"><div style=\"margin:0px auto;\"><a class=\"image\" href=\"/wiki/File:US-NBN-IL-Lebanon-2057-Orig-1-400-C.jpg\" title=\"$1 (original): First National Bank, Lebanon, Indiana\"><img alt=\"Obverse and reverse of a one-dollar National Bank Note\" data-file-height=\"3048\" data-file-width=\"3500\" decoding=\"async\" height=\"120\" src=\"//upload.wikimedia.org/wikipedia/commons/thumb/b/b5/US-NBN-IL-Lebanon-2057-Orig-1-400-C.jpg/207px-US-NBN-IL-Lebanon-2057-Orig-1-400-C.jpg\" srcset=\"//upload.wikimedia.org/wikipedia/commons/thumb/b/b5/US-NBN-IL-Lebanon-2057-Orig-1-400-C.jpg/310px-US-NBN-IL-Lebanon-2057-Orig-1-400-C.jpg 1.5x, //upload.wikimedia.org/wikipedia/commons/thumb/b/b5/US-NBN-IL-Lebanon-2057-Orig-1-400-C.jpg/413px-US-NBN-IL-Lebanon-2057-Orig-1-400-C.jpg 2x\" width=\"138\"/></a></div></div>\n",
       " <div class=\"gallerytext\">\n",
       " <p>$1 (original): First National Bank, <a href=\"/wiki/Lebanon,_Indiana\" title=\"Lebanon, Indiana\">Lebanon, Indiana</a>\n",
       " </p>\n",
       " </div>\n",
       " </div></li>\n",
       " <li class=\"gallerybox\" style=\"width: 139.33333333333px\"><div style=\"width: 139.33333333333px\">\n",
       " <div class=\"thumb\" style=\"width: 137.33333333333px;\"><div style=\"margin:0px auto;\"><a class=\"image\" href=\"/wiki/File:US-NBN-KS-Emporia-1915-1875-2-1915-A.jpg\" title=\"$2 (1875): First National Bank, Emporia, Kansas\"><img alt=\"Obverse and reverse of a two-dollar National Bank Note\" data-file-height=\"3061\" data-file-width=\"3500\" decoding=\"async\" height=\"120\" src=\"//upload.wikimedia.org/wikipedia/commons/thumb/2/24/US-NBN-KS-Emporia-1915-1875-2-1915-A.jpg/206px-US-NBN-KS-Emporia-1915-1875-2-1915-A.jpg\" srcset=\"//upload.wikimedia.org/wikipedia/commons/thumb/2/24/US-NBN-KS-Emporia-1915-1875-2-1915-A.jpg/309px-US-NBN-KS-Emporia-1915-1875-2-1915-A.jpg 1.5x, //upload.wikimedia.org/wikipedia/commons/thumb/2/24/US-NBN-KS-Emporia-1915-1875-2-1915-A.jpg/412px-US-NBN-KS-Emporia-1915-1875-2-1915-A.jpg 2x\" width=\"138\"/></a></div></div>\n",
       " <div class=\"gallerytext\">\n",
       " <p>$2 (1875): First National Bank, <a href=\"/wiki/Emporia,_Kansas\" title=\"Emporia, Kansas\">Emporia, Kansas</a>\n",
       " </p>\n",
       " </div>\n",
       " </div></li>\n",
       " <li class=\"gallerybox\" style=\"width: 139.33333333333px\"><div style=\"width: 139.33333333333px\">\n",
       " <div class=\"thumb\" style=\"width: 137.33333333333px;\"><div style=\"margin:0px auto;\"><a class=\"image\" href=\"/wiki/File:US-NBN-NJ-Vineland-2399-1875-5-2518-D.jpg\" title=\"$5 (1875): Vineland National Bank, Vineland, New Jersey\"><img alt=\"Obverse and reverse of a five-dollar National Bank Note\" data-file-height=\"3056\" data-file-width=\"3500\" decoding=\"async\" height=\"120\" src=\"//upload.wikimedia.org/wikipedia/commons/thumb/a/a5/US-NBN-NJ-Vineland-2399-1875-5-2518-D.jpg/206px-US-NBN-NJ-Vineland-2399-1875-5-2518-D.jpg\" srcset=\"//upload.wikimedia.org/wikipedia/commons/thumb/a/a5/US-NBN-NJ-Vineland-2399-1875-5-2518-D.jpg/309px-US-NBN-NJ-Vineland-2399-1875-5-2518-D.jpg 1.5x, //upload.wikimedia.org/wikipedia/commons/thumb/a/a5/US-NBN-NJ-Vineland-2399-1875-5-2518-D.jpg/412px-US-NBN-NJ-Vineland-2399-1875-5-2518-D.jpg 2x\" width=\"138\"/></a></div></div>\n",
       " <div class=\"gallerytext\">\n",
       " <p>$5 (1875): Vineland National Bank, <a href=\"/wiki/Vineland,_New_Jersey\" title=\"Vineland, New Jersey\">Vineland, New Jersey</a>\n",
       " </p>\n",
       " </div>\n",
       " </div></li>\n",
       " </ul>\n",
       " <ul class=\"gallery mw-gallery-packed center\">\n",
       " <li class=\"gallerybox\" style=\"width: 140px\"><div style=\"width: 140px\">\n",
       " <div class=\"thumb\" style=\"width: 138px;\"><div style=\"margin:0px auto;\"><a class=\"image\" href=\"/wiki/File:US-NBN-ND-Bismarck-2434-1875-10-2238-C.jpg\" title=\"$10 (1875): First National Bank, Bismarck, North Dakota\"><img alt=\"Obverse and reverse of a ten-dollar National Bank Note\" data-file-height=\"3048\" data-file-width=\"3500\" decoding=\"async\" height=\"120\" src=\"//upload.wikimedia.org/wikipedia/commons/thumb/e/e0/US-NBN-ND-Bismarck-2434-1875-10-2238-C.jpg/207px-US-NBN-ND-Bismarck-2434-1875-10-2238-C.jpg\" srcset=\"//upload.wikimedia.org/wikipedia/commons/thumb/e/e0/US-NBN-ND-Bismarck-2434-1875-10-2238-C.jpg/310px-US-NBN-ND-Bismarck-2434-1875-10-2238-C.jpg 1.5x, //upload.wikimedia.org/wikipedia/commons/thumb/e/e0/US-NBN-ND-Bismarck-2434-1875-10-2238-C.jpg/413px-US-NBN-ND-Bismarck-2434-1875-10-2238-C.jpg 2x\" width=\"138\"/></a></div></div>\n",
       " <div class=\"gallerytext\">\n",
       " <p>$10 (1875): First National Bank, <a href=\"/wiki/Bismarck,_North_Dakota\" title=\"Bismarck, North Dakota\">Bismarck, North Dakota</a>\n",
       " </p>\n",
       " </div>\n",
       " </div></li>\n",
       " <li class=\"gallerybox\" style=\"width: 140px\"><div style=\"width: 140px\">\n",
       " <div class=\"thumb\" style=\"width: 138px;\"><div style=\"margin:0px auto;\"><a class=\"image\" href=\"/wiki/File:US-NBN-MT-Butte-2566-1875-20-4943-A.jpg\" title=\"$20 (1875): First National Bank, Butte, Montana\"><img alt=\"Obverse and reverse of a twenty-dollar National Bank Note\" data-file-height=\"3044\" data-file-width=\"3500\" decoding=\"async\" height=\"120\" src=\"//upload.wikimedia.org/wikipedia/commons/thumb/2/2b/US-NBN-MT-Butte-2566-1875-20-4943-A.jpg/207px-US-NBN-MT-Butte-2566-1875-20-4943-A.jpg\" srcset=\"//upload.wikimedia.org/wikipedia/commons/thumb/2/2b/US-NBN-MT-Butte-2566-1875-20-4943-A.jpg/311px-US-NBN-MT-Butte-2566-1875-20-4943-A.jpg 1.5x, //upload.wikimedia.org/wikipedia/commons/thumb/2/2b/US-NBN-MT-Butte-2566-1875-20-4943-A.jpg/414px-US-NBN-MT-Butte-2566-1875-20-4943-A.jpg 2x\" width=\"138\"/></a></div></div>\n",
       " <div class=\"gallerytext\">\n",
       " <p>$20 (1875): First National Bank, <a href=\"/wiki/Butte,_Montana\" title=\"Butte, Montana\">Butte, Montana</a>\n",
       " </p>\n",
       " </div>\n",
       " </div></li>\n",
       " <li class=\"gallerybox\" style=\"width: 137.33333333333px\"><div style=\"width: 137.33333333333px\">\n",
       " <div class=\"thumb\" style=\"width: 135.33333333333px;\"><div style=\"margin:0px auto;\"><a class=\"image\" href=\"/wiki/File:US-NBN-OH-Cleveland-7-1875-50-1711-A.jpg\" title=\"$50 (1875): First National Bank, Cleveland, Ohio\"><img alt=\"Obverse and reverse of a fifty-dollar National Bank Note\" data-file-height=\"3112\" data-file-width=\"3500\" decoding=\"async\" height=\"120\" src=\"//upload.wikimedia.org/wikipedia/commons/thumb/a/a1/US-NBN-OH-Cleveland-7-1875-50-1711-A.jpg/203px-US-NBN-OH-Cleveland-7-1875-50-1711-A.jpg\" srcset=\"//upload.wikimedia.org/wikipedia/commons/thumb/a/a1/US-NBN-OH-Cleveland-7-1875-50-1711-A.jpg/304px-US-NBN-OH-Cleveland-7-1875-50-1711-A.jpg 1.5x, //upload.wikimedia.org/wikipedia/commons/thumb/a/a1/US-NBN-OH-Cleveland-7-1875-50-1711-A.jpg/405px-US-NBN-OH-Cleveland-7-1875-50-1711-A.jpg 2x\" width=\"136\"/></a></div></div>\n",
       " <div class=\"gallerytext\">\n",
       " <p>$50 (1875): First National Bank, <a href=\"/wiki/Cleveland\" title=\"Cleveland\">Cleveland, Ohio</a>\n",
       " </p>\n",
       " </div>\n",
       " </div></li>\n",
       " </ul>\n",
       " <ul class=\"gallery mw-gallery-packed center\">\n",
       " <li class=\"gallerybox\" style=\"width: 141.33333333333px\"><div style=\"width: 141.33333333333px\">\n",
       " <div class=\"thumb\" style=\"width: 139.33333333333px;\"><div style=\"margin:0px auto;\"><a class=\"image\" href=\"/wiki/File:US-NBN-NC-Raleigh-1557-Orig-100-761-A.jpg\" title=\"$100 (original): Raleigh National Bank, Raleigh, North Carolina\"><img alt=\"Obverse and reverse of a one-hundred-dollar National Bank Note\" data-file-height=\"3013\" data-file-width=\"3500\" decoding=\"async\" height=\"120\" src=\"//upload.wikimedia.org/wikipedia/commons/thumb/c/c3/US-NBN-NC-Raleigh-1557-Orig-100-761-A.jpg/209px-US-NBN-NC-Raleigh-1557-Orig-100-761-A.jpg\" srcset=\"//upload.wikimedia.org/wikipedia/commons/thumb/c/c3/US-NBN-NC-Raleigh-1557-Orig-100-761-A.jpg/314px-US-NBN-NC-Raleigh-1557-Orig-100-761-A.jpg 1.5x, //upload.wikimedia.org/wikipedia/commons/thumb/c/c3/US-NBN-NC-Raleigh-1557-Orig-100-761-A.jpg/418px-US-NBN-NC-Raleigh-1557-Orig-100-761-A.jpg 2x\" width=\"140\"/></a></div></div>\n",
       " <div class=\"gallerytext\">\n",
       " <p>$100 (original): Raleigh National Bank, <a href=\"/wiki/Raleigh,_North_Carolina\" title=\"Raleigh, North Carolina\">Raleigh, North Carolina</a>\n",
       " </p>\n",
       " </div>\n",
       " </div></li>\n",
       " <li class=\"gallerybox\" style=\"width: 143.33333333333px\"><div style=\"width: 143.33333333333px\">\n",
       " <div class=\"thumb\" style=\"width: 141.33333333333px;\"><div style=\"margin:0px auto;\"><a class=\"image\" href=\"/wiki/File:US-NBN-MA-Lowell-986-Orig-500-206-A.jpg\" title=\"$500 (original): Appleton National Bank, Lowell, Massachusetts\"><img alt=\"Obverse and reverse of a five-hundred-dollar National Bank Note\" data-file-height=\"2548\" data-file-width=\"3000\" decoding=\"async\" height=\"120\" src=\"//upload.wikimedia.org/wikipedia/commons/thumb/6/6e/US-NBN-MA-Lowell-986-Orig-500-206-A.jpg/212px-US-NBN-MA-Lowell-986-Orig-500-206-A.jpg\" srcset=\"//upload.wikimedia.org/wikipedia/commons/thumb/6/6e/US-NBN-MA-Lowell-986-Orig-500-206-A.jpg/318px-US-NBN-MA-Lowell-986-Orig-500-206-A.jpg 1.5x, //upload.wikimedia.org/wikipedia/commons/thumb/6/6e/US-NBN-MA-Lowell-986-Orig-500-206-A.jpg/424px-US-NBN-MA-Lowell-986-Orig-500-206-A.jpg 2x\" width=\"142\"/></a></div></div>\n",
       " <div class=\"gallerytext\">\n",
       " <p>$500 (original): Appleton National Bank, <a href=\"/wiki/Lowell,_Massachusetts\" title=\"Lowell, Massachusetts\">Lowell, Massachusetts</a>\n",
       " </p>\n",
       " </div>\n",
       " </div></li>\n",
       " <li class=\"gallerybox\" style=\"width: 135.33333333333px\"><div style=\"width: 135.33333333333px\">\n",
       " <div class=\"thumb\" style=\"width: 133.33333333333px;\"><div style=\"margin:0px auto;\"><a class=\"image\" href=\"/wiki/File:US-$1000-NBN-1875-Fr-465_(Proof).jpg\" title=\"$1000 (1875, proof): First National Bank, Salem, Massachusetts\"><img alt=\"Obverse and reverse of a one-thousand-dollar National Bank Note\" data-file-height=\"2695\" data-file-width=\"3000\" decoding=\"async\" height=\"120\" src=\"//upload.wikimedia.org/wikipedia/commons/thumb/b/b8/US-%241000-NBN-1875-Fr-465_%28Proof%29.jpg/200px-US-%241000-NBN-1875-Fr-465_%28Proof%29.jpg\" srcset=\"//upload.wikimedia.org/wikipedia/commons/thumb/b/b8/US-%241000-NBN-1875-Fr-465_%28Proof%29.jpg/301px-US-%241000-NBN-1875-Fr-465_%28Proof%29.jpg 1.5x, //upload.wikimedia.org/wikipedia/commons/thumb/b/b8/US-%241000-NBN-1875-Fr-465_%28Proof%29.jpg/401px-US-%241000-NBN-1875-Fr-465_%28Proof%29.jpg 2x\" width=\"134\"/></a></div></div>\n",
       " <div class=\"gallerytext\">\n",
       " <p>$1000 (1875, proof): First National Bank, <a href=\"/wiki/Salem,_Massachusetts\" title=\"Salem, Massachusetts\">Salem, Massachusetts</a>\n",
       " </p>\n",
       " </div>\n",
       " </div></li>\n",
       " </ul>\n",
       " <p><b><a href=\"/wiki/National_Bank_Note\" title=\"National Bank Note\">National Bank Notes</a></b> were <a href=\"/wiki/Banknotes_of_the_United_States_dollar\" title=\"Banknotes of the United States dollar\">United States banknotes</a> issued by <a href=\"/wiki/National_bank\" title=\"National bank\">national banks</a> chartered by the <a href=\"/wiki/Federal_government_of_the_United_States\" title=\"Federal government of the United States\">U.S. federal government</a>. The banknotes were usually backed by <a href=\"/wiki/Bond_(finance)\" title=\"Bond (finance)\">bonds</a> deposited by the bank with the <a href=\"/wiki/United_States_Department_of_the_Treasury\" title=\"United States Department of the Treasury\">United States Treasury</a>. In addition, banks were required to maintain a redemption fund amounting to five percent of any outstanding note balance, in gold or \"lawful money\". The banknotes were not <a href=\"/wiki/Legal_tender\" title=\"Legal tender\">legal tender</a> in general, but were satisfactory for nearly all payments to and by the federal government. They were retired as a currency type by the federal government in the 1930s, when United States currency was consolidated into <a href=\"/wiki/Federal_Reserve_Note\" title=\"Federal Reserve Note\">Federal Reserve Notes</a>, <a href=\"/wiki/United_States_Note\" title=\"United States Note\">United States Notes</a>, and <a href=\"/wiki/Silver_certificate_(United_States)\" title=\"Silver certificate (United States)\">silver certificates</a>. These nine banknotes, in denominations from $1 to $1000, were issued by various banks across the country as part of either the original or the 1875 series of National Bank Notes.\n",
       " </p>\n",
       " <p style=\"text-align:center;\"><small>Banknote design credit: <a href=\"/wiki/Office_of_the_Comptroller_of_the_Currency\" title=\"Office of the Comptroller of the Currency\">Office of the Comptroller of the Currency</a> and the <a href=\"/wiki/Bureau_of_Engraving_and_Printing\" title=\"Bureau of Engraving and Printing\">Bureau of Engraving and Printing</a>; scanned by <a href=\"/wiki/User:Godot13\" title=\"User:Godot13\">Andrew Shiva</a></small></p>\n",
       " <div class=\"potd-recent\" style=\"text-align:right;\">\n",
       " Recently featured: <div class=\"hlist hlist-separated inline\">\n",
       " <ul><li><a href=\"/wiki/Template:POTD/2022-09-27\" title=\"Template:POTD/2022-09-27\">Double-crested cormorant</a></li>\n",
       " <li><a href=\"/wiki/Template:POTD/2022-09-26\" title=\"Template:POTD/2022-09-26\"><i>Nemateleotris magnifica</i></a></li>\n",
       " <li><a href=\"/wiki/Template:POTD/2022-09-25\" title=\"Template:POTD/2022-09-25\">James Stewart</a></li></ul>\n",
       " </div></div>\n",
       " <div class=\"hlist hlist-separated potd-footer noprint\" style=\"text-align:right;\">\n",
       " <ul><li><b><a href=\"/wiki/Wikipedia:Picture_of_the_day/Archive\" title=\"Wikipedia:Picture of the day/Archive\">Archive</a></b></li>\n",
       " <li><b><a href=\"/wiki/Wikipedia:Featured_pictures\" title=\"Wikipedia:Featured pictures\">More featured pictures</a></b></li></ul>\n",
       " </div>\n",
       " </td></tr></tbody></table>]"
      ]
     },
     "execution_count": 79,
     "metadata": {},
     "output_type": "execute_result"
    }
   ],
   "source": [
    "# 1. Look for all tags called table\n",
    "tables_list = soup.find_all(name = \"table\")\n",
    "tables_list"
   ]
  },
  {
   "cell_type": "code",
   "execution_count": 80,
   "metadata": {
    "id": "A_Q1GvgVFVBV"
   },
   "outputs": [
    {
     "ename": "NameError",
     "evalue": "name 'article_table' is not defined",
     "output_type": "error",
     "traceback": [
      "\u001b[1;31m---------------------------------------------------------------------------\u001b[0m",
      "\u001b[1;31mNameError\u001b[0m                                 Traceback (most recent call last)",
      "\u001b[1;32md:\\学习\\BSE summer School\\Bootcamp_python_r\\python.ipynb Cell 295\u001b[0m in \u001b[0;36m<cell line: 9>\u001b[1;34m()\u001b[0m\n\u001b[0;32m      <a href='vscode-notebook-cell:/d%3A/%E5%AD%A6%E4%B9%A0/BSE%20summer%20School/Bootcamp_python_r/python.ipynb#Y600sZmlsZQ%3D%3D?line=5'>6</a>\u001b[0m     \u001b[39mexcept\u001b[39;00m:\n\u001b[0;32m      <a href='vscode-notebook-cell:/d%3A/%E5%AD%A6%E4%B9%A0/BSE%20summer%20School/Bootcamp_python_r/python.ipynb#Y600sZmlsZQ%3D%3D?line=6'>7</a>\u001b[0m         \u001b[39mNone\u001b[39;00m\n\u001b[1;32m----> <a href='vscode-notebook-cell:/d%3A/%E5%AD%A6%E4%B9%A0/BSE%20summer%20School/Bootcamp_python_r/python.ipynb#Y600sZmlsZQ%3D%3D?line=8'>9</a>\u001b[0m \u001b[39mprint\u001b[39m(\u001b[39m'\u001b[39m\u001b[39mobject type of \u001b[39m\u001b[39m\"\u001b[39m\u001b[39marticle_table\u001b[39m\u001b[39m\"\u001b[39m\u001b[39m is \u001b[39m\u001b[39m'\u001b[39m \u001b[39m+\u001b[39m \u001b[39mstr\u001b[39m(\u001b[39mtype\u001b[39m(article_table)) \u001b[39m+\u001b[39m \u001b[39m'\u001b[39m\u001b[39m\\n\u001b[39;00m\u001b[39m'\u001b[39m)\n",
      "\u001b[1;31mNameError\u001b[0m: name 'article_table' is not defined"
     ]
    }
   ],
   "source": [
    "# 2. Search for the table of interest by matching on the key 'id'\n",
    "for table in tables_list:\n",
    "    try:\n",
    "        if table['id'] == 'mp-upper':\n",
    "            article_table = table\n",
    "    except:\n",
    "        None\n",
    "\n",
    "print('object type of \"article_table\" is ' + str(type(article_table)) + '\\n')"
   ]
  },
  {
   "cell_type": "code",
   "execution_count": 81,
   "metadata": {
    "id": "X-uuvbTPFm8r"
   },
   "outputs": [
    {
     "ename": "NameError",
     "evalue": "name 'article_table' is not defined",
     "output_type": "error",
     "traceback": [
      "\u001b[1;31m---------------------------------------------------------------------------\u001b[0m",
      "\u001b[1;31mNameError\u001b[0m                                 Traceback (most recent call last)",
      "\u001b[1;32md:\\学习\\BSE summer School\\Bootcamp_python_r\\python.ipynb Cell 296\u001b[0m in \u001b[0;36m<cell line: 2>\u001b[1;34m()\u001b[0m\n\u001b[0;32m      <a href='vscode-notebook-cell:/d%3A/%E5%AD%A6%E4%B9%A0/BSE%20summer%20School/Bootcamp_python_r/python.ipynb#Y601sZmlsZQ%3D%3D?line=0'>1</a>\u001b[0m \u001b[39m# 3. Search for the tag \"p\"\u001b[39;00m\n\u001b[1;32m----> <a href='vscode-notebook-cell:/d%3A/%E5%AD%A6%E4%B9%A0/BSE%20summer%20School/Bootcamp_python_r/python.ipynb#Y601sZmlsZQ%3D%3D?line=1'>2</a>\u001b[0m paragraph \u001b[39m=\u001b[39m article_table\u001b[39m.\u001b[39mfindAll(name \u001b[39m=\u001b[39m \u001b[39m'\u001b[39m\u001b[39mp\u001b[39m\u001b[39m'\u001b[39m)[\u001b[39m0\u001b[39m]\n\u001b[0;32m      <a href='vscode-notebook-cell:/d%3A/%E5%AD%A6%E4%B9%A0/BSE%20summer%20School/Bootcamp_python_r/python.ipynb#Y601sZmlsZQ%3D%3D?line=2'>3</a>\u001b[0m paragraph\n",
      "\u001b[1;31mNameError\u001b[0m: name 'article_table' is not defined"
     ]
    }
   ],
   "source": [
    "# 3. Search for the tag \"p\"\n",
    "paragraph = article_table.findAll(name = 'p')[0]\n",
    "paragraph"
   ]
  },
  {
   "cell_type": "code",
   "execution_count": null,
   "metadata": {
    "id": "4gennUjOFvL4"
   },
   "outputs": [
    {
     "ename": "NameError",
     "evalue": "name 'paragraph' is not defined",
     "output_type": "error",
     "traceback": [
      "\u001b[1;31m---------------------------------------------------------------------------\u001b[0m",
      "\u001b[1;31mNameError\u001b[0m                                 Traceback (most recent call last)",
      "Input \u001b[1;32mIn [112]\u001b[0m, in \u001b[0;36m<cell line: 2>\u001b[1;34m()\u001b[0m\n\u001b[0;32m      1\u001b[0m \u001b[38;5;66;03m# 4. Extract URLs\u001b[39;00m\n\u001b[1;32m----> 2\u001b[0m urls \u001b[38;5;241m=\u001b[39m [tag[\u001b[38;5;124m'\u001b[39m\u001b[38;5;124mhref\u001b[39m\u001b[38;5;124m'\u001b[39m] \u001b[38;5;28;01mfor\u001b[39;00m tag \u001b[38;5;129;01min\u001b[39;00m \u001b[43mparagraph\u001b[49m\u001b[38;5;241m.\u001b[39mfindAll(\u001b[38;5;124m'\u001b[39m\u001b[38;5;124ma\u001b[39m\u001b[38;5;124m'\u001b[39m, href \u001b[38;5;241m=\u001b[39m \u001b[38;5;28;01mTrue\u001b[39;00m)]\n\u001b[0;32m      3\u001b[0m \u001b[38;5;28;01mfor\u001b[39;00m url \u001b[38;5;129;01min\u001b[39;00m urls:\n\u001b[0;32m      4\u001b[0m     \u001b[38;5;28mprint\u001b[39m(url)\n",
      "\u001b[1;31mNameError\u001b[0m: name 'paragraph' is not defined"
     ]
    }
   ],
   "source": [
    "# 4. Extract URLs\n",
    "urls = [tag['href'] for tag in paragraph.findAll('a', href = True)]\n",
    "for url in urls:\n",
    "    print(url)\n",
    "\n",
    "print('\\n')"
   ]
  },
  {
   "cell_type": "code",
   "execution_count": null,
   "metadata": {
    "id": "DI3zsfYbF7Ty"
   },
   "outputs": [
    {
     "ename": "NameError",
     "evalue": "name 'paragraph' is not defined",
     "output_type": "error",
     "traceback": [
      "\u001b[1;31m---------------------------------------------------------------------------\u001b[0m",
      "\u001b[1;31mNameError\u001b[0m                                 Traceback (most recent call last)",
      "Input \u001b[1;32mIn [113]\u001b[0m, in \u001b[0;36m<cell line: 3>\u001b[1;34m()\u001b[0m\n\u001b[0;32m      1\u001b[0m \u001b[38;5;66;03m# 5. Build the text of the article summary by looping through all the children and concatinating the text \u001b[39;00m\n\u001b[0;32m      2\u001b[0m text \u001b[38;5;241m=\u001b[39m \u001b[38;5;124m'\u001b[39m\u001b[38;5;124m'\u001b[39m\n\u001b[1;32m----> 3\u001b[0m \u001b[38;5;28;01mfor\u001b[39;00m ch \u001b[38;5;129;01min\u001b[39;00m \u001b[43mparagraph\u001b[49m\u001b[38;5;241m.\u001b[39mchildren:\n\u001b[0;32m      4\u001b[0m     text \u001b[38;5;241m=\u001b[39m text \u001b[38;5;241m+\u001b[39m ch\u001b[38;5;241m.\u001b[39mstring\n\u001b[0;32m      6\u001b[0m \u001b[38;5;28mprint\u001b[39m(text \u001b[38;5;241m+\u001b[39m \u001b[38;5;124m'\u001b[39m\u001b[38;5;130;01m\\n\u001b[39;00m\u001b[38;5;124m'\u001b[39m)\n",
      "\u001b[1;31mNameError\u001b[0m: name 'paragraph' is not defined"
     ]
    }
   ],
   "source": [
    "# 5. Build the text of the article summary by looping through all the children and concatinating the text \n",
    "text = ''\n",
    "for ch in paragraph.children:\n",
    "    text = text + ch.string\n",
    "\n",
    "print(text + '\\n')"
   ]
  }
 ],
 "metadata": {
  "colab": {
   "collapsed_sections": [
    "SfhOiZIJb0ha",
    "cX0AzCRYb9Aq",
    "0lSx3E5L55l5",
    "ALmxGUmT7zfK",
    "PIAmentK-wVe",
    "ttKbVcsS__75",
    "efHt1_g-BJ4i",
    "Z2E16wDvFeIZ",
    "sZtLa308Kwvr",
    "ITdXvXL9MoL4",
    "qJoRcRp5VYvo",
    "zFU8SWjVV6H6",
    "bY1ElGnIUUkc",
    "f_i9jP5UA-et",
    "VQm6-wUpSMkV",
    "arP58Ywhd6Xd",
    "8SSwdtS8dvbD",
    "ipnrDmFFEG8i",
    "neOHzwXCFDhr",
    "RCESXNfRGQhm",
    "RwSlaPsxfh_a",
    "RmxMKWj41gIu",
    "_tpBwMYBxe79",
    "-S2pP_wZ9E1b",
    "gkOY2q1Q9IFr",
    "YS858YXVHT9_",
    "KIyoQcKHWXrL",
    "pihFEbEzWdLh",
    "fhU1ztJFHGF5",
    "da9FNoY55TqQ",
    "G0JIlmbD--sJ",
    "uAx_G29H_DSa",
    "BMplqP-DJDN7",
    "RDMf69mFhHB8"
   ],
   "name": "python1.ipynb",
   "provenance": []
  },
  "kernelspec": {
   "display_name": "Python 3 (ipykernel)",
   "language": "python",
   "name": "python3"
  },
  "language_info": {
   "codemirror_mode": {
    "name": "ipython",
    "version": 3
   },
   "file_extension": ".py",
   "mimetype": "text/x-python",
   "name": "python",
   "nbconvert_exporter": "python",
   "pygments_lexer": "ipython3",
   "version": "3.9.12"
  },
  "toc": {
   "base_numbering": 1,
   "nav_menu": {},
   "number_sections": true,
   "sideBar": true,
   "skip_h1_title": false,
   "title_cell": "Table of Contents",
   "title_sidebar": "Contents",
   "toc_cell": false,
   "toc_position": {},
   "toc_section_display": true,
   "toc_window_display": false
  },
  "vscode": {
   "interpreter": {
    "hash": "db26923e0e69a166a70b3cbcb396c9413152bb378de7d250c510cbdfa28c900f"
   }
  }
 },
 "nbformat": 4,
 "nbformat_minor": 1
}
